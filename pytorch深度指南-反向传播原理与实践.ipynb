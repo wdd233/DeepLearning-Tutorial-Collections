{
 "cells": [
  {
   "cell_type": "markdown",
   "metadata": {},
   "source": [
    "pytorch会自动舍弃图中间的计算结果，所以想要获取这些中间值就要使用hook技术"
   ]
  },
  {
   "cell_type": "markdown",
   "metadata": {},
   "source": [
    "`register_forward_hook(hook)`\n",
    "注册module的一个正向传播的hook,\n"
   ]
  },
  {
   "cell_type": "code",
   "execution_count": 1,
   "metadata": {},
   "outputs": [],
   "source": [
    "import torch\n",
    "import numpy as np\n",
    "\n",
    "from torch.autograd import Variable"
   ]
  },
  {
   "cell_type": "code",
   "execution_count": 2,
   "metadata": {},
   "outputs": [
    {
     "name": "stdout",
     "output_type": "stream",
     "text": [
      "<class 'torch.nn.modules.container.Sequential'>\n",
      "_num: 0 Sequential(\n",
      "  (l1): Linear(in_features=1, out_features=13, bias=True)\n",
      "  (l2): Linear(in_features=13, out_features=12, bias=True)\n",
      ")\n",
      "_num: 1 Sequential(\n",
      "  (l1): Linear(in_features=1, out_features=13, bias=True)\n",
      "  (l2): Linear(in_features=13, out_features=12, bias=True)\n",
      ")\n",
      "_num: 2 Sequential(\n",
      "  (l1): Linear(in_features=1, out_features=13, bias=True)\n",
      "  (l2): Linear(in_features=13, out_features=12, bias=True)\n",
      ")\n",
      "_num: 3 Sequential(\n",
      "  (l1): Linear(in_features=1, out_features=13, bias=True)\n",
      "  (l2): Linear(in_features=13, out_features=12, bias=True)\n",
      ")\n",
      "_num: 4 Sequential(\n",
      "  (l1): Linear(in_features=1, out_features=13, bias=True)\n",
      "  (l2): Linear(in_features=13, out_features=12, bias=True)\n",
      ")\n",
      "Sequential(\n",
      "  (l1): Linear(in_features=1, out_features=13, bias=True)\n",
      "  (l2): Linear(in_features=13, out_features=12, bias=True)\n",
      ")\n"
     ]
    }
   ],
   "source": [
    "x = torch.nn.Sequential()\n",
    "x.add_module('l1', torch.nn.Linear(1,13))\n",
    "x.add_module('l2', torch.nn.Linear(13,12))#可以看到使用Sequential()\n",
    "print(type(x))\n",
    "y = torch.nn.ModuleList([x for i in range(5)])\n",
    "for _, i in enumerate(y):\n",
    "    print('_num:',_, i)#可以看到使用ModuleList支持迭代，支持索引，每个索引为list中相应位置的子模块网络\n",
    "print(y[1])#支持索引\n"
   ]
  },
  {
   "cell_type": "code",
   "execution_count": 3,
   "metadata": {},
   "outputs": [
    {
     "name": "stdout",
     "output_type": "stream",
     "text": [
      "tensor([[ 0.5468],\n",
      "        [-0.4557]]) torch.FloatTensor\n",
      "tensor([[ 13,   2],\n",
      "        [  3,   4]]) torch.LongTensor\n",
      "tensor([[ 1,  2],\n",
      "        [ 3,  4]]) torch.LongTensor\n"
     ]
    }
   ],
   "source": [
    "grad_list = []\n",
    "x = torch.randn(2,1)\n",
    "y = torch.tensor([[13, 2],[3, 4]])\n",
    "z = torch.tensor(np.asarray([[1, 2],[3, 4]]))#tensor构造函数比较强大，可以通过不同的ararry-like类型进行构造tensor\n",
    "print(x, x.type())\n",
    "print(y, y.type())#可以看到tensor能够自动匹配合适的数字类型\n",
    "print(z, z.type())"
   ]
  },
  {
   "cell_type": "code",
   "execution_count": 17,
   "metadata": {},
   "outputs": [
    {
     "name": "stdout",
     "output_type": "stream",
     "text": [
      "False\n"
     ]
    }
   ],
   "source": [
    "print(z.requires_grad)#默认不需要梯度"
   ]
  },
  {
   "cell_type": "code",
   "execution_count": 25,
   "metadata": {},
   "outputs": [
    {
     "ename": "RuntimeError",
     "evalue": "you can only change requires_grad flags of leaf variables.",
     "output_type": "error",
     "traceback": [
      "\u001b[0;31m---------------------------------------------------------------------------\u001b[0m",
      "\u001b[0;31mRuntimeError\u001b[0m                              Traceback (most recent call last)",
      "\u001b[0;32m<ipython-input-25-20d2c7e774c4>\u001b[0m in \u001b[0;36m<module>\u001b[0;34m()\u001b[0m\n\u001b[0;32m----> 1\u001b[0;31m \u001b[0mx\u001b[0m\u001b[0;34m.\u001b[0m\u001b[0mrequires_grad\u001b[0m \u001b[0;34m=\u001b[0m \u001b[0;32mTrue\u001b[0m\u001b[0;34m\u001b[0m\u001b[0m\n\u001b[0m\u001b[1;32m      2\u001b[0m \u001b[0my\u001b[0m \u001b[0;34m=\u001b[0m \u001b[0mtorch\u001b[0m\u001b[0;34m.\u001b[0m\u001b[0mones\u001b[0m\u001b[0;34m(\u001b[0m\u001b[0;36m2\u001b[0m\u001b[0;34m,\u001b[0m\u001b[0;36m2\u001b[0m\u001b[0;34m,\u001b[0m \u001b[0mrequires_grad\u001b[0m\u001b[0;34m=\u001b[0m\u001b[0;32mTrue\u001b[0m\u001b[0;34m)\u001b[0m\u001b[0;34m\u001b[0m\u001b[0m\n\u001b[1;32m      3\u001b[0m \u001b[0mx\u001b[0m \u001b[0;34m=\u001b[0m \u001b[0my\u001b[0m\u001b[0;34m+\u001b[0m\u001b[0mx\u001b[0m\u001b[0;34m\u001b[0m\u001b[0m\n\u001b[1;32m      4\u001b[0m \u001b[0mx\u001b[0m\u001b[0;34m.\u001b[0m\u001b[0mbackward\u001b[0m\u001b[0;34m(\u001b[0m\u001b[0;34m)\u001b[0m\u001b[0;34m\u001b[0m\u001b[0m\n",
      "\u001b[0;31mRuntimeError\u001b[0m: you can only change requires_grad flags of leaf variables."
     ]
    }
   ],
   "source": [
    "x.requires_grad = True\n",
    "y = torch.ones(2,2, requires_grad=True)\n",
    "x = y+x\n",
    "x.backward()"
   ]
  },
  {
   "cell_type": "code",
   "execution_count": 24,
   "metadata": {},
   "outputs": [
    {
     "ename": "NameError",
     "evalue": "name 'start' is not defined",
     "output_type": "error",
     "traceback": [
      "\u001b[0;31m---------------------------------------------------------------------------\u001b[0m",
      "\u001b[0;31mNameError\u001b[0m                                 Traceback (most recent call last)",
      "\u001b[0;32m<ipython-input-24-8599871874e3>\u001b[0m in \u001b[0;36m<module>\u001b[0;34m()\u001b[0m\n\u001b[1;32m      1\u001b[0m \u001b[0ml\u001b[0m \u001b[0;34m=\u001b[0m \u001b[0;34m[\u001b[0m\u001b[0;36m1\u001b[0m\u001b[0;34m,\u001b[0m\u001b[0;36m2\u001b[0m\u001b[0;34m,\u001b[0m\u001b[0;36m3\u001b[0m\u001b[0;34m,\u001b[0m\u001b[0;36m4\u001b[0m\u001b[0;34m]\u001b[0m\u001b[0;34m\u001b[0m\u001b[0m\n\u001b[0;32m----> 2\u001b[0;31m \u001b[0mprint\u001b[0m\u001b[0;34m(\u001b[0m\u001b[0ml\u001b[0m\u001b[0;34m[\u001b[0m\u001b[0mstart\u001b[0m\u001b[0;34m]\u001b[0m\u001b[0;34m)\u001b[0m\u001b[0;34m;\u001b[0m\u001b[0mstart\u001b[0m \u001b[0;34m=\u001b[0m\u001b[0;36m1\u001b[0m\u001b[0;34m\u001b[0m\u001b[0m\n\u001b[0m",
      "\u001b[0;31mNameError\u001b[0m: name 'start' is not defined"
     ]
    }
   ],
   "source": [
    "l = [1,2,3,4]\n",
    "print(l[start]);start =1"
   ]
  },
  {
   "cell_type": "code",
   "execution_count": 5,
   "metadata": {},
   "outputs": [
    {
     "name": "stdout",
     "output_type": "stream",
     "text": [
      "None\n",
      "None\n",
      "tensor([-0.3122])\n",
      "tensor([ 0.5880])\n"
     ]
    }
   ],
   "source": [
    "w1 = torch.tensor([2.], requires_grad=True)\n",
    "w2 = torch.tensor([2.], requires_grad=True)\n",
    "x2 = torch.rand(1)\n",
    "y2 = x2**w1\n",
    "z2 = w2*y2+1\n",
    "z2.backward()\n",
    "print(x2.grad)\n",
    "print(y2.grad)\n",
    "print(w1.grad)\n",
    "print(w2.grad)"
   ]
  }
 ],
 "metadata": {
  "kernelspec": {
   "display_name": "Python 3",
   "language": "python",
   "name": "python3"
  },
  "language_info": {
   "codemirror_mode": {
    "name": "ipython",
    "version": 3
   },
   "file_extension": ".py",
   "mimetype": "text/x-python",
   "name": "python",
   "nbconvert_exporter": "python",
   "pygments_lexer": "ipython3",
   "version": "3.6.6"
  }
 },
 "nbformat": 4,
 "nbformat_minor": 2
}
