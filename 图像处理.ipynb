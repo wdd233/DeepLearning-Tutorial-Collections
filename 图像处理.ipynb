{
 "cells": [
  {
   "cell_type": "markdown",
   "metadata": {},
   "source": [
    "## 边缘检测之canny\n",
    "### 算法流程\n",
    "1. 使用高斯滤波器，以平滑图像，滤出噪声\n",
    "2. 计算图像中每个像素点的梯度强度和方向\n",
    "3. 应用非极大值一直，以消除边缘检测带来的杂散响应\n",
    "4. 应用双阈值来检测确定真实的和潜在的边缘\n",
    "5. \n",
    "\n",
    "### 高斯平滑滤波\n",
    "### 计算梯度强度和方向\n",
    "图像中的边缘可以指向各个方向，因此Canny算法使用四个算子来检测图像中的水平、垂直和对角边缘。\n",
    "### 非极大值抑制\n",
    "非极大值抑制是一种边缘稀疏技术，非极大值抑制的作用在于瘦边，"
   ]
  }
 ],
 "metadata": {
  "kernelspec": {
   "display_name": "Python 3",
   "language": "python",
   "name": "python3"
  },
  "language_info": {
   "codemirror_mode": {
    "name": "ipython",
    "version": 3
   },
   "file_extension": ".py",
   "mimetype": "text/x-python",
   "name": "python",
   "nbconvert_exporter": "python",
   "pygments_lexer": "ipython3",
   "version": "3.6.6"
  }
 },
 "nbformat": 4,
 "nbformat_minor": 2
}
