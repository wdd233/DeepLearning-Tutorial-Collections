{
 "cells": [
  {
   "cell_type": "markdown",
   "metadata": {},
   "source": [
    "## Pytorch的BUG解决方案\n",
    "\n",
    "如果出现维度不匹配的问题，可以在报错前几句加上断点，查看相关tensor的维度，进行DeBug\n",
    "\n",
    "使用`nn.DataParallel()`进行并行，使用debug只能看到每张显卡上的batchsize，不是真实训练的batchsize"
   ]
  }
 ],
 "metadata": {
  "kernelspec": {
   "display_name": "Python 3",
   "language": "python",
   "name": "python3"
  },
  "language_info": {
   "codemirror_mode": {
    "name": "ipython",
    "version": 3
   },
   "file_extension": ".py",
   "mimetype": "text/x-python",
   "name": "python",
   "nbconvert_exporter": "python",
   "pygments_lexer": "ipython3",
   "version": "3.6.7"
  }
 },
 "nbformat": 4,
 "nbformat_minor": 2
}
