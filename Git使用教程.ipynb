{
 "cells": [
  {
   "cell_type": "markdown",
   "metadata": {},
   "source": [
    "# Git 实用教程\n",
    "版本控制系统，linus大神，开源软件  \n",
    "开源乃编程之禅  \n",
    "优秀的程序员将更多的精力放在程序的设计上!  \n",
    "官方manual [Git manual](https://git-scm.com/docs)  \n",
    "git的所有操作是建立了`commit`之上的，只有commit之后才算做为真正的版本，本地目录的改动不被认可！！"
   ]
  },
  {
   "cell_type": "markdown",
   "metadata": {},
   "source": [
    "## 初次使用Git前的配置\n",
    "`git config --global user.name '用户名'`配置用户名  \n",
    "`git config --global user.email '邮箱'`配置邮箱  \n",
    "`git config --list`显示所有配置信息  "
   ]
  },
  {
   "cell_type": "code",
   "execution_count": null,
   "metadata": {
    "collapsed": true
   },
   "outputs": [],
   "source": [
    "git config user.name = \"xxxx\"\n",
    "git config remote.origin.url=\"git@xxx\""
   ]
  },
  {
   "cell_type": "markdown",
   "metadata": {},
   "source": [
    "## 命令行模式\n",
    "A:Git记录的是什么?  \n",
    "Q:总而言之：  \n",
    "**Git维护三棵树**\n",
    "***\n",
    "Working Directory(Project)：平时存放项目的地方  \n",
    "Stage(index)：临时存放你的改动  \n",
    "Repository(Head)：最终存放你数据  \n",
    "Remote(github):远程仓库,云仓库  \n",
    "***\n",
    "* git的工作流程\n",
    " * 在工作目录中添加、修改文件\n",
    " * 将需要进行版本管理的文件放入暂存区域\n",
    " * 将暂存区域的文件提交到Git仓库\n",
    "* Git管理文件有三种状态\n",
    " - 已修改(modified)\n",
    " - 已暂存(staged)\n",
    " - 已提交(committed)\n",
    "***"
   ]
  },
  {
   "cell_type": "markdown",
   "metadata": {},
   "source": [
    "## 实战\n",
    "1.在电脑上面建立一个大本营(文件夹，存放自己的项目),终端输入<br/>\n",
    "`git init`会在当前目录下自动创建一个隐藏的文件夹`.git`，它是用来跟踪管理版本迭代的，眼看手勿动<br>\n",
    ">注意在终端运行要切换到当前目录，git init 是在终端当前路径下建立的\n",
    "\n",
    "2.创建一个README.md文档，给使用者看，`git add README.md`，将文件放入暂存区域<br>\n",
    "3.`git commit -m ‘add a readme file`,将项目提交到仓库\n",
    ">`git commit -m '你干了啥'`每一次提交要写一个注释，这是提交你干了啥子\n",
    "一旦将文件提交到git，就需要收到git的管理和跟踪,可能被git嘿嘿嘿\n",
    "\n",
    "4.`git clone [url]`用于获取远程项目的copy到本地"
   ]
  },
  {
   "cell_type": "markdown",
   "metadata": {},
   "source": [
    "## MIT协议\n",
    "MIT协议是非常宽松的，简单说来就是你可以随便使用我的程序"
   ]
  },
  {
   "cell_type": "markdown",
   "metadata": {},
   "source": [
    "### 查看状态\n",
    "看一下当前目录中文件的状态，哪些是新添加的，哪些是发生变化的,这个git status就像一个监视者，时刻关注着可以被git新来客户\n",
    "` git status `<br>\n",
    "》On branch master<br/>\n",
    "nothing to commit,working directory clean<br/>\n",
    "表示当前文件里没有需要提交的文件(针对当前文件都没有变化的),如果你此时在当前目录下添加一个**新的文件License.txt**后，再次执行<br>\n",
    "`git status`<br>\n",
    "就会出现提示<br>\n",
    "》`<use 'git add <file>'>` to include in what will be committed<br/>\n",
    "会提示是否有"
   ]
  },
  {
   "cell_type": "markdown",
   "metadata": {},
   "source": [
    "### 增加/删除文件\n",
    "` git add [file or dir]`将文件或者文件夹送入暂存区<br>\n",
    "`git add .`添加当前目录下所有文件到暂存区<br>\n",
    "`git rm [file1] [file2]`删除工作区和暂存区内的文件，也就是取消跟踪<br>\n",
    "`git rm -f [file1] [file2]`强制删除工作区和暂存区内的文件，如果对工作区和暂存区文件的内容不一致(发生了修改)，使用普通rm会报错\n",
    "`git rm --cached [file]`删除暂存区中的文件<br>\n",
    "`git mv [file-previous] [file-renamed]`改名文件，并将这个改名提交暂存区<br>\n",
    "注意，在暂存区中成功添加文件后系统不会有提示，只有commit提交才会提示。\n",
    ">注意:1.被commit成功的文件才会被追踪，一旦被git追踪后，文件的删除最好使用git指令进行删除，如果手动在文件目录下删除文件，这些动作并不会被git记录下来。同样的道理，一旦对文件使用了git，他就休想轻易逃出Git的魔掌<br>\n",
    "2.如果是个空文件夹，commit将不会被认可<br>\n",
    "3.git没有那么智能，如果随意更改其中一个被追踪的文件，会导致git以为删除了旧文件并且添加了一个新的文件，如果需要更改文件名字，要使用`git mv`指令，commit一下放到仓库中就好了。"
   ]
  },
  {
   "cell_type": "markdown",
   "metadata": {},
   "source": [
    "### 提交和回到过去\n",
    "`git commit -m 'commit License.txt file'`提交暂存区的所有文件到仓库区，`-m [message]`后面跟本次提交修改的信息<br>\n",
    "`git commit [file1] [file2]`提交暂存区指定文件到仓库区<br>\n",
    "**或者给你一个反悔的机会**<br>\n",
    "`git reset HEAD～` 撤销上一次的操作，恢复到暂存区域Stage,HEAD是指向log的顶端,HEAD~便是上一次提交的<br>\n",
    "`git reset HEAD～ [file]`指定恢复的文件<br>\n",
    ">`git reset --mixed`此为默认方式，不带任何参数的git reset，即时这种方式，它回退到某个版本，只保留源码，回退commit和index信息<br>\n",
    "`git reset --soft`回退到某个版本，只回退了commit的信息，不会恢复到index file一级。如果还要提交，直接commit即可<br>\n",
    "`git reset  --hard`彻底回退到某个版本，本地的源码也会变为上一个版本的内容，此命令 慎用！<br>\n",
    "\n",
    "---------------------\n",
    "\n",
    "**如果我们**<br>\n",
    "`git checkout .`将暂存区的所有文件放入工作区，这一操作会导致本地目录文件被更改\n",
    "`git checkout --License`将暂存区域的文件恢复到工作目录<br>\n",
    "***\n",
    "----------add---->....>--commit--><br>\n",
    "working<-------->Stage<-------->Repository<br>\n",
    "<----checkout----<....<----reset----<.....<br/>\n",
    ">注意：直接使用`git commit`会弹出一个vim窗口，让你编写此次提交的说明，这个使用的就是vim的操作。"
   ]
  },
  {
   "cell_type": "markdown",
   "metadata": {},
   "source": [
    "### log提交日志\n",
    "`git log`产看历史提交记录,地址使用了哈希校验和\n",
    "```\n",
    "commit 206f496b651439c2737a749e87cf30fb311d5077\n",
    "Author: ellisonWangDD <1556905690@qq.com>\n",
    "Date:   Wed Aug 15 13:23:01 2018 +0800\n",
    "```\n",
    "`git show`查看具体的变化"
   ]
  },
  {
   "cell_type": "markdown",
   "metadata": {},
   "source": [
    "## 回到过去\n",
    "HEAD(Repo)指向提交的最新的版本，\n",
    "`git reset HEAD~[number]`HEAD指向上number个快照<br>\n",
    "`git reset --mixed HEAD~`值<br>\n",
    "`git reset --soft HEAD~ `移动了HEAD的指向，没有发生实质性操作(改动工作区和暂存区)，这个操作相当于不影响add，只是撤回了上一次的commit命令<br>\n",
    "`git reset --hard HEAD~ `撤销上一个操作，直接影响文件目录(改动工作区和暂存区文件)<br>"
   ]
  },
  {
   "cell_type": "markdown",
   "metadata": {},
   "source": [
    "### reset 回滚快照三部曲\n",
    "1.移动HEAD的指向(--soft)<br>\n",
    "2.将快照回滚到暂存目录stage([--mixed],默认)<br>\n",
    "3.将暂存区域还原到工作目录(--hard)<br>\n",
    ">**指定回滚快照：git reset a5be0**<br>\n",
    "\n",
    "回滚个别文件git reset <file>但是不会改变HEAD指针"
   ]
  },
  {
   "cell_type": "markdown",
   "metadata": {
    "collapsed": true
   },
   "source": [
    "## 区别命令\n",
    "找茬命令，找到提交文件的区别<br/>\n",
    "`git -diff a/<暂存区域的文件> b/<工作区域的文件> `比较两个文件的区别"
   ]
  },
  {
   "cell_type": "markdown",
   "metadata": {},
   "source": [
    "### 修改提交说明\n",
    "`git commit --amend -m '[new statement]'`给上一次"
   ]
  },
  {
   "cell_type": "markdown",
   "metadata": {},
   "source": [
    "## Git分支\n",
    "最傲娇的技能<br>\n",
    "克隆一个拥有一万个提交，5个分支的操作，增量文件系统，新的快照存放的是旧的快照不同的那部分，git会耗费更多的空间，但是在速度和效率上<br>\n",
    "`git branch`列出本地所有的分支<br>\n",
    "`git branch [branch-name]` #创建一个新的分支，但是仍停留在当前分支<br>\n",
    "`git log --decorate`查看详细的版本情况<br>\n",
    "`git branch -d [branch-name]`#删除一个分支<br>\n",
    "`git checkout [branch-name]` #切换分支,并且更新工作区和暂存区文件，同时把HEAD指向当前分支。<br>\n",
    "`git push origin [branch-name]`#将该分支推送到远程仓库<br>\n",
    ">注意一下：\n",
    "* 使用`git checkout`命令的时候，他使用HEAD中的最新内容替换掉工作目录的文件，添加到暂存区的 改动和新 文件都不会受影响<br/>\n",
    "* 使用git branch 查看所有的分支,当前分支前面有个*号<br>\n",
    "* 不论在哪个分支中，所有的提交记录都是共享的,使用`git log`查看的时候会发现所有分支的提交记录都在"
   ]
  },
  {
   "cell_type": "markdown",
   "metadata": {},
   "source": [
    "`git pull`是`git fetch`后跟`git merge FETCH_HEAD`的缩写，更准确的说，`git pull`使用给定的参数运行，并调用`git merge`将检索到的分支合并到当前分支中"
   ]
  },
  {
   "cell_type": "markdown",
   "metadata": {},
   "source": [
    "## git分支合并\n",
    "`git merge 分支名称`将<分支名称>合并到当前分支"
   ]
  },
  {
   "cell_type": "markdown",
   "metadata": {},
   "source": [
    ">对于文件级别的恢复，使用`checkout`和`reset`命令都可以恢复制定快照的指定文件，他们都不会改变HEAD指针的指向。\n",
    "他们的区别是`reset`命令直降指定文件恢复到暂存区域，而`checkout`命令是同时覆盖暂存区域和工作目录，这样看来，在恢复文件方面，reset比checkout更安全一些。\n"
   ]
  },
  {
   "cell_type": "markdown",
   "metadata": {},
   "source": [
    "# Github远程同步\n",
    "## 基本概念\n",
    "* 仓库Repository \n",
    "* 收藏star(100个star挺牛逼)，方便下次查看\n",
    "* 复制克隆Fork分叉\n",
    ">一个Repository对应一个开源项目"
   ]
  },
  {
   "cell_type": "markdown",
   "metadata": {},
   "source": [
    "* 发起请求Pull Request\n",
    "发起请求，这个是基于Fork的。如果你在感觉别人的代码很好，可以fork到自己的从仓库中，你并且在他们的基础上做出了改进，你可以发起一个Pull Request请求给原主，如果他觉得的确可行，他就能够接受，你的改进就合并到原来的仓库中了。\n",
    "* 关注Watch 以后这个项目有任何更新，你都会收到\n",
    "* 事务卡片Issue，社交功能，发现程序的bug，与作者交流"
   ]
  },
  {
   "cell_type": "markdown",
   "metadata": {},
   "source": [
    "* `git remote add origin 远程仓库的地址`\n",
    ">后面的链接是在github上面建立Repository后的仓库连接\n",
    "* `git push -u orgin master`提交这个分支到远程仓库"
   ]
  },
  {
   "cell_type": "markdown",
   "metadata": {},
   "source": [
    "### 推送到github的demo\n",
    "添加`origin`的地址,然后`git push origin master`即可"
   ]
  },
  {
   "cell_type": "code",
   "execution_count": null,
   "metadata": {
    "collapsed": true
   },
   "outputs": [],
   "source": [
    "git add README.md\n",
    "git commit -m \"first commit\"\n",
    "git remote add origin git@github.com:XXXXX/demo.git#此处使用的是ssh地址,ssh推送只能用于自己的仓库  　　　\n",
    "git push -u origin master#推送到master分支"
   ]
  },
  {
   "cell_type": "markdown",
   "metadata": {},
   "source": [
    "在本地编写文件代码和提交，维护管理自己的文件版本自娱自乐，但这样意义不是很大，在这里介绍如何与其他的开发人员协同开发工作：每个开发人员都可以提交自己贡献的代码，并让其他人看到和修改。\n",
    "要协同多人一起工作，可以通过修改操作代码将文件最后一个确定版本提交，然后推送变更。推送(push)操作将数据永久存储到Git仓库中，成功的推送操作后，其他开发人员可以看到新提交的变化。"
   ]
  },
  {
   "cell_type": "markdown",
   "metadata": {},
   "source": [
    "`git fetch <远程主机名> <分支名>`将从远程仓库中取回所有的分支到**本地仓库**<br>\n",
    "`git branch -r `可以查看远程所有分支，r是remote的意思\n",
    "远程仓库分支名写法为`origin/master`\n",
    "`git checkout -b newBranch orgin/master`取回远程主机的更新后，可以使用git checkout创建一个新的分支"
   ]
  },
  {
   "cell_type": "markdown",
   "metadata": {},
   "source": [
    "`git merge [-n] [--stat] [--no-commit] [--squash] [--[no-]edit]\n",
    "    [-s <strategy>] [-X <strategy-option>] [-S[<keyid>]]\n",
    "    [--[no-]allow-unrelated-histories]\n",
    "    [--[no-]rerere-autoupdate] [-m <msg>] [<commit>…​]\n",
    "git merge --abort\n",
    "git merge --continue`<br>\n",
    "在取回远程的更新后，进行在本地分支上进行合并\n",
    "`git merge <branch>`将分支branch合并到当前分支"
   ]
  },
  {
   "cell_type": "markdown",
   "metadata": {},
   "source": [
    "* `git clone 仓库地址`\n",
    "* `git pull `更新本地仓库至最新改动, pull相当于是`fetch+merge`\n",
    "\n",
    "* 同步=pull+push，在很多的图形化版本控制中，e.g.:VS,Pycharm都有同步这个选项，同步之后会push到远程\n",
    ">使用git clone url后，自动回创建一个名为origin的远端链接，指向Mary所fork的仓库"
   ]
  },
  {
   "cell_type": "markdown",
   "metadata": {},
   "source": [
    "**Note：**同步根据commit的版本进行比对，如果本地和\n",
    "如果本地和远程`commit`不一致(remote有本地不包含的commit)，必须同步一次，本地仓库必须包含所有远程的commit，这样才能进行push，否则会失败，这也就是为什么需要先pull才能push的原因！！\n",
    "\n",
    "在`pull`的时候，会与本地合并`commit`，如果本地拥有所有remote的`commit`，pull的时候不有有任何改动\n",
    "\n",
    "总而言之，本地仓库更重要，要求具备所有的`commit`\n",
    "\n",
    "普通的`reset`只会造成暂存区的变更，使用`checkout`可以将暂存区中的内容释放到实际的工作路径"
   ]
  },
  {
   "cell_type": "markdown",
   "metadata": {},
   "source": [
    "## Pull Request\n",
    "Pull Request是一种机制，它告诉所有参与者，他们需要审查提交的代码，并将代码并入master分支。\n",
    "PullRequest不只是一个通知，还是一个专注于某个提议功能的讨论版。\n",
    "Pull Request是如何工作的：\n",
    "Pull Request需要两个不同的分支或是两个不同的仓库，\n",
    "1.开发者在他们的本地仓库中为某个功能创建一个专门的分支<br>\n",
    "2.开发者将分支推送到公共的Github仓库<br>\n",
    "3.开发者用Github发起一个Pull Request<br>\n",
    "4.其余团队成员审查代码，讨论并且作出修改<br>\n",
    "5.项目维护者将这个功能并入官方的仓库，然后关闭这个Pull Request<br>\n",
    "\n"
   ]
  },
  {
   "cell_type": "markdown",
   "metadata": {},
   "source": [
    "例子：\n",
    "Ellison是一位开发者，John是项目的维护者。John的仓库之一便是下面的官方项目。\n",
    "为了参与到这个项目中，Ellison首先要做的是fork属于John的Github仓库，之后Ellison便在服务器端有了一个项目的副本。\n",
    "接下来，Ellison需要将杠杆fork的Github仓库clone到本地开发"
   ]
  },
  {
   "cell_type": "code",
   "execution_count": null,
   "metadata": {
    "collapsed": true
   },
   "outputs": [],
   "source": [
    "git clone url"
   ]
  },
  {
   "cell_type": "markdown",
   "metadata": {},
   "source": [
    "在Ellison开发之前，需要新建一个新的分支，这个分支将是随后发起Pull Request时要用到的源分支"
   ]
  },
  {
   "cell_type": "code",
   "execution_count": null,
   "metadata": {
    "collapsed": true
   },
   "outputs": [],
   "source": [
    "git checkout -b some-feature\n",
    "git commit -m 'new feature'\n"
   ]
  },
  {
   "cell_type": "markdown",
   "metadata": {},
   "source": []
  },
  {
   "cell_type": "markdown",
   "metadata": {},
   "source": [
    "## Github Issues\n",
    "* 作用：发现diamanteBUG，但是目前没有成型代码，但是需要与作者进行交流\n",
    "* 使用方法：访问他人的Isuue，create an issue"
   ]
  },
  {
   "cell_type": "markdown",
   "metadata": {},
   "source": [
    "## Git速查表\n",
    "![jupyter](./jupyter_png/git.jpeg)"
   ]
  },
  {
   "cell_type": "markdown",
   "metadata": {},
   "source": [
    "## 问题集锦\n",
    "如果远程仓库发生了版本改动，本地也发生了版本改动，二者不一致，pull的时候会发生冲突，在sourceTree中会出现 `合并冲突`。可以找到冲突文件(在文件状态中可以看到左边有个⚠️)，此时通过查看所有的冲突项手动解决冲突，也可以直接确定使用哪个版本，方法为右键该文件有一个解决冲突，可以选择使用自己的版本或者别人的版本，解决了冲突后可以commit一下这个merge，然后就可以愉快地向远程仓库push啦🌶。"
   ]
  }
 ],
 "metadata": {
  "kernelspec": {
   "display_name": "Python 3",
   "language": "python",
   "name": "python3"
  },
  "language_info": {
   "codemirror_mode": {
    "name": "ipython",
    "version": 3
   },
   "file_extension": ".py",
   "mimetype": "text/x-python",
   "name": "python",
   "nbconvert_exporter": "python",
   "pygments_lexer": "ipython3",
   "version": "3.6.8"
  }
 },
 "nbformat": 4,
 "nbformat_minor": 2
}
