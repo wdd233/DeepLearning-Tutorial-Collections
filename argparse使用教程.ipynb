{
 "cells": [
  {
   "cell_type": "code",
   "execution_count": 3,
   "metadata": {},
   "outputs": [
    {
     "name": "stdout",
     "output_type": "stream",
     "text": [
      "['/home/wdd/anaconda3/lib/python3.6/site-packages/ipykernel_launcher.py', '-f', '/run/user/1000/jupyter/kernel-b2a3a325-0176-4f17-9cc8-452438d07dd2.json']\n"
     ]
    }
   ],
   "source": [
    "import argparse\n",
    "import sys\n",
    "parse=argparse.ArgumentParser(description='test parsing arguments')\n",
    "parse.add_argument('pos1',nargs='*')\n",
    "parse.add_argument('pos2')\n",
    "parse.add_argument('-o1')\n",
    "parse.add_argument('-o2')\n",
    "parse.add_argument('pos3',nargs='*')\n",
    "print (sys.argv)"
   ]
  },
  {
   "cell_type": "markdown",
   "metadata": {},
   "source": [
    "# 使用方法解析\n",
    "在 add_argument 添加参数规则的时候，我们把带 '-' 的叫做选项参数，不带 '-' 的叫做位置参数。 下面我们以位置参数为例\n",
    "在上面的代码中 通过 add_argument 添加了 pos1,pos2,pos3 三个位置参数，他们构成的 正则表达式为 A*AA*，其中A*代表匹配0个或多个值。\n",
    "在测试例子1中的参数列表中，首先遇到位置参数 a b c ，这正好与 A*AA*的模式匹配，即 pos1=[a,b] pos2=c, pos3=[]，因为A*AA*是贪婪匹配模式，即尽可能多的得到值，所以pos1=[a,b]而pos3=[]\n",
    "在测试例子4中的参数列表中，A*AA* 匹配到参数列表中的 c d e f g h, 在贪婪匹配模式下，即可得到 pos1=[c,d,e,f,g], pos2=h, pos3=[]\n",
    "通过分析上面两个例子，我们只需要记住 argparse 解析参数是根据 add_argument 添加的规则来进行模式匹配。就可以较好的理解解析的结果了！"
   ]
  }
 ],
 "metadata": {
  "kernelspec": {
   "display_name": "Python 3",
   "language": "python",
   "name": "python3"
  },
  "language_info": {
   "codemirror_mode": {
    "name": "ipython",
    "version": 3
   },
   "file_extension": ".py",
   "mimetype": "text/x-python",
   "name": "python",
   "nbconvert_exporter": "python",
   "pygments_lexer": "ipython3",
   "version": "3.6.6"
  }
 },
 "nbformat": 4,
 "nbformat_minor": 2
}
