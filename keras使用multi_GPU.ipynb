{
 "cells": [
  {
   "cell_type": "code",
   "execution_count": null,
   "metadata": {},
   "outputs": [],
   "source": [
    "keras.utils.multi_gpu_model(model, gpus=None, cpu_merge=True, cpu_relocaiton=False)\n",
    "Arguments:  \n",
    "    * model: keras模型实例，为了避免内存不够，本次模型在CPU上面创建\n",
    "    * gpus: gpu的数量或者是GPU的IDs\n",
    "    * cpu_merge: 是否在CPU上面合并模型权重\n",
    "    * cpu_relocation: 是否在cpu上面创建模型"
   ]
  },
  {
   "cell_type": "markdown",
   "metadata": {},
   "source": [
    "复制模型到多块GPU上面\n",
    "单机多GPU并行的原则如下：  \n",
    "* 将模型的输入分成多个子batch\n",
    "* 将模型拷贝到多个GPU上面，每块GPU分别跑不同的子batch\n",
    "* 在CPU上合并每块GPU输出的结果\n"
   ]
  },
  {
   "cell_type": "code",
   "execution_count": null,
   "metadata": {},
   "outputs": [],
   "source": [
    "model = Xception(weights=None, ..)\n",
    "try:\n",
    "    parallel_model = multi_gpu_model(model, cpu_merge=False)\n",
    "except:\n",
    "    parallel_model = model\n",
    "    print(\"Training usining on single GPU or CPU\")\n",
    "parallel_model.compile(..)"
   ]
  }
 ],
 "metadata": {
  "kernelspec": {
   "display_name": "Python 3",
   "language": "python",
   "name": "python3"
  },
  "language_info": {
   "codemirror_mode": {
    "name": "ipython",
    "version": 3
   },
   "file_extension": ".py",
   "mimetype": "text/x-python",
   "name": "python",
   "nbconvert_exporter": "python",
   "pygments_lexer": "ipython3",
   "version": "3.6.7"
  }
 },
 "nbformat": 4,
 "nbformat_minor": 2
}
