{
 "cells": [
  {
   "cell_type": "markdown",
   "metadata": {},
   "source": [
    "使用的是scikit-learn库中的neighbors.KNeighborsClassifier，K最近邻分类功能"
   ]
  },
  {
   "cell_type": "code",
   "execution_count": 1,
   "metadata": {},
   "outputs": [],
   "source": [
    "from sklearn import neighbors"
   ]
  },
  {
   "cell_type": "code",
   "execution_count": 2,
   "metadata": {},
   "outputs": [],
   "source": [
    "knn=neighbors.KNeighborsClassifier(n_neighbors=5,weights='uniform',algorithm='auto',leaf_size=30,p=2,metric='minkowski',metric_params=None,n_jobs=-1)"
   ]
  },
  {
   "cell_type": "markdown",
   "metadata": {},
   "source": [
    "n_neighbors就是kNN里的k，就是在分类时，我们选取问题点最近临点个数<br>\n",
    "weights实在进行分类时给近邻上的加权，默认的uniform是等权重加权<br>\n",
    "algorithm是分类时采用的算法，有‘brute’，‘kd_tree’，和‘ball_tree’<br>\n",
    "leaf_size是kd_tree或ball_tree上生成树的树叶(树叶就是二叉树中没有分支的节点)的大小。<br>\n",
    "metric和p，是距离函数,如果metric=‘minkowski’，计算公式如下：$d((x_1,...x_n),((y_1,...y_n)))=(\\sum _{i=1}^n|x_i-y_i|^p)^\\frac{1}{p}$,当p=2时，就是欧氏距离<br>\n",
    "n_jobs是并行计算的线程数量，默认是1，-1则设为CPU的内核数<br>\n",
    "在创建了一个分类器后，我们需要给他数据来进行学习。这时需要把训练数据传递给fit()来进行拟合功能"
   ]
  },
  {
   "cell_type": "code",
   "execution_count": 3,
   "metadata": {},
   "outputs": [
    {
     "ename": "NameError",
     "evalue": "name 'X' is not defined",
     "output_type": "error",
     "traceback": [
      "\u001b[0;31m---------------------------------------------------------------------------\u001b[0m",
      "\u001b[0;31mNameError\u001b[0m                                 Traceback (most recent call last)",
      "\u001b[0;32m<ipython-input-3-93c77ec45d7c>\u001b[0m in \u001b[0;36m<module>\u001b[0;34m()\u001b[0m\n\u001b[0;32m----> 1\u001b[0;31m \u001b[0mknn\u001b[0m\u001b[0;34m.\u001b[0m\u001b[0mfit\u001b[0m\u001b[0;34m(\u001b[0m\u001b[0mX\u001b[0m\u001b[0;34m,\u001b[0m\u001b[0my\u001b[0m\u001b[0;34m)\u001b[0m\u001b[0;34m\u001b[0m\u001b[0m\n\u001b[0m",
      "\u001b[0;31mNameError\u001b[0m: name 'X' is not defined"
     ]
    }
   ],
   "source": [
    "knn.fit(X,y)"
   ]
  },
  {
   "cell_type": "markdown",
   "metadata": {},
   "source": [
    "X是一个list或array的数据，每一组数据可以是tuple也可以是list或者一维array，但是要注意所有数据的长度必须一样(等同于特征的数量)。当然，也可以把X理解为一个矩阵，其中每一行表示一个样本的特征数据。\n",
    "y是一个和X等同长度的list或array，其中每个元素是X对应数据的分类标签"
   ]
  },
  {
   "cell_type": "code",
   "execution_count": null,
   "metadata": {},
   "outputs": [],
   "source": [
    "knn.predict(X)"
   ]
  },
  {
   "cell_type": "markdown",
   "metadata": {},
   "source": [
    "最常用的预测功能。输入X待预测的的list或array的坐标，则输出y是一个长度相同的array，y[i]是通过kNN分类对x[i]所预测的分类标签。"
   ]
  },
  {
   "cell_type": "code",
   "execution_count": 4,
   "metadata": {},
   "outputs": [],
   "source": [
    "import random\n",
    "from sklearn import neighbors\n",
    "import numpy as np\n",
    "import matplotlib.pyplot as plt\n",
    "from matplotlib.colors import ListedColormap\n",
    "from sklearn.datasets import make_gaussian_quantiles as gaussian"
   ]
  },
  {
   "cell_type": "code",
   "execution_count": 22,
   "metadata": {},
   "outputs": [
    {
     "data": {
      "image/png": "[encoded data removed]",
      "text/plain": [
       "<Figure size 432x288 with 1 Axes>"
      ]
     },
     "metadata": {},
     "output_type": "display_data"
    }
   ],
   "source": [
    "X1,y1=gaussian(cov=1,n_samples=300,mean=(47,5),n_features=2,random_state=1)#使用内置的高斯分布默认各个维度上方差为1，不能更改\n",
    "X2,y2=gaussian(cov=1,n_samples=300,mean=(45,6),n_features=2,random_state=1)\n",
    "X3,y3=gaussian(cov=1,n_samples=300,mean=(45,2.5),n_features=2,random_state=1)\n",
    "plt.scatter(X1[:,0],X1[:,1],c='b',marker='s',s=1,alpha=1)\n",
    "plt.scatter(X2[:,0],X2[:,1],c='r',marker='s',s=1,alpha=1)\n",
    "plt.scatter(X3[:,0],X3[:,1],c='g',marker='s',s=1,alpha=1)\n",
    "X=np.concatenate((X1,X2,X3),axis=0)#通过合并三个子集构成一个完整的数据集,axis=0??\n"
   ]
  },
  {
   "cell_type": "code",
   "execution_count": 23,
   "metadata": {},
   "outputs": [
    {
     "name": "stdout",
     "output_type": "stream",
     "text": [
      "(900, 1) (900, 1)\n"
     ]
    }
   ],
   "source": [
    "x_diff=max(X[:,0])-min(X[:,0])\n",
    "y_diff=max(X[:,1])-min(X[:,1])\n",
    "X_normalized=np.asarray([x/x_diff for x in X[:,0]])\n",
    "Y_normalized=np.asarray([x/y_diff for x in X[:,1]])\n",
    "X_normalized=X_normalized.reshape((-1,1))\n",
    "Y_normalized=Y_normalized.reshape((-1,1))\n",
    "print(X_normalized.shape,Y_normalized.shape)\n"
   ]
  },
  {
   "cell_type": "code",
   "execution_count": 26,
   "metadata": {},
   "outputs": [
    {
     "name": "stdout",
     "output_type": "stream",
     "text": [
      "(900, 2)\n"
     ]
    },
    {
     "data": {
      "image/png": "[encoded data removed]",
      "text/plain": [
       "<Figure size 432x288 with 1 Axes>"
      ]
     },
     "metadata": {},
     "output_type": "display_data"
    }
   ],
   "source": [
    "X=np.concatenate((X_normalized,Y_normalized),axis=1)\n",
    "plt.scatter(X[:,0],X[:,1],c='b',marker='s',s=1,alpha=1)\n",
    "print(X.shape)"
   ]
  },
  {
   "cell_type": "code",
   "execution_count": 29,
   "metadata": {},
   "outputs": [
    {
     "data": {
      "text/plain": [
       "KNeighborsClassifier(algorithm='auto', leaf_size=30, metric='minkowski',\n",
       "           metric_params=None, n_jobs=-1, n_neighbors=5, p=2,\n",
       "           weights='uniform')"
      ]
     },
     "execution_count": 29,
     "metadata": {},
     "output_type": "execute_result"
    }
   ],
   "source": [
    "labels=[1]*300+[2]*300+[3]*300#list的*操作应该被重载过，[]*n相当于复制n个\n",
    "labels=np.asarray(labels)\n",
    "knn=neighbors.KNeighborsClassifier(n_neighbors=5,weights='uniform',algorithm='auto',leaf_size=30,p=2,metric='minkowski',metric_params=None,n_jobs=-1)\n",
    "knn.fit(X,labels)"
   ]
  },
  {
   "cell_type": "code",
   "execution_count": 53,
   "metadata": {},
   "outputs": [],
   "source": [
    "testdata,_=gaussian(cov=1,n_samples=200,mean=(5.4,0.2),n_features=2,random_state=1)\n"
   ]
  },
  {
   "cell_type": "code",
   "execution_count": 56,
   "metadata": {},
   "outputs": [
    {
     "name": "stdout",
     "output_type": "stream",
     "text": [
      "a 34 b 66 c 100\n"
     ]
    }
   ],
   "source": [
    "knn.predict(testdata)#预测点属于\n",
    "a,b,c=(0,0,0)\n",
    "for x in knn.predict(testdata):#统计一下所属分类的情况\n",
    "    if x==1:\n",
    "        a=a+1\n",
    "    if x==2:\n",
    "        b=b+1\n",
    "    if x==3:\n",
    "        c=c+1\n",
    "print('a',a,'b',b,'c',c)"
   ]
  },
  {
   "cell_type": "code",
   "execution_count": 57,
   "metadata": {},
   "outputs": [
    {
     "data": {
      "text/plain": [
       "<matplotlib.collections.PathCollection at 0x7f990caa3ef0>"
      ]
     },
     "execution_count": 57,
     "metadata": {},
     "output_type": "execute_result"
    },
    {
     "data": {
      "image/png": "[encoded data removed]",
      "text/plain": [
       "<Figure size 432x288 with 1 Axes>"
      ]
     },
     "metadata": {},
     "output_type": "display_data"
    }
   ],
   "source": [
    "plt.scatter(testdata[:,0],testdata[:,1])#看一下测试数据的分布情况，嘻嘻"
   ]
  },
  {
   "cell_type": "code",
   "execution_count": 33,
   "metadata": {},
   "outputs": [
    {
     "data": {
      "text/plain": [
       "array([[0.4, 0.6, 0. ]])"
      ]
     },
     "execution_count": 33,
     "metadata": {},
     "output_type": "execute_result"
    }
   ],
   "source": [
    "knn.predict_proba([(5.9,0.5)])#测试点属于分类的概率"
   ]
  },
  {
   "cell_type": "markdown",
   "metadata": {},
   "source": [
    "# 手撸kd树实现knn\n"
   ]
  },
  {
   "cell_type": "code",
   "execution_count": 76,
   "metadata": {},
   "outputs": [],
   "source": [
    "class kdtree(object):\n",
    "    def __init__(self, point_list, depth=0, root=None):\n",
    "        if len(point_list)>0:\n",
    "            k = len(point_list[0][0])\n",
    "            axis = depth%k\n",
    "            point_list.sort(key=lambda x:x[0][axis])\n",
    "            median = len(point_list)//2\n",
    "            self.axis = axis\n",
    "            self.root = root\n",
    "            self.size = len(point_list)\n",
    "            #造节点\n",
    "            self.node = point_list[median]\n",
    "            if len(point_list[:median])>0:\n",
    "                self.right = kdtree(point_list[:median], depth+1, self)\n",
    "            else:\n",
    "                self.left = None\n",
    "            if len(point_list[median+1:])>0:\n",
    "                self.right = kdtree(point_list[median+1:], depth+1, self)\n",
    "            else:\n",
    "                self.right = None\n",
    "        else:\n",
    "            return None\n",
    "    def insert(self,point):\n",
    "        self.size += 1\n",
    "        if point[0][self.axis]<self.node[0][self.axis]:\n",
    "            if self.left!=None:\n",
    "                self.left.insert(point)\n",
    "            else:\n",
    "                self.left = kdtree([point], self.axis+1, self)\n",
    "        else:\n",
    "            if self.right!=None:\n",
    "                self.right.insert(point)\n",
    "            else:\n",
    "                self.right = kdtree([point], self.axis+1,self)\n",
    "    def find_leaf(self, point):\n",
    "        if self.left==None and self.right==None:\n",
    "            return self\n",
    "        elif self.left==None:\n",
    "            return self.right.find_leaf(point)\n",
    "        elif self.right==None:\n",
    "            return self.left.find_leaf(point)\n",
    "        elif point[self.axis]<self.node[0][self.axis]:\n",
    "            return self.left.find_leaf(point)\n",
    "        else:\n",
    "            return self.right.find_leaf(point)\n",
    "    def knearest(self, point, k=1, dist=lambda x,y: sum(map(lambda u,v:(u-v)**2,x,y))):\n",
    "        leaf = self.find_leaf(point)\n",
    "        return leaf.k_down_up(point, k, dist, result=[], stop=self, visited=None)\n",
    "    def k_down_up(self, point, k, dist, result=[], stop=None, visited=None):\n",
    "        if result==[]:\n",
    "            max_dist = 0\n",
    "        else:\n",
    "            max_dist = max([x[1] for x in result])\n",
    "            other_result = []\n",
    "        if (self.left==visited and self.node[0][self.axis]-point[self.axis]<max_dist and self.right!=None)\\\n",
    "            or (len(result)<k and self.left==visited and self.right!=None):\n",
    "            other_result = self.right.knearest(point, k, dist)\n",
    "        if (self.right==visited and point[self.axis]-self.node[0][self.axis]<max_dist and self.left!=None)\\\n",
    "            or (len(result)<k and self.right==visited and self.left!=None):\n",
    "            other_result = self.left.knearest(point, k, dist)\n",
    "        \n",
    "        result.append((self.node, dist(point, self.node[0])))\n",
    "        result = sorted(result+other_result, key=lambda pair:pair[1])[:k]\n",
    "        if self == stop:\n",
    "            return result\n",
    "        else:\n",
    "            return self.root.k_down_up(point, k, dist, result, stop, self)\n",
    "    def kNN(self, point, k, dist=lambda x,y:sum(map(lambda u,v:(u-v)**2,x,y))):\n",
    "        nearests = self.knearest(point, k, dist)\n",
    "        statistics = {}\n",
    "        for data in nearests:\n",
    "            label = data[0][1]\n",
    "            if label not in statistics:\n",
    "                statistics[label] = 1\n",
    "            else:\n",
    "                statistics[label] +=1\n",
    "            max_label = max(statistics.iteritems(), key=operator.itemgetter(1))[0]\n",
    "            return max_label, float(statistics[max_label])/float(len(nearests))    "
   ]
  },
  {
   "cell_type": "code",
   "execution_count": null,
   "metadata": {},
   "outputs": [],
   "source": []
  }
 ],
 "metadata": {
  "kernelspec": {
   "display_name": "Python 3",
   "language": "python",
   "name": "python3"
  },
  "language_info": {
   "codemirror_mode": {
    "name": "ipython",
    "version": 3
   },
   "file_extension": ".py",
   "mimetype": "text/x-python",
   "name": "python",
   "nbconvert_exporter": "python",
   "pygments_lexer": "ipython3",
   "version": "3.6.6"
  }
 },
 "nbformat": 4,
 "nbformat_minor": 2
}
