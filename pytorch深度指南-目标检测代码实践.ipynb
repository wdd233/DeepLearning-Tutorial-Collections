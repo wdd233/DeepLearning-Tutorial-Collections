{
 "cells": [
  {
   "cell_type": "markdown",
   "metadata": {},
   "source": [
    "# 目标检测Object Detection\n",
    "[写在前面]\n",
    "无论是two-stage还是one-stage，目前的网络大多都会使用FPN和Anchor的网络设计模式；在Region Proposal过程中，还有会NMS操作；理解清楚大致的网络算法之后，需要详细研究代码的实现方式，在此，我特地整理了基础矩阵操作模块使用方法和demo。在后面一部分，我会详述检测网络中各个子功能的实现方式以及代码。\n",
    "\n",
    "**我的宗旨是——先打地基，后盖房子！**\n",
    "\n",
    "如何使用pytorch的轮子盖房子，follow me"
   ]
  }
 ],
 "metadata": {
  "kernelspec": {
   "display_name": "Python 3",
   "language": "python",
   "name": "python3"
  },
  "language_info": {
   "codemirror_mode": {
    "name": "ipython",
    "version": 3
   },
   "file_extension": ".py",
   "mimetype": "text/x-python",
   "name": "python",
   "nbconvert_exporter": "python",
   "pygments_lexer": "ipython3",
   "version": "3.6.7"
  }
 },
 "nbformat": 4,
 "nbformat_minor": 2
}
