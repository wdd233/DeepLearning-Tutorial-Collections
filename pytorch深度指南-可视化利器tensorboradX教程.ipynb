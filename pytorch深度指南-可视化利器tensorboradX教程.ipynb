{
 "cells": [
  {
   "cell_type": "code",
   "execution_count": 1,
   "metadata": {},
   "outputs": [],
   "source": [
    "from tensorboardX import SummaryWriter#调用这个库"
   ]
  },
  {
   "cell_type": "code",
   "execution_count": 3,
   "metadata": {},
   "outputs": [],
   "source": [
    "writer = SummaryWriter()#创建一个记事器实例"
   ]
  },
  {
   "cell_type": "markdown",
   "metadata": {},
   "source": [
    "`SummaryWriter(log_dir=None, comment='')`<br>\n",
    "**参数：**<br>\n",
    "log_dir:保存文件名<br>\n",
    "comment:额外注释，添加到保存到路径下"
   ]
  },
  {
   "cell_type": "markdown",
   "metadata": {},
   "source": [
    "`writer.add_scalar(tag, scalar, global_step)`\n",
    "`writer.add_scalars(tag, tag_scaler_dict, global_step)`<br>\n",
    "**参数：**<br>\n",
    "tag:图表名称<br>\n",
    "tag_scaler_dict:变量字典<br>\n",
    "global_step:迭代次数<br>"
   ]
  },
  {
   "cell_type": "markdown",
   "metadata": {},
   "source": [
    "`writer.add_image(tag, img_tensor, global_step=None)`<br>\n",
    "**参数：**<br>\n",
    "tag：标志名称<br>\n",
    "img_tensor(torch.Tensor):图像tensor$(3, H, W)$,使用`torchvision.utils.make_grid()`创建更方便<br>\n",
    "global_step:迭代次数<br>"
   ]
  },
  {
   "cell_type": "markdown",
   "metadata": {},
   "source": [
    "`writer.add_histogram()`"
   ]
  },
  {
   "cell_type": "markdown",
   "metadata": {},
   "source": [
    "`writer.add_pr_curve(tag, labels, predictions, global_step=None, num_thresholds, weights=None)`"
   ]
  },
  {
   "cell_type": "markdown",
   "metadata": {},
   "source": [
    "`writer.add_scalars(tag, tag_scalar_dict, global_step)`<br>\n",
    "**功能：**在一幅图中添加多个参数变量<br>\n",
    "**demo：**"
   ]
  },
  {
   "cell_type": "code",
   "execution_count": null,
   "metadata": {},
   "outputs": [],
   "source": [
    "writer.add_scalars('tag', {'x':var1, 'y':var2, 'z':var3}, step)"
   ]
  },
  {
   "cell_type": "code",
   "execution_count": null,
   "metadata": {},
   "outputs": [],
   "source": [
    "tesn"
   ]
  }
 ],
 "metadata": {
  "kernelspec": {
   "display_name": "Python 3",
   "language": "python",
   "name": "python3"
  },
  "language_info": {
   "codemirror_mode": {
    "name": "ipython",
    "version": 3
   },
   "file_extension": ".py",
   "mimetype": "text/x-python",
   "name": "python",
   "nbconvert_exporter": "python",
   "pygments_lexer": "ipython3",
   "version": "3.6.7"
  }
 },
 "nbformat": 4,
 "nbformat_minor": 2
}
