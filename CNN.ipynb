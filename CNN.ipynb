{
 "cells": [
  {
   "cell_type": "code",
   "execution_count": 1,
   "metadata": {
    "tags": [
     "包导入"
    ]
   },
   "outputs": [],
   "source": [
    "import torch\n",
    "import torch.nn as nn\n",
    "from torch.autograd import Variable\n",
    "import numpy as np\n",
    "import matplotlib.pyplot as plt\n",
    "import torchvision\n",
    "import torch.utils.data as Data\n",
    "%matplotlib inline"
   ]
  },
  {
   "cell_type": "code",
   "execution_count": 2,
   "metadata": {
    "tags": [
     "训练集初始化"
    ]
   },
   "outputs": [
    {
     "name": "stdout",
     "output_type": "stream",
     "text": [
      "torch.Size([60000, 28, 28])\n",
      "torch.Size([60000])\n"
     ]
    },
    {
     "data": {
      "text/plain": [
       "numpy.ndarray"
      ]
     },
     "execution_count": 2,
     "metadata": {},
     "output_type": "execute_result"
    }
   ],
   "source": [
    "EPOCH=1\n",
    "BATCH_SIZE=50\n",
    "DOWNLOAD_MNIST=False\n",
    "LR=0.001\n",
    "train_data=torchvision.datasets.MNIST(\n",
    "    root='./mnist',\n",
    "    train=True,\n",
    "    transform=torchvision.transforms.ToTensor(),#将图片转换为tensor,并进行归一化，（0，1）\n",
    "    download=DOWNLOAD_MNIST\n",
    ")\n",
    "print (train_data.train_data.size())\n",
    "print(train_data.train_labels.size())\n",
    "# array=np.arange(625).reshape(25,25)\n",
    "type(train_data.train_data[2].numpy())\n",
    "#plt.imshow(train_data.train_data[3].numpy(),cmap='gray')#此函数的功能是把numpy数组转换为图片形式\n",
    "#plt.title('%i'%train_data.train_labels[1])\n",
    "#lt.show()"
   ]
  },
  {
   "cell_type": "code",
   "execution_count": 3,
   "metadata": {
    "tags": [
     "测试集和训练集的加载"
    ]
   },
   "outputs": [
    {
     "name": "stdout",
     "output_type": "stream",
     "text": [
      "tensor(9)\n"
     ]
    },
    {
     "name": "stderr",
     "output_type": "stream",
     "text": [
      "/home/wdd/anaconda3/lib/python3.6/site-packages/ipykernel_launcher.py:3: UserWarning: volatile was removed and now has no effect. Use `with torch.no_grad():` instead.\n",
      "  This is separate from the ipykernel package so we can avoid doing imports until\n"
     ]
    }
   ],
   "source": [
    "train_loader=Data.DataLoader(dataset=train_data,batch_size=BATCH_SIZE,shuffle=False,num_workers=2)#加载训练集\n",
    "test_data=torchvision.datasets.MNIST(root='./mnist/',train=False)#此处的train设为false才能运行\n",
    "test_x=Variable(torch.unsqueeze(test_data.test_data,dim=1),volatile=True).type(torch.FloatTensor)[:5000]/255#使用5000大小的测试集\n",
    "test_y=test_data.test_labels[:5000]\n",
    "type(test_y)\n",
    "print (test_y[20])\n",
    "#test_y.size()"
   ]
  },
  {
   "cell_type": "code",
   "execution_count": 5,
   "metadata": {
    "tags": [
     "神经网络搭建"
    ]
   },
   "outputs": [
    {
     "name": "stdout",
     "output_type": "stream",
     "text": [
      "CNN(\n",
      "  (conv1): Sequential(\n",
      "    (0): Conv2d(1, 32, kernel_size=(7, 7), stride=(1, 1), padding=(3, 3))\n",
      "    (1): ReLU()\n",
      "    (2): MaxPool2d(kernel_size=2, stride=2, padding=0, dilation=1, ceil_mode=False)\n",
      "  )\n",
      "  (conv2): Sequential(\n",
      "    (0): Conv2d(32, 64, kernel_size=(5, 5), stride=(1, 1), padding=(2, 2))\n",
      "    (1): ReLU()\n",
      "    (2): MaxPool2d(kernel_size=2, stride=2, padding=0, dilation=1, ceil_mode=False)\n",
      "  )\n",
      "  (out): Linear(in_features=3136, out_features=10, bias=True)\n",
      ")\n"
     ]
    }
   ],
   "source": [
    "class CNN(nn.Module):\n",
    "    def __init__(self):\n",
    "        super(CNN,self).__init__()\n",
    "        self.conv1=nn.Sequential(\n",
    "            nn.Conv2d(1,32,7,1,3),\n",
    "            nn.ReLU(),\n",
    "            nn.MaxPool2d(2)\n",
    "        )\n",
    "        self.conv2=nn.Sequential(\n",
    "            nn.Conv2d(32,64,5,1,2),\n",
    "            nn.ReLU(),\n",
    "            nn.MaxPool2d(2)\n",
    "        )\n",
    "        self.out=nn.Linear(64*7*7,10)\n",
    "    def forward(self,x):\n",
    "        x=self.conv1(x)\n",
    "        x=self.conv2(x)\n",
    "        x=x.view(x.size(0),-1)#把batch的维度保留\n",
    "        output=self.out(x)\n",
    "        return output\n",
    "    \n",
    "cnn=CNN()\n",
    "print (cnn)\n"
   ]
  },
  {
   "cell_type": "code",
   "execution_count": 6,
   "metadata": {},
   "outputs": [],
   "source": [
    "optimizer=torch.optim.Adam(cnn.parameters(),lr=LR)\n",
    "loss_func=nn.CrossEntropyLoss()\n"
   ]
  },
  {
   "cell_type": "code",
   "execution_count": 7,
   "metadata": {
    "tags": [
     "训练过程"
    ]
   },
   "outputs": [
    {
     "name": "stdout",
     "output_type": "stream",
     "text": [
      "tensor([ 5,  0,  4,  1,  9,  2,  1,  3,  1,  4,  3,  5,  3,  6,\n",
      "         1,  7,  2,  8,  6,  9,  4,  0,  9,  1,  1,  2,  4,  3,\n",
      "         2,  7,  3,  8,  6,  9,  0,  5,  6,  0,  7,  6,  1,  8,\n",
      "         7,  9,  3,  9,  8,  5,  9,  3])\n"
     ]
    },
    {
     "ename": "RuntimeError",
     "evalue": "value cannot be converted to type uint8_t without overflow: 5000",
     "output_type": "error",
     "traceback": [
      "\u001b[0;31m---------------------------------------------------------------------------\u001b[0m",
      "\u001b[0;31mRuntimeError\u001b[0m                              Traceback (most recent call last)",
      "\u001b[0;32m<ipython-input-7-dbcad19783de>\u001b[0m in \u001b[0;36m<module>\u001b[0;34m()\u001b[0m\n\u001b[1;32m     19\u001b[0m             \u001b[0mpred_y\u001b[0m\u001b[0;34m=\u001b[0m\u001b[0mtorch\u001b[0m\u001b[0;34m.\u001b[0m\u001b[0mmax\u001b[0m\u001b[0;34m(\u001b[0m\u001b[0mtest_output\u001b[0m\u001b[0;34m,\u001b[0m\u001b[0;36m1\u001b[0m\u001b[0;34m)\u001b[0m\u001b[0;34m[\u001b[0m\u001b[0;36m1\u001b[0m\u001b[0;34m]\u001b[0m\u001b[0;34m.\u001b[0m\u001b[0mdata\u001b[0m\u001b[0;34m.\u001b[0m\u001b[0msqueeze\u001b[0m\u001b[0;34m(\u001b[0m\u001b[0;34m)\u001b[0m\u001b[0;31m#torch.max(m*n张量，返回每一个m里面最大的那一个值)取最大后验概率,pred_y相当于是m×1维的张量\u001b[0m\u001b[0;34m\u001b[0m\u001b[0m\n\u001b[1;32m     20\u001b[0m             \u001b[0;31m#print (pred_y)                                                #之后需要用squeeze压缩成1*m的张量，从而可以比较\u001b[0m\u001b[0;34m\u001b[0m\u001b[0;34m\u001b[0m\u001b[0m\n\u001b[0;32m---> 21\u001b[0;31m             \u001b[0maccuracy\u001b[0m\u001b[0;34m=\u001b[0m\u001b[0msum\u001b[0m\u001b[0;34m(\u001b[0m\u001b[0mpred_y\u001b[0m\u001b[0;34m==\u001b[0m\u001b[0mtest_y\u001b[0m\u001b[0;34m)\u001b[0m\u001b[0;34m/\u001b[0m\u001b[0mtest_y\u001b[0m\u001b[0;34m.\u001b[0m\u001b[0msize\u001b[0m\u001b[0;34m(\u001b[0m\u001b[0;36m0\u001b[0m\u001b[0;34m)\u001b[0m\u001b[0;34m\u001b[0m\u001b[0m\n\u001b[0m\u001b[1;32m     22\u001b[0m             \u001b[0;31m#print ('EPOCH: ',epoch,'| train loss : %.4f'%loss.data[0],'| test accuracy:%.4f'%accuracy)\u001b[0m\u001b[0;34m\u001b[0m\u001b[0;34m\u001b[0m\u001b[0m\n\u001b[1;32m     23\u001b[0m     \u001b[0mtest_output\u001b[0m\u001b[0;34m=\u001b[0m\u001b[0mcnn\u001b[0m\u001b[0;34m(\u001b[0m\u001b[0mtest_x\u001b[0m\u001b[0;34m[\u001b[0m\u001b[0;34m:\u001b[0m\u001b[0;36m20\u001b[0m\u001b[0;34m]\u001b[0m\u001b[0;34m)\u001b[0m\u001b[0;34m\u001b[0m\u001b[0m\n",
      "\u001b[0;31mRuntimeError\u001b[0m: value cannot be converted to type uint8_t without overflow: 5000"
     ]
    }
   ],
   "source": [
    "for epoch in range(EPOCH):\n",
    "    for step,(x,y) in enumerate(train_loader):\n",
    "        b_x=Variable(x)#b_x就是50×1×28×28的张量，因为设置的batch大小为50，输入一个通道，每个图片大小28×28\n",
    "        b_y=Variable(y)#输出的b_y为50的标签，范围为0-9，\n",
    "        print (b_y)\n",
    "        output=cnn(b_x)#output为50×10的向量，因为在网络设置的时候输出的是10个特征,每一个特征值存储的都是概率，\n",
    "        #print (output.data.numpy())\n",
    "        #plt.imshow(output.data.numpy())\n",
    "        #print (output)\n",
    "        loss=loss_func(output,b_y)#输出为一个数值\n",
    "        #print (loss)\n",
    "        optimizer.zero_grad()\n",
    "        loss.backward()\n",
    "        optimizer.step()\n",
    "        \n",
    "        if step%50==0:\n",
    "            test_output=cnn(test_x)#将测试集数据输入进行预测，与测试集表标签test_y进行对比\n",
    "            #print (test_output)\n",
    "            pred_y=torch.max(test_output,1)[1].data.squeeze()#torch.max(m*n张量，返回每一个m里面最大的那一个值)取最大后验概率,pred_y相当于是m×1维的张量\n",
    "            #print (pred_y)                                                #之后需要用squeeze压缩成1*m的张量，从而可以比较\n",
    "            accuracy=sum(pred_y==test_y)/test_y.size(0)\n",
    "            #print ('EPOCH: ',epoch,'| train loss : %.4f'%loss.data[0],'| test accuracy:%.4f'%accuracy)\n",
    "    test_output=cnn(test_x[:20])\n",
    "    pred_y=torch.max(test_output,1)[1].data.numpy().squeeze()\n",
    "    print (pred_y,'prediction number')\n",
    "    print (test_y[:20].numpy(),'real number')"
   ]
  },
  {
   "cell_type": "markdown",
   "metadata": {},
   "source": [
    "> 注意事项：\n",
    "* 经过神经网络输出的是variable类型，variable.data是tensor类型\n",
    "* variable中存储着梯度"
   ]
  }
 ],
 "metadata": {
  "celltoolbar": "Tags",
  "kernelspec": {
   "display_name": "Python 3",
   "language": "python",
   "name": "python3"
  },
  "language_info": {
   "codemirror_mode": {
    "name": "ipython",
    "version": 3
   },
   "file_extension": ".py",
   "mimetype": "text/x-python",
   "name": "python",
   "nbconvert_exporter": "python",
   "pygments_lexer": "ipython3",
   "version": "3.6.6"
  }
 },
 "nbformat": 4,
 "nbformat_minor": 2
}
