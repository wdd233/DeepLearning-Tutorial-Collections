{
 "cells": [
  {
   "cell_type": "markdown",
   "metadata": {},
   "source": [
    "# 3DSRCNN-BIGTRAINSET-CUDA\n",
    "加载多个训练数据集，使用skimage.io包进行数据的预处理"
   ]
  },
  {
   "cell_type": "code",
   "execution_count": 1,
   "metadata": {
    "collapsed": true
   },
   "outputs": [],
   "source": [
    "import torch\n",
    "import torch.nn as nn\n",
    "from torch.autograd import Variable\n",
    "import torch.utils.data as Data\n",
    "import torchvision\n",
    "import matplotlib.pyplot as plt\n",
    "from skimage import data,io\n",
    "import scipy.ndimage\n",
    "import os\n",
    "import numpy as np\n",
    "import math,time\n",
    "%matplotlib inline"
   ]
  },
  {
   "cell_type": "code",
   "execution_count": null,
   "metadata": {
    "collapsed": true
   },
   "outputs": [],
   "source": [
    "help()"
   ]
  },
  {
   "cell_type": "code",
   "execution_count": 3,
   "metadata": {},
   "outputs": [
    {
     "name": "stdout",
     "output_type": "stream",
     "text": [
      "Help on function fromarray in module PIL.Image:\n",
      "\n",
      "fromarray(obj, mode=None)\n",
      "    Creates an image memory from an object exporting the array interface\n",
      "    (using the buffer protocol).\n",
      "    \n",
      "    If obj is not contiguous, then the tobytes method is called\n",
      "    and :py:func:`~PIL.Image.frombuffer` is used.\n",
      "    \n",
      "    :param obj: Object with array interface\n",
      "    :param mode: Mode to use (will be determined from type if None)\n",
      "      See: :ref:`concept-modes`.\n",
      "    :returns: An image object.\n",
      "    \n",
      "    .. versionadded:: 1.1.6\n",
      "\n"
     ]
    }
   ],
   "source": [
    "import PIL\n",
    "help(PIL.Image.fromarray)"
   ]
  },
  {
   "cell_type": "code",
   "execution_count": 27,
   "metadata": {
    "collapsed": true
   },
   "outputs": [],
   "source": [
    "def Load_TrainImages(dir_path='3DSRCNN Dataset/',TrainSet_num=4,crop_size=396):#depend on package of skimage.io and os,numpy\n",
    "    all_dataset=[]\n",
    "    for i in range(1,TrainSet_num+1):\n",
    "        dataset=[]\n",
    "        path=os.path.join(os.getcwd(),dir_path+'train'+str(i)+'/*.bmp')\n",
    "        imgs=io.imread_collection(path)\n",
    "        for img in imgs:\n",
    "            dataset.append(img)\n",
    "        dataset=np.asarray(dataset)\n",
    "        dataset=dataset[:crop_size,:crop_size,:crop_size].astype(np.float)\n",
    "        dataset=dataset/255#Normalized to 0-1\n",
    "        all_dataset.append(dataset)\n",
    "    all_dataset=np.asarray(all_dataset).astype(np.float)\n",
    "#     print (all_dataset.shape)\n",
    "    return all_dataset\n",
    "\n",
    "#     print (path)\n",
    "\n",
    "def Image_PreProcessing(stride=5,block_size=9,scale=3.0,dataset_num=3):\n",
    "    all_dataset=Load_TrainImages(TrainSet_num=dataset_num)\n",
    "    sub_inputs=[]\n",
    "    sub_labels=[]\n",
    "    for every_dataset in all_dataset:\n",
    "        inp=scipy.ndimage.interpolation.zoom(every_dataset,1/scale)\n",
    "        inp=scipy.ndimage.interpolation.zoom(inp,scale)#shape(396,396,396)\n",
    "        d,h,w=every_dataset.shape[0],every_dataset.shape[1],every_dataset.shape[2]\n",
    "        for dd in range(0,d-block_size+1,stride*block_size):\n",
    "            for hh in range(0,h-block_size+1,stride*block_size):\n",
    "                for ww in range(0,w-block_size+1,stride*block_size):\n",
    "                    sub_input=inp[dd:dd+block_size,hh:hh+block_size,ww:ww+block_size]\n",
    "                    sub_label=every_dataset[dd:dd+block_size,hh:hh+block_size,ww:ww+block_size]\n",
    "                    sub_input=sub_input.reshape(1,block_size,block_size,block_size)\n",
    "                    sub_label=sub_label.reshape(1,block_size,block_size,block_size)\n",
    "                    sub_inputs.append(sub_input)\n",
    "                    sub_labels.append(sub_label)\n",
    "    sub_inputs=np.asarray(sub_inputs).astype(np.float)\n",
    "    sub_labels=np.asarray(sub_labels).astype(np.float)\n",
    "    print ('train_set size:',sub_inputs.shape,'train_label size:',sub_labels.shape)\n",
    "    return sub_inputs,sub_labels,all_dataset\n",
    "\n",
    "def PSNR(input_image,output_image,shave_border=0):#输入和训练图片,输入以numpy数组格式输入\n",
    "    height,width=pred.shape[:2]\n",
    "    pred=input_image[shave_border:height-shave_border,shave_border:width-shave_border]\n",
    "    gt=output_image[shave_border:height-shave_border,shave_border:width-shave_border]\n",
    "    imdff=pred-gt\n",
    "    rmse=math.sqrt(np.mean(imdff**2))\n",
    "    if rmse==0:\n",
    "        return 100\n",
    "    return 20*math.log10(255.0/rmse)\n",
    "\n",
    "    \n"
   ]
  },
  {
   "cell_type": "code",
   "execution_count": 17,
   "metadata": {},
   "outputs": [
    {
     "name": "stdout",
     "output_type": "stream",
     "text": [
      "train_set size: (625, 1, 18, 18, 18) train_label size: (625, 1, 18, 18, 18)\n"
     ]
    }
   ],
   "source": [
    "inputs,labels,initial_image=Image_PreProcessing(dataset_num=5,block_size=18)\n"
   ]
  },
  {
   "cell_type": "markdown",
   "metadata": {},
   "source": [
    "* 加载数据集(数据格式应该为[数据集数量5,channel=1,d,h,w])加载训练集的时候采用先分后合\n",
    "* 图片进行进行处理(1.裁剪2.插值放缩训练集和label)\n",
    "最终训练样本的shape应该是[729,1,9,9,9]"
   ]
  },
  {
   "cell_type": "code",
   "execution_count": 18,
   "metadata": {
    "collapsed": true
   },
   "outputs": [],
   "source": [
    "train_dataset,label_dataset=torch.Tensor(inputs),torch.Tensor(labels)\n",
    "    "
   ]
  },
  {
   "cell_type": "code",
   "execution_count": 25,
   "metadata": {
    "scrolled": true
   },
   "outputs": [
    {
     "name": "stdout",
     "output_type": "stream",
     "text": [
      "TestNet(\n",
      "  (residual_layer): Sequential(\n",
      "    (0): Conv_Block(\n",
      "      (conv): Conv3d (64, 64, kernel_size=(3, 3, 3), stride=(1, 1, 1), padding=(1, 1, 1))\n",
      "      (relu): ReLU()\n",
      "    )\n",
      "    (1): Conv_Block(\n",
      "      (conv): Conv3d (64, 64, kernel_size=(3, 3, 3), stride=(1, 1, 1), padding=(1, 1, 1))\n",
      "      (relu): ReLU()\n",
      "    )\n",
      "    (2): Conv_Block(\n",
      "      (conv): Conv3d (64, 64, kernel_size=(3, 3, 3), stride=(1, 1, 1), padding=(1, 1, 1))\n",
      "      (relu): ReLU()\n",
      "    )\n",
      "    (3): Conv_Block(\n",
      "      (conv): Conv3d (64, 64, kernel_size=(3, 3, 3), stride=(1, 1, 1), padding=(1, 1, 1))\n",
      "      (relu): ReLU()\n",
      "    )\n",
      "    (4): Conv_Block(\n",
      "      (conv): Conv3d (64, 64, kernel_size=(3, 3, 3), stride=(1, 1, 1), padding=(1, 1, 1))\n",
      "      (relu): ReLU()\n",
      "    )\n",
      "    (5): Conv_Block(\n",
      "      (conv): Conv3d (64, 64, kernel_size=(3, 3, 3), stride=(1, 1, 1), padding=(1, 1, 1))\n",
      "      (relu): ReLU()\n",
      "    )\n",
      "    (6): Conv_Block(\n",
      "      (conv): Conv3d (64, 64, kernel_size=(3, 3, 3), stride=(1, 1, 1), padding=(1, 1, 1))\n",
      "      (relu): ReLU()\n",
      "    )\n",
      "    (7): Conv_Block(\n",
      "      (conv): Conv3d (64, 64, kernel_size=(3, 3, 3), stride=(1, 1, 1), padding=(1, 1, 1))\n",
      "      (relu): ReLU()\n",
      "    )\n",
      "    (8): Conv_Block(\n",
      "      (conv): Conv3d (64, 64, kernel_size=(3, 3, 3), stride=(1, 1, 1), padding=(1, 1, 1))\n",
      "      (relu): ReLU()\n",
      "    )\n",
      "    (9): Conv_Block(\n",
      "      (conv): Conv3d (64, 64, kernel_size=(3, 3, 3), stride=(1, 1, 1), padding=(1, 1, 1))\n",
      "      (relu): ReLU()\n",
      "    )\n",
      "    (10): Conv_Block(\n",
      "      (conv): Conv3d (64, 64, kernel_size=(3, 3, 3), stride=(1, 1, 1), padding=(1, 1, 1))\n",
      "      (relu): ReLU()\n",
      "    )\n",
      "    (11): Conv_Block(\n",
      "      (conv): Conv3d (64, 64, kernel_size=(3, 3, 3), stride=(1, 1, 1), padding=(1, 1, 1))\n",
      "      (relu): ReLU()\n",
      "    )\n",
      "    (12): Conv_Block(\n",
      "      (conv): Conv3d (64, 64, kernel_size=(3, 3, 3), stride=(1, 1, 1), padding=(1, 1, 1))\n",
      "      (relu): ReLU()\n",
      "    )\n",
      "    (13): Conv_Block(\n",
      "      (conv): Conv3d (64, 64, kernel_size=(3, 3, 3), stride=(1, 1, 1), padding=(1, 1, 1))\n",
      "      (relu): ReLU()\n",
      "    )\n",
      "    (14): Conv_Block(\n",
      "      (conv): Conv3d (64, 64, kernel_size=(3, 3, 3), stride=(1, 1, 1), padding=(1, 1, 1))\n",
      "      (relu): ReLU()\n",
      "    )\n",
      "    (15): Conv_Block(\n",
      "      (conv): Conv3d (64, 64, kernel_size=(3, 3, 3), stride=(1, 1, 1), padding=(1, 1, 1))\n",
      "      (relu): ReLU()\n",
      "    )\n",
      "    (16): Conv_Block(\n",
      "      (conv): Conv3d (64, 64, kernel_size=(3, 3, 3), stride=(1, 1, 1), padding=(1, 1, 1))\n",
      "      (relu): ReLU()\n",
      "    )\n",
      "    (17): Conv_Block(\n",
      "      (conv): Conv3d (64, 64, kernel_size=(3, 3, 3), stride=(1, 1, 1), padding=(1, 1, 1))\n",
      "      (relu): ReLU()\n",
      "    )\n",
      "  )\n",
      "  (conv1): Sequential(\n",
      "    (0): Conv3d (1, 64, kernel_size=(3, 3, 3), stride=(1, 1, 1), padding=(1, 1, 1))\n",
      "    (1): ReLU()\n",
      "  )\n",
      "  (conv2): Sequential(\n",
      "    (0): Conv3d (64, 32, kernel_size=(1, 1, 1), stride=(1, 1, 1))\n",
      "    (1): ReLU()\n",
      "  )\n",
      "  (conv3): Sequential(\n",
      "    (0): Conv3d (32, 1, kernel_size=(5, 5, 5), stride=(1, 1, 1), padding=(2, 2, 2))\n",
      "    (1): ReLU()\n",
      "  )\n",
      ")\n"
     ]
    }
   ],
   "source": [
    "class TestNet(nn.Module):#3d srcnn\n",
    "    def __init__(self):\n",
    "        super(TestNet,self).__init__()\n",
    "        self.residual_layer=self.make_layer(Conv_Block,18)\n",
    "        self.conv1=nn.Sequential(\n",
    "            nn.Conv3d(1,64,kernel_size=3,stride=1,padding=1),\n",
    "            nn.ReLU()\n",
    "        )\n",
    "        self.conv2=nn.Sequential(\n",
    "            nn.Conv3d(64,32,kernel_size=1,stride=1,padding=0),\n",
    "            nn.ReLU()\n",
    "        )\n",
    "        self.conv3=nn.Sequential(\n",
    "            nn.Conv3d(32,1,kernel_size=5,stride=1,padding=2),\n",
    "            nn.ReLU()\n",
    "        )\n",
    "#         for m in self.modules():\n",
    "#             if isinstance(m,nn.Conv3d):\n",
    "#                 n=m.kernel_size[0]*m.kernel_size[1]*m.out_channels\n",
    "#                 m.weight.data.normal(0,sqrt(2./n))\n",
    "                \n",
    "    def forward(self,x):\n",
    "        residual=x\n",
    "        x=self.conv1(x)\n",
    "        x=self.residual_layer(x)\n",
    "        x=self.conv2(x)\n",
    "        output=self.conv3(x)\n",
    "        output=torch.add(output,residual)\n",
    "        return output\n",
    "    \n",
    "    def make_layer(self,block,num_of_layer):\n",
    "        layers=[]\n",
    "        for _ in range(num_of_layer):\n",
    "            layers.append(block())\n",
    "        return nn.Sequential(*layers)\n",
    "    \n",
    "class Conv_Block(nn.Module):\n",
    "    def __init__(self):\n",
    "        super(Conv_Block,self).__init__()\n",
    "        self.conv=nn.Conv3d(64,64,kernel_size=3,stride=1,padding=1)\n",
    "        self.relu=nn.ReLU()\n",
    "    def forward(self,x):\n",
    "        return self.relu(self.conv(x))\n",
    "    \n",
    "\n",
    "cnn=TestNet().cuda()\n",
    "print (cnn)\n",
    "    "
   ]
  },
  {
   "cell_type": "code",
   "execution_count": 20,
   "metadata": {
    "collapsed": true
   },
   "outputs": [],
   "source": [
    "LR=0.0001\n",
    "EPOCH=1000\n",
    "BATCH_SIZE=9\n",
    "dataset_size=train_dataset.shape[0]\n",
    "optimizer=torch.optim.Adagrad(cnn.parameters(),lr=LR)\n",
    "loss_func=nn.MSELoss()\n"
   ]
  },
  {
   "cell_type": "code",
   "execution_count": 21,
   "metadata": {
    "collapsed": true
   },
   "outputs": [],
   "source": [
    "train_dataset,label_dataset=Variable(train_dataset).cuda(),Variable(label_dataset).cuda()"
   ]
  },
  {
   "cell_type": "code",
   "execution_count": 28,
   "metadata": {
    "scrolled": true
   },
   "outputs": [
    {
     "name": "stdout",
     "output_type": "stream",
     "text": [
      "epoch:1 iter:0,loss0.000300,psnr:118.591333\n",
      "epoch:1 iter:9,loss0.000299,psnr:118.626850\n",
      "epoch:1 iter:18,loss0.000331,psnr:117.746380\n",
      "epoch:1 iter:27,loss0.000314,psnr:118.189508\n",
      "epoch:1 iter:36,loss0.000332,psnr:117.715760\n",
      "epoch:1 iter:45,loss0.000329,psnr:117.778917\n",
      "epoch:1 iter:54,loss0.000383,psnr:116.477939\n",
      "epoch:1 iter:63,loss0.000404,psnr:115.997159\n",
      "epoch:1 iter:72,loss0.000407,psnr:115.933743\n",
      "epoch:1 iter:81,loss0.000429,psnr:115.485186\n",
      "epoch:1 iter:90,loss0.000424,psnr:115.586695\n",
      "epoch:1 iter:99,loss0.000448,psnr:115.105916\n",
      "epoch:1 iter:108,loss0.000454,psnr:114.984818\n",
      "epoch:1 iter:117,loss0.000669,psnr:111.625543\n",
      "epoch:1 iter:126,loss0.002139,psnr:101.527041\n",
      "epoch:1 iter:135,loss0.002002,psnr:102.101993\n",
      "epoch:1 iter:144,loss0.002041,psnr:101.933809\n",
      "epoch:1 iter:153,loss0.001696,psnr:103.543993\n",
      "epoch:1 iter:162,loss0.001817,psnr:102.946016\n",
      "epoch:1 iter:171,loss0.001892,psnr:102.594012\n",
      "epoch:1 iter:180,loss0.001852,psnr:102.779266\n",
      "epoch:1 iter:189,loss0.001801,psnr:103.020549\n",
      "epoch:1 iter:198,loss0.001698,psnr:103.530824\n",
      "epoch:1 iter:207,loss0.001714,psnr:103.448576\n",
      "epoch:1 iter:216,loss0.001876,psnr:102.666826\n",
      "epoch:1 iter:225,loss0.001929,psnr:102.423218\n",
      "epoch:1 iter:234,loss0.001810,psnr:102.974931\n",
      "epoch:1 iter:243,loss0.001587,psnr:104.121512\n",
      "epoch:1 iter:252,loss0.000541,psnr:113.462020\n",
      "epoch:1 iter:261,loss0.000468,psnr:114.729110\n",
      "epoch:1 iter:270,loss0.000369,psnr:116.784266\n",
      "epoch:1 iter:279,loss0.000394,psnr:116.227109\n",
      "epoch:1 iter:288,loss0.000384,psnr:116.452372\n",
      "epoch:1 iter:297,loss0.000438,psnr:115.294640\n",
      "epoch:1 iter:306,loss0.000404,psnr:116.010507\n",
      "epoch:1 iter:315,loss0.000384,psnr:116.442696\n",
      "epoch:1 iter:324,loss0.000378,psnr:116.573185\n",
      "epoch:1 iter:333,loss0.000391,psnr:116.276282\n",
      "epoch:1 iter:342,loss0.000464,psnr:114.794188\n",
      "epoch:1 iter:351,loss0.000345,psnr:117.368855\n",
      "epoch:1 iter:360,loss0.000381,psnr:116.511297\n",
      "epoch:1 iter:369,loss0.003165,psnr:98.124695\n",
      "epoch:1 iter:378,loss0.004366,psnr:95.329451\n",
      "epoch:1 iter:387,loss0.003673,psnr:96.831106\n",
      "epoch:1 iter:396,loss0.002935,psnr:98.779340\n",
      "epoch:1 iter:405,loss0.004673,psnr:94.739682\n",
      "epoch:1 iter:414,loss0.003185,psnr:98.068918\n",
      "epoch:1 iter:423,loss0.005920,psnr:92.684276\n",
      "epoch:1 iter:432,loss0.003076,psnr:98.371277\n",
      "epoch:1 iter:441,loss0.002190,psnr:101.323764\n",
      "epoch:1 iter:450,loss0.004050,psnr:95.982134\n",
      "epoch:1 iter:459,loss0.003573,psnr:97.070415\n",
      "epoch:1 iter:468,loss0.003669,psnr:96.840864\n",
      "epoch:1 iter:477,loss0.004175,psnr:95.717187\n",
      "epoch:1 iter:486,loss0.002451,psnr:100.343291\n",
      "epoch:1 iter:495,loss0.001918,psnr:102.474598\n",
      "epoch:1 iter:504,loss0.001605,psnr:104.019356\n",
      "epoch:1 iter:513,loss0.002386,psnr:100.576634\n",
      "epoch:1 iter:522,loss0.001071,psnr:107.534098\n",
      "epoch:1 iter:531,loss0.001297,psnr:105.870473\n",
      "epoch:1 iter:540,loss0.001847,psnr:102.800047\n",
      "epoch:1 iter:549,loss0.001361,psnr:105.451265\n",
      "epoch:1 iter:558,loss0.001873,psnr:102.680963\n",
      "epoch:1 iter:567,loss0.001904,psnr:102.535785\n",
      "epoch:1 iter:576,loss0.001242,psnr:106.250097\n",
      "epoch:1 iter:585,loss0.001665,psnr:103.700608\n",
      "epoch:1 iter:594,loss0.001449,psnr:104.910201\n",
      "epoch:1 iter:603,loss0.001121,psnr:107.139347\n",
      "epoch:1 iter:612,loss0.001786,psnr:103.095141\n",
      "epoch:1 iter:621,loss0.001948,psnr:102.337031\n",
      "epoch:2 iter:0,loss0.000300,psnr:118.591333\n",
      "epoch:2 iter:9,loss0.000299,psnr:118.626850\n",
      "epoch:2 iter:18,loss0.000331,psnr:117.746380\n",
      "epoch:2 iter:27,loss0.000314,psnr:118.189508\n",
      "epoch:2 iter:36,loss0.000332,psnr:117.715760\n",
      "epoch:2 iter:45,loss0.000329,psnr:117.778917\n",
      "epoch:2 iter:54,loss0.000383,psnr:116.477939\n",
      "epoch:2 iter:63,loss0.000404,psnr:115.997159\n",
      "epoch:2 iter:72,loss0.000407,psnr:115.933743\n",
      "epoch:2 iter:81,loss0.000429,psnr:115.485186\n",
      "epoch:2 iter:90,loss0.000424,psnr:115.586695\n",
      "epoch:2 iter:99,loss0.000448,psnr:115.105916\n",
      "epoch:2 iter:108,loss0.000454,psnr:114.984818\n",
      "epoch:2 iter:117,loss0.000669,psnr:111.625543\n",
      "epoch:2 iter:126,loss0.002139,psnr:101.527041\n",
      "epoch:2 iter:135,loss0.002002,psnr:102.101993\n",
      "epoch:2 iter:144,loss0.002041,psnr:101.933809\n",
      "epoch:2 iter:153,loss0.001696,psnr:103.543993\n",
      "epoch:2 iter:162,loss0.001817,psnr:102.946016\n",
      "epoch:2 iter:171,loss0.001892,psnr:102.594012\n",
      "epoch:2 iter:180,loss0.001852,psnr:102.779266\n",
      "epoch:2 iter:189,loss0.001801,psnr:103.020549\n",
      "epoch:2 iter:198,loss0.001698,psnr:103.530824\n",
      "epoch:2 iter:207,loss0.001714,psnr:103.448576\n",
      "epoch:2 iter:216,loss0.001876,psnr:102.666826\n",
      "epoch:2 iter:225,loss0.001929,psnr:102.423218\n",
      "epoch:2 iter:234,loss0.001810,psnr:102.974931\n",
      "epoch:2 iter:243,loss0.001587,psnr:104.121512\n",
      "epoch:2 iter:252,loss0.000541,psnr:113.462020\n",
      "epoch:2 iter:261,loss0.000468,psnr:114.729110\n",
      "epoch:2 iter:270,loss0.000369,psnr:116.784266\n",
      "epoch:2 iter:279,loss0.000394,psnr:116.227109\n",
      "epoch:2 iter:288,loss0.000384,psnr:116.452372\n",
      "epoch:2 iter:297,loss0.000438,psnr:115.294640\n",
      "epoch:2 iter:306,loss0.000404,psnr:116.010507\n",
      "epoch:2 iter:315,loss0.000384,psnr:116.442696\n",
      "epoch:2 iter:324,loss0.000378,psnr:116.573185\n",
      "epoch:2 iter:333,loss0.000391,psnr:116.276282\n",
      "epoch:2 iter:342,loss0.000464,psnr:114.794188\n",
      "epoch:2 iter:351,loss0.000345,psnr:117.368855\n",
      "epoch:2 iter:360,loss0.000381,psnr:116.511297\n",
      "epoch:2 iter:369,loss0.003165,psnr:98.124695\n",
      "epoch:2 iter:378,loss0.004366,psnr:95.329451\n",
      "epoch:2 iter:387,loss0.003673,psnr:96.831106\n",
      "epoch:2 iter:396,loss0.002935,psnr:98.779340\n",
      "epoch:2 iter:405,loss0.004673,psnr:94.739682\n",
      "epoch:2 iter:414,loss0.003185,psnr:98.068918\n",
      "epoch:2 iter:423,loss0.005920,psnr:92.684276\n",
      "epoch:2 iter:432,loss0.003076,psnr:98.371277\n",
      "epoch:2 iter:441,loss0.002190,psnr:101.323764\n",
      "epoch:2 iter:450,loss0.004050,psnr:95.982134\n",
      "epoch:2 iter:459,loss0.003573,psnr:97.070415\n",
      "epoch:2 iter:468,loss0.003669,psnr:96.840864\n",
      "epoch:2 iter:477,loss0.004175,psnr:95.717187\n",
      "epoch:2 iter:486,loss0.002451,psnr:100.343291\n",
      "epoch:2 iter:495,loss0.001918,psnr:102.474598\n",
      "epoch:2 iter:504,loss0.001605,psnr:104.019356\n",
      "epoch:2 iter:513,loss0.002386,psnr:100.576634\n",
      "epoch:2 iter:522,loss0.001071,psnr:107.534098\n",
      "epoch:2 iter:531,loss0.001297,psnr:105.870473\n",
      "epoch:2 iter:540,loss0.001847,psnr:102.800047\n",
      "epoch:2 iter:549,loss0.001361,psnr:105.451265\n",
      "epoch:2 iter:558,loss0.001873,psnr:102.680963\n",
      "epoch:2 iter:567,loss0.001904,psnr:102.535785\n",
      "epoch:2 iter:576,loss0.001242,psnr:106.250097\n",
      "epoch:2 iter:585,loss0.001665,psnr:103.700608\n",
      "epoch:2 iter:594,loss0.001449,psnr:104.910201\n",
      "epoch:2 iter:603,loss0.001121,psnr:107.139347\n",
      "epoch:2 iter:612,loss0.001786,psnr:103.095141\n",
      "epoch:2 iter:621,loss0.001948,psnr:102.337031\n",
      "epoch:3 iter:0,loss0.000300,psnr:118.591333\n",
      "epoch:3 iter:9,loss0.000299,psnr:118.626850\n",
      "epoch:3 iter:18,loss0.000331,psnr:117.746380\n",
      "epoch:3 iter:27,loss0.000314,psnr:118.189508\n",
      "epoch:3 iter:36,loss0.000332,psnr:117.715760\n",
      "epoch:3 iter:45,loss0.000329,psnr:117.778917\n",
      "epoch:3 iter:54,loss0.000383,psnr:116.477939\n",
      "epoch:3 iter:63,loss0.000404,psnr:115.997159\n",
      "epoch:3 iter:72,loss0.000407,psnr:115.933743\n",
      "epoch:3 iter:81,loss0.000429,psnr:115.485186\n",
      "epoch:3 iter:90,loss0.000424,psnr:115.586695\n",
      "epoch:3 iter:99,loss0.000448,psnr:115.105916\n",
      "epoch:3 iter:108,loss0.000454,psnr:114.984818\n",
      "epoch:3 iter:117,loss0.000669,psnr:111.625543\n",
      "epoch:3 iter:126,loss0.002139,psnr:101.527041\n",
      "epoch:3 iter:135,loss0.002002,psnr:102.101993\n",
      "epoch:3 iter:144,loss0.002041,psnr:101.933809\n",
      "epoch:3 iter:153,loss0.001696,psnr:103.543993\n",
      "epoch:3 iter:162,loss0.001817,psnr:102.946016\n",
      "epoch:3 iter:171,loss0.001892,psnr:102.594012\n",
      "epoch:3 iter:180,loss0.001852,psnr:102.779266\n",
      "epoch:3 iter:189,loss0.001801,psnr:103.020549\n",
      "epoch:3 iter:198,loss0.001698,psnr:103.530824\n",
      "epoch:3 iter:207,loss0.001714,psnr:103.448576\n",
      "epoch:3 iter:216,loss0.001876,psnr:102.666826\n",
      "epoch:3 iter:225,loss0.001929,psnr:102.423218\n",
      "epoch:3 iter:234,loss0.001810,psnr:102.974931\n",
      "epoch:3 iter:243,loss0.001587,psnr:104.121512\n",
      "epoch:3 iter:252,loss0.000541,psnr:113.462020\n",
      "epoch:3 iter:261,loss0.000468,psnr:114.729110\n",
      "epoch:3 iter:270,loss0.000369,psnr:116.784266\n",
      "epoch:3 iter:279,loss0.000394,psnr:116.227109\n",
      "epoch:3 iter:288,loss0.000384,psnr:116.452372\n",
      "epoch:3 iter:297,loss0.000438,psnr:115.294640\n",
      "epoch:3 iter:306,loss0.000404,psnr:116.010507\n",
      "epoch:3 iter:315,loss0.000384,psnr:116.442696\n",
      "epoch:3 iter:324,loss0.000378,psnr:116.573185\n",
      "epoch:3 iter:333,loss0.000391,psnr:116.276282\n",
      "epoch:3 iter:342,loss0.000464,psnr:114.794188\n",
      "epoch:3 iter:351,loss0.000345,psnr:117.368855\n"
     ]
    },
    {
     "name": "stdout",
     "output_type": "stream",
     "text": [
      "epoch:3 iter:360,loss0.000381,psnr:116.511297\n",
      "epoch:3 iter:369,loss0.003165,psnr:98.124695\n",
      "epoch:3 iter:378,loss0.004366,psnr:95.329451\n",
      "epoch:3 iter:387,loss0.003673,psnr:96.831106\n",
      "epoch:3 iter:396,loss0.002935,psnr:98.779340\n",
      "epoch:3 iter:405,loss0.004673,psnr:94.739682\n",
      "epoch:3 iter:414,loss0.003185,psnr:98.068918\n",
      "epoch:3 iter:423,loss0.005920,psnr:92.684276\n",
      "epoch:3 iter:432,loss0.003076,psnr:98.371277\n",
      "epoch:3 iter:441,loss0.002190,psnr:101.323764\n",
      "epoch:3 iter:450,loss0.004050,psnr:95.982134\n",
      "epoch:3 iter:459,loss0.003573,psnr:97.070415\n",
      "epoch:3 iter:468,loss0.003669,psnr:96.840864\n",
      "epoch:3 iter:477,loss0.004175,psnr:95.717187\n",
      "epoch:3 iter:486,loss0.002451,psnr:100.343291\n",
      "epoch:3 iter:495,loss0.001918,psnr:102.474598\n",
      "epoch:3 iter:504,loss0.001605,psnr:104.019356\n",
      "epoch:3 iter:513,loss0.002386,psnr:100.576634\n",
      "epoch:3 iter:522,loss0.001071,psnr:107.534098\n",
      "epoch:3 iter:531,loss0.001297,psnr:105.870473\n",
      "epoch:3 iter:540,loss0.001847,psnr:102.800047\n",
      "epoch:3 iter:549,loss0.001361,psnr:105.451265\n",
      "epoch:3 iter:558,loss0.001873,psnr:102.680963\n",
      "epoch:3 iter:567,loss0.001904,psnr:102.535785\n",
      "epoch:3 iter:576,loss0.001242,psnr:106.250097\n",
      "epoch:3 iter:585,loss0.001665,psnr:103.700608\n",
      "epoch:3 iter:594,loss0.001449,psnr:104.910201\n",
      "epoch:3 iter:603,loss0.001121,psnr:107.139347\n",
      "epoch:3 iter:612,loss0.001786,psnr:103.095141\n",
      "epoch:3 iter:621,loss0.001948,psnr:102.337031\n",
      "epoch:4 iter:0,loss0.000300,psnr:118.591333\n",
      "epoch:4 iter:9,loss0.000299,psnr:118.626850\n",
      "epoch:4 iter:18,loss0.000331,psnr:117.746380\n",
      "epoch:4 iter:27,loss0.000314,psnr:118.189508\n",
      "epoch:4 iter:36,loss0.000332,psnr:117.715760\n",
      "epoch:4 iter:45,loss0.000329,psnr:117.778917\n",
      "epoch:4 iter:54,loss0.000383,psnr:116.477939\n",
      "epoch:4 iter:63,loss0.000404,psnr:115.997159\n",
      "epoch:4 iter:72,loss0.000407,psnr:115.933743\n",
      "epoch:4 iter:81,loss0.000429,psnr:115.485186\n",
      "epoch:4 iter:90,loss0.000424,psnr:115.586695\n",
      "epoch:4 iter:99,loss0.000448,psnr:115.105916\n",
      "epoch:4 iter:108,loss0.000454,psnr:114.984818\n",
      "epoch:4 iter:117,loss0.000669,psnr:111.625543\n",
      "epoch:4 iter:126,loss0.002139,psnr:101.527041\n",
      "epoch:4 iter:135,loss0.002002,psnr:102.101993\n",
      "epoch:4 iter:144,loss0.002041,psnr:101.933809\n",
      "epoch:4 iter:153,loss0.001696,psnr:103.543993\n",
      "epoch:4 iter:162,loss0.001817,psnr:102.946016\n",
      "epoch:4 iter:171,loss0.001892,psnr:102.594012\n",
      "epoch:4 iter:180,loss0.001852,psnr:102.779266\n",
      "epoch:4 iter:189,loss0.001801,psnr:103.020549\n",
      "epoch:4 iter:198,loss0.001698,psnr:103.530824\n",
      "epoch:4 iter:207,loss0.001714,psnr:103.448576\n",
      "epoch:4 iter:216,loss0.001876,psnr:102.666826\n",
      "epoch:4 iter:225,loss0.001929,psnr:102.423218\n",
      "epoch:4 iter:234,loss0.001810,psnr:102.974931\n",
      "epoch:4 iter:243,loss0.001587,psnr:104.121512\n",
      "epoch:4 iter:252,loss0.000541,psnr:113.462020\n",
      "epoch:4 iter:261,loss0.000468,psnr:114.729110\n",
      "epoch:4 iter:270,loss0.000369,psnr:116.784266\n",
      "epoch:4 iter:279,loss0.000394,psnr:116.227109\n",
      "epoch:4 iter:288,loss0.000384,psnr:116.452372\n",
      "epoch:4 iter:297,loss0.000438,psnr:115.294640\n",
      "epoch:4 iter:306,loss0.000404,psnr:116.010507\n",
      "epoch:4 iter:315,loss0.000384,psnr:116.442696\n",
      "epoch:4 iter:324,loss0.000378,psnr:116.573185\n",
      "epoch:4 iter:333,loss0.000391,psnr:116.276282\n",
      "epoch:4 iter:342,loss0.000464,psnr:114.794188\n",
      "epoch:4 iter:351,loss0.000345,psnr:117.368855\n",
      "epoch:4 iter:360,loss0.000381,psnr:116.511297\n",
      "epoch:4 iter:369,loss0.003165,psnr:98.124695\n",
      "epoch:4 iter:378,loss0.004366,psnr:95.329451\n",
      "epoch:4 iter:387,loss0.003673,psnr:96.831106\n",
      "epoch:4 iter:396,loss0.002935,psnr:98.779340\n",
      "epoch:4 iter:405,loss0.004673,psnr:94.739682\n",
      "epoch:4 iter:414,loss0.003185,psnr:98.068918\n",
      "epoch:4 iter:423,loss0.005920,psnr:92.684276\n",
      "epoch:4 iter:432,loss0.003076,psnr:98.371277\n",
      "epoch:4 iter:441,loss0.002190,psnr:101.323764\n",
      "epoch:4 iter:450,loss0.004050,psnr:95.982134\n",
      "epoch:4 iter:459,loss0.003573,psnr:97.070415\n",
      "epoch:4 iter:468,loss0.003669,psnr:96.840864\n",
      "epoch:4 iter:477,loss0.004175,psnr:95.717187\n",
      "epoch:4 iter:486,loss0.002451,psnr:100.343291\n",
      "epoch:4 iter:495,loss0.001918,psnr:102.474598\n",
      "epoch:4 iter:504,loss0.001605,psnr:104.019356\n",
      "epoch:4 iter:513,loss0.002386,psnr:100.576634\n",
      "epoch:4 iter:522,loss0.001071,psnr:107.534098\n",
      "epoch:4 iter:531,loss0.001297,psnr:105.870473\n",
      "epoch:4 iter:540,loss0.001847,psnr:102.800047\n",
      "epoch:4 iter:549,loss0.001361,psnr:105.451265\n",
      "epoch:4 iter:558,loss0.001873,psnr:102.680963\n",
      "epoch:4 iter:567,loss0.001904,psnr:102.535785\n",
      "epoch:4 iter:576,loss0.001242,psnr:106.250097\n",
      "epoch:4 iter:585,loss0.001665,psnr:103.700608\n",
      "epoch:4 iter:594,loss0.001449,psnr:104.910201\n",
      "epoch:4 iter:603,loss0.001121,psnr:107.139347\n",
      "epoch:4 iter:612,loss0.001786,psnr:103.095141\n",
      "epoch:4 iter:621,loss0.001948,psnr:102.337031\n",
      "epoch:5 iter:0,loss0.000300,psnr:118.591333\n",
      "epoch:5 iter:9,loss0.000299,psnr:118.626850\n",
      "epoch:5 iter:18,loss0.000331,psnr:117.746380\n",
      "epoch:5 iter:27,loss0.000314,psnr:118.189508\n",
      "epoch:5 iter:36,loss0.000332,psnr:117.715760\n",
      "epoch:5 iter:45,loss0.000329,psnr:117.778917\n",
      "epoch:5 iter:54,loss0.000383,psnr:116.477939\n",
      "epoch:5 iter:63,loss0.000404,psnr:115.997159\n",
      "epoch:5 iter:72,loss0.000407,psnr:115.933743\n",
      "epoch:5 iter:81,loss0.000429,psnr:115.485186\n",
      "epoch:5 iter:90,loss0.000424,psnr:115.586695\n",
      "epoch:5 iter:99,loss0.000448,psnr:115.105916\n",
      "epoch:5 iter:108,loss0.000454,psnr:114.984818\n",
      "epoch:5 iter:117,loss0.000669,psnr:111.625543\n",
      "epoch:5 iter:126,loss0.002139,psnr:101.527041\n",
      "epoch:5 iter:135,loss0.002002,psnr:102.101993\n",
      "epoch:5 iter:144,loss0.002041,psnr:101.933809\n",
      "epoch:5 iter:153,loss0.001696,psnr:103.543993\n",
      "epoch:5 iter:162,loss0.001817,psnr:102.946016\n",
      "epoch:5 iter:171,loss0.001892,psnr:102.594012\n",
      "epoch:5 iter:180,loss0.001852,psnr:102.779266\n",
      "epoch:5 iter:189,loss0.001801,psnr:103.020549\n",
      "epoch:5 iter:198,loss0.001698,psnr:103.530824\n",
      "epoch:5 iter:207,loss0.001714,psnr:103.448576\n",
      "epoch:5 iter:216,loss0.001876,psnr:102.666826\n",
      "epoch:5 iter:225,loss0.001929,psnr:102.423218\n",
      "epoch:5 iter:234,loss0.001810,psnr:102.974931\n",
      "epoch:5 iter:243,loss0.001587,psnr:104.121512\n",
      "epoch:5 iter:252,loss0.000541,psnr:113.462020\n",
      "epoch:5 iter:261,loss0.000468,psnr:114.729110\n",
      "epoch:5 iter:270,loss0.000369,psnr:116.784266\n",
      "epoch:5 iter:279,loss0.000394,psnr:116.227109\n",
      "epoch:5 iter:288,loss0.000384,psnr:116.452372\n",
      "epoch:5 iter:297,loss0.000438,psnr:115.294640\n",
      "epoch:5 iter:306,loss0.000404,psnr:116.010507\n",
      "epoch:5 iter:315,loss0.000384,psnr:116.442696\n",
      "epoch:5 iter:324,loss0.000378,psnr:116.573185\n",
      "epoch:5 iter:333,loss0.000391,psnr:116.276282\n",
      "epoch:5 iter:342,loss0.000464,psnr:114.794188\n",
      "epoch:5 iter:351,loss0.000345,psnr:117.368855\n",
      "epoch:5 iter:360,loss0.000381,psnr:116.511297\n",
      "epoch:5 iter:369,loss0.003165,psnr:98.124695\n",
      "epoch:5 iter:378,loss0.004366,psnr:95.329451\n",
      "epoch:5 iter:387,loss0.003673,psnr:96.831106\n",
      "epoch:5 iter:396,loss0.002935,psnr:98.779340\n",
      "epoch:5 iter:405,loss0.004673,psnr:94.739682\n",
      "epoch:5 iter:414,loss0.003185,psnr:98.068918\n",
      "epoch:5 iter:423,loss0.005920,psnr:92.684276\n",
      "epoch:5 iter:432,loss0.003076,psnr:98.371277\n",
      "epoch:5 iter:441,loss0.002190,psnr:101.323764\n",
      "epoch:5 iter:450,loss0.004050,psnr:95.982134\n",
      "epoch:5 iter:459,loss0.003573,psnr:97.070415\n",
      "epoch:5 iter:468,loss0.003669,psnr:96.840864\n",
      "epoch:5 iter:477,loss0.004175,psnr:95.717187\n",
      "epoch:5 iter:486,loss0.002451,psnr:100.343291\n",
      "epoch:5 iter:495,loss0.001918,psnr:102.474598\n",
      "epoch:5 iter:504,loss0.001605,psnr:104.019356\n",
      "epoch:5 iter:513,loss0.002386,psnr:100.576634\n",
      "epoch:5 iter:522,loss0.001071,psnr:107.534098\n",
      "epoch:5 iter:531,loss0.001297,psnr:105.870473\n",
      "epoch:5 iter:540,loss0.001847,psnr:102.800047\n",
      "epoch:5 iter:549,loss0.001361,psnr:105.451265\n",
      "epoch:5 iter:558,loss0.001873,psnr:102.680963\n",
      "epoch:5 iter:567,loss0.001904,psnr:102.535785\n",
      "epoch:5 iter:576,loss0.001242,psnr:106.250097\n",
      "epoch:5 iter:585,loss0.001665,psnr:103.700608\n",
      "epoch:5 iter:594,loss0.001449,psnr:104.910201\n",
      "epoch:5 iter:603,loss0.001121,psnr:107.139347\n",
      "epoch:5 iter:612,loss0.001786,psnr:103.095141\n",
      "epoch:5 iter:621,loss0.001948,psnr:102.337031\n",
      "epoch:6 iter:0,loss0.000300,psnr:118.591333\n",
      "epoch:6 iter:9,loss0.000299,psnr:118.626850\n",
      "epoch:6 iter:18,loss0.000331,psnr:117.746380\n",
      "epoch:6 iter:27,loss0.000314,psnr:118.189508\n",
      "epoch:6 iter:36,loss0.000332,psnr:117.715760\n",
      "epoch:6 iter:45,loss0.000329,psnr:117.778917\n",
      "epoch:6 iter:54,loss0.000383,psnr:116.477939\n",
      "epoch:6 iter:63,loss0.000404,psnr:115.997159\n"
     ]
    },
    {
     "ename": "KeyboardInterrupt",
     "evalue": "",
     "output_type": "error",
     "traceback": [
      "\u001b[0;31m---------------------------------------------------------------------------\u001b[0m",
      "\u001b[0;31mKeyboardInterrupt\u001b[0m                         Traceback (most recent call last)",
      "\u001b[0;32m<ipython-input-28-2deecb992bfd>\u001b[0m in \u001b[0;36m<module>\u001b[0;34m()\u001b[0m\n\u001b[1;32m      7\u001b[0m         \u001b[0mloss\u001b[0m\u001b[0;34m.\u001b[0m\u001b[0mbackward\u001b[0m\u001b[0;34m(\u001b[0m\u001b[0;34m)\u001b[0m\u001b[0;34m\u001b[0m\u001b[0m\n\u001b[1;32m      8\u001b[0m         \u001b[0moptimizer\u001b[0m\u001b[0;34m.\u001b[0m\u001b[0mstep\u001b[0m\u001b[0;34m(\u001b[0m\u001b[0;34m)\u001b[0m\u001b[0;34m\u001b[0m\u001b[0m\n\u001b[0;32m----> 9\u001b[0;31m         \u001b[0mpsnr\u001b[0m\u001b[0;34m=\u001b[0m\u001b[0mPSNR\u001b[0m\u001b[0;34m(\u001b[0m\u001b[0mloss\u001b[0m\u001b[0;34m.\u001b[0m\u001b[0mdata\u001b[0m\u001b[0;34m[\u001b[0m\u001b[0;36m0\u001b[0m\u001b[0;34m]\u001b[0m\u001b[0;34m)\u001b[0m\u001b[0;34m\u001b[0m\u001b[0m\n\u001b[0m\u001b[1;32m     10\u001b[0m         \u001b[0;32mif\u001b[0m \u001b[0mi\u001b[0m\u001b[0;34m%\u001b[0m\u001b[0;36m9\u001b[0m\u001b[0;34m==\u001b[0m\u001b[0;36m0\u001b[0m\u001b[0;34m:\u001b[0m\u001b[0;34m\u001b[0m\u001b[0m\n\u001b[1;32m     11\u001b[0m             \u001b[0mprint\u001b[0m \u001b[0;34m(\u001b[0m\u001b[0;34m'epoch:%d iter:%d,loss%5f,psnr:%5f'\u001b[0m\u001b[0;34m%\u001b[0m\u001b[0;34m(\u001b[0m\u001b[0mepoch\u001b[0m\u001b[0;34m+\u001b[0m\u001b[0;36m1\u001b[0m\u001b[0;34m,\u001b[0m\u001b[0mi\u001b[0m\u001b[0;34m,\u001b[0m\u001b[0mloss\u001b[0m\u001b[0;34m.\u001b[0m\u001b[0mdata\u001b[0m\u001b[0;34m[\u001b[0m\u001b[0;36m0\u001b[0m\u001b[0;34m]\u001b[0m\u001b[0;34m,\u001b[0m\u001b[0mpsnr\u001b[0m\u001b[0;34m)\u001b[0m\u001b[0;34m)\u001b[0m\u001b[0;34m\u001b[0m\u001b[0m\n",
      "\u001b[0;31mKeyboardInterrupt\u001b[0m: "
     ]
    }
   ],
   "source": [
    "for epoch in range(EPOCH): \n",
    "    for i in range(dataset_size):\n",
    "        input_batch,label_batch=train_dataset[i:i+BATCH_SIZE],label_dataset[i:i+BATCH_SIZE]\n",
    "        output=cnn(input_batch)\n",
    "        loss=loss_func(output,label_batch)\n",
    "        optimizer.zero_grad()\n",
    "        loss.backward()\n",
    "        optimizer.step()\n",
    "        psnr=PSNR(loss.data[0])\n",
    "        if i%9==0:\n",
    "            print ('epoch:%d iter:%d,loss%5f,psnr:%5f'%(epoch+1,i,loss.data[0],psnr))\n",
    "        "
   ]
  },
  {
   "cell_type": "code",
   "execution_count": null,
   "metadata": {
    "collapsed": true
   },
   "outputs": [],
   "source": [
    "torch.save(cnn,'cnn.pkl')"
   ]
  },
  {
   "cell_type": "code",
   "execution_count": null,
   "metadata": {
    "collapsed": true
   },
   "outputs": [],
   "source": [
    "cnn=torch.load('model_epoch_1.pth')"
   ]
  },
  {
   "cell_type": "code",
   "execution_count": 29,
   "metadata": {
    "collapsed": true
   },
   "outputs": [],
   "source": [
    "real_image=Load_TrainImages(TrainSet_num=1)\n",
    "real_image=real_image.reshape(396,396,396)"
   ]
  },
  {
   "cell_type": "code",
   "execution_count": 30,
   "metadata": {},
   "outputs": [
    {
     "name": "stdout",
     "output_type": "stream",
     "text": [
      "(396, 396, 396)\n"
     ]
    }
   ],
   "source": [
    "testdataset=scipy.ndimage.interpolation.zoom(real_image,1/3)\n",
    "testdataset=scipy.ndimage.interpolation.zoom(testdataset,3)\n",
    "print (testdataset.shape)"
   ]
  },
  {
   "cell_type": "code",
   "execution_count": 31,
   "metadata": {
    "collapsed": true
   },
   "outputs": [],
   "source": [
    "test_image=testdataset[100:170,100:170,100:170]\n",
    "# print (test_image.shape)\n",
    "test_image=test_image.reshape(1,1,70,70,70)\n",
    "test_image=torch.Tensor(test_image)\n",
    "test_image=Variable(test_image).cuda()\n",
    "test_output=cnn(test_image)"
   ]
  },
  {
   "cell_type": "code",
   "execution_count": 32,
   "metadata": {
    "collapsed": true
   },
   "outputs": [],
   "source": [
    "test_output=test_output.data.cpu().numpy().squeeze()"
   ]
  },
  {
   "cell_type": "code",
   "execution_count": 33,
   "metadata": {},
   "outputs": [
    {
     "data": {
      "text/plain": [
       "<matplotlib.image.AxesImage at 0x7f63c1031240>"
      ]
     },
     "execution_count": 33,
     "metadata": {},
     "output_type": "execute_result"
    },
    {
     "data": {
      "image/png": "[encoded data removed]",
      "text/plain": [
       "<matplotlib.figure.Figure at 0x7f63c101c588>"
      ]
     },
     "metadata": {},
     "output_type": "display_data"
    }
   ],
   "source": [
    "plt.imshow(test_output[10],cmap='gray')"
   ]
  },
  {
   "cell_type": "code",
   "execution_count": 36,
   "metadata": {},
   "outputs": [
    {
     "data": {
      "text/plain": [
       "<matplotlib.image.AxesImage at 0x7f63c0eff748>"
      ]
     },
     "execution_count": 36,
     "metadata": {},
     "output_type": "execute_result"
    },
    {
     "data": {
      "image/png": "[encoded data removed]",
      "text/plain": [
       "<matplotlib.figure.Figure at 0x7f63c1005a90>"
      ]
     },
     "metadata": {},
     "output_type": "display_data"
    }
   ],
   "source": [
    "plt.imshow(testdataset[110,100:170,100:170],cmap='gray')"
   ]
  },
  {
   "cell_type": "code",
   "execution_count": 35,
   "metadata": {},
   "outputs": [
    {
     "data": {
      "text/plain": [
       "<matplotlib.image.AxesImage at 0x7f63c0fc8b00>"
      ]
     },
     "execution_count": 35,
     "metadata": {},
     "output_type": "execute_result"
    },
    {
     "data": {
      "image/png": "[encoded data removed]",
      "text/plain": [
       "<matplotlib.figure.Figure at 0x7f63c1124cf8>"
      ]
     },
     "metadata": {},
     "output_type": "display_data"
    }
   ],
   "source": [
    "plt.imshow(real_image[110,100:170,100:170],cmap='gray')"
   ]
  },
  {
   "cell_type": "code",
   "execution_count": null,
   "metadata": {
    "collapsed": true
   },
   "outputs": [],
   "source": []
  },
  {
   "cell_type": "code",
   "execution_count": null,
   "metadata": {
    "collapsed": true
   },
   "outputs": [],
   "source": []
  }
 ],
 "metadata": {
  "kernelspec": {
   "display_name": "Python 3",
   "language": "python",
   "name": "python3"
  },
  "language_info": {
   "codemirror_mode": {
    "name": "ipython",
    "version": 3
   },
   "file_extension": ".py",
   "mimetype": "text/x-python",
   "name": "python",
   "nbconvert_exporter": "python",
   "pygments_lexer": "ipython3",
   "version": "3.6.3"
  }
 },
 "nbformat": 4,
 "nbformat_minor": 2
}
