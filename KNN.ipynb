{
 "cells": [
  {
   "cell_type": "code",
   "execution_count": 1,
   "metadata": {},
   "outputs": [
    {
     "name": "stderr",
     "output_type": "stream",
     "text": [
      "/home/wdd/anaconda3/lib/python3.6/site-packages/statsmodels/compat/pandas.py:56: FutureWarning: The pandas.core.datetools module is deprecated and will be removed in a future version. Please use the pandas.tseries module instead.\n",
      "  from pandas.core import datetools\n"
     ]
    }
   ],
   "source": [
    "import random\n",
    "import operator\n",
    "import datetime\n",
    "import numpy as np\n",
    "import pandas as pd\n",
    "import statsmodels.api as sm\n",
    "import matplotlib.pyplot as plt"
   ]
  },
  {
   "cell_type": "code",
   "execution_count": 2,
   "metadata": {},
   "outputs": [
    {
     "name": "stdout",
     "output_type": "stream",
     "text": [
      "Help on method_descriptor:\n",
      "\n",
      "sort(...)\n",
      "    L.sort(key=None, reverse=False) -> None -- stable sort *IN PLACE*\n",
      "\n"
     ]
    }
   ],
   "source": [
    "class A"
   ]
  },
  {
   "cell_type": "code",
   "execution_count": null,
   "metadata": {
    "collapsed": true
   },
   "outputs": [],
   "source": [
    "grief_heights=np.random.normal(50,6,100)\n",
    "grief_weithts=np.random.normal(5,0.5,100)\n"
   ]
  },
  {
   "cell_type": "code",
   "execution_count": null,
   "metadata": {
    "collapsed": true
   },
   "outputs": [],
   "source": [
    "class kdtree(object):\n",
    "    def __init__(self,point_list,depth=0,root=None):\n",
    "        if len(point_list)>0:\n",
    "            k=len(point_list[0][0])\n",
    "            axis=depth%k\n",
    "            point_list.sort(key=lambda x:x[0][axis])\n",
    "            median=len(point_list)//2\n",
    "            self.axis=axis\n",
    "            self.root=root\n",
    "            self.size=len(point_list)\n",
    "            self.node=point_list[median]\n",
    "            if len(point_list[:median])>0:\n",
    "                self.left=kdtree(point_list[:median],depth+1,self)\n",
    "            else:\n",
    "                self.left=None\n",
    "            if len(point_list[median+1:])>0:\n",
    "                self.right=kdtree(point_list[median+1:],depth+1,self)\n",
    "            else :\n",
    "                self.right=None\n",
    "        else :\n",
    "            return None\n",
    "    def insert(self,point):\n",
    "        self.size+=1\n",
    "        if point[0][self.axis]<self.node[0][self.axis]:\n",
    "            \n",
    "        "
   ]
  }
 ],
 "metadata": {
  "kernelspec": {
   "display_name": "Python 3",
   "language": "python",
   "name": "python3"
  },
  "language_info": {
   "codemirror_mode": {
    "name": "ipython",
    "version": 3
   },
   "file_extension": ".py",
   "mimetype": "text/x-python",
   "name": "python",
   "nbconvert_exporter": "python",
   "pygments_lexer": "ipython3",
   "version": "3.6.3"
  }
 },
 "nbformat": 4,
 "nbformat_minor": 2
}
