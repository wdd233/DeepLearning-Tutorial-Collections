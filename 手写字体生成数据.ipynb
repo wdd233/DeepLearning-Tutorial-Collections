{
 "cells": [
  {
   "cell_type": "code",
   "execution_count": 1,
   "metadata": {},
   "outputs": [
    {
     "ename": "ModuleNotFoundError",
     "evalue": "No module named 'zhon'",
     "output_type": "error",
     "traceback": [
      "\u001b[0;31m---------------------------------------------------------------------------\u001b[0m",
      "\u001b[0;31mModuleNotFoundError\u001b[0m                       Traceback (most recent call last)",
      "\u001b[0;32m<ipython-input-1-a75561e6334b>\u001b[0m in \u001b[0;36m<module>\u001b[0;34m()\u001b[0m\n\u001b[1;32m      7\u001b[0m \u001b[0;32mfrom\u001b[0m \u001b[0mimgaug\u001b[0m \u001b[0;32mimport\u001b[0m \u001b[0maugmenters\u001b[0m \u001b[0;32mas\u001b[0m \u001b[0miaa\u001b[0m\u001b[0;34m\u001b[0m\u001b[0;34m\u001b[0m\u001b[0m\n\u001b[1;32m      8\u001b[0m \u001b[0;32mimport\u001b[0m \u001b[0mcv2\u001b[0m\u001b[0;34m\u001b[0m\u001b[0;34m\u001b[0m\u001b[0m\n\u001b[0;32m----> 9\u001b[0;31m \u001b[0;32mfrom\u001b[0m \u001b[0mzhon\u001b[0m \u001b[0;32mimport\u001b[0m \u001b[0mhanzi\u001b[0m\u001b[0;34m\u001b[0m\u001b[0;34m\u001b[0m\u001b[0m\n\u001b[0m\u001b[1;32m     10\u001b[0m \u001b[0;32mimport\u001b[0m \u001b[0mglob\u001b[0m\u001b[0;34m\u001b[0m\u001b[0;34m\u001b[0m\u001b[0m\n",
      "\u001b[0;31mModuleNotFoundError\u001b[0m: No module named 'zhon'"
     ]
    }
   ],
   "source": [
    "from PIL import Image, ImageDraw, ImageFont, ImageFilter\n",
    "import glob\n",
    "import numpy as np\n",
    "import os\n",
    "import random\n",
    "import imgaug as ia\n",
    "from imgaug import augmenters as iaa\n",
    "import cv2\n",
    "from zhon import hanzi\n",
    "import glob"
   ]
  },
  {
   "cell_type": "markdown",
   "metadata": {},
   "source": [
    "## 预备知识\n",
    "* 文件读取\n",
    "* PIL使用\n",
    "* os操作"
   ]
  },
  {
   "cell_type": "markdown",
   "metadata": {},
   "source": [
    "### 文件读取\n",
    "`f.read(-1)`读取指定大小的字符串  \n",
    "`f.readline()`读取一行内容  \n",
    "`f.readlines()`读取所有行的内容，返回一个包含所有行的list"
   ]
  },
  {
   "cell_type": "markdown",
   "metadata": {},
   "source": [
    "### glob\n",
    "glob模块支持的通配符：\n",
    "\n",
    "通配符\t功能   \n",
    "\\*\t匹配0或多个字符  \n",
    "**\t匹配所有文件、目录、子目录和子目录里的文件（3.5版本新增）  \n",
    "?\t匹配1个字符，与正则表达式里的?不同   \n",
    "[exp]\t匹配指定范围内的字符，如：[1-9]匹配1至9范围内的字符  \n",
    "[!exp]\t匹配不在指定范围内的字符  \n"
   ]
  },
  {
   "cell_type": "code",
   "execution_count": 80,
   "metadata": {},
   "outputs": [
    {
     "data": {
      "text/plain": [
       "('dasf/asdf', '.sd')"
      ]
     },
     "execution_count": 80,
     "metadata": {},
     "output_type": "execute_result"
    }
   ],
   "source": [
    "os.path.splitext('dasf/asdf.sd')"
   ]
  },
  {
   "cell_type": "code",
   "execution_count": 4,
   "metadata": {},
   "outputs": [],
   "source": [
    "\n",
    "row_collections = glob.glob(\"手写字体数据集/\"+\"TL*\")#匹配行段落\n"
   ]
  },
  {
   "cell_type": "code",
   "execution_count": 81,
   "metadata": {},
   "outputs": [
    {
     "name": "stdout",
     "output_type": "stream",
     "text": [
      "(1671, 108)\n",
      "(103, 1478)\n"
     ]
    },
    {
     "ename": "TypeError",
     "evalue": "argument must be sequence",
     "output_type": "error",
     "traceback": [
      "\u001b[0;31m---------------------------------------------------------------------------\u001b[0m",
      "\u001b[0;31mTypeError\u001b[0m                                 Traceback (most recent call last)",
      "\u001b[0;32m<ipython-input-81-40e1c7fc032a>\u001b[0m in \u001b[0;36m<module>\u001b[0;34m()\u001b[0m\n\u001b[1;32m     31\u001b[0m \u001b[0mImage\u001b[0m\u001b[0;34m.\u001b[0m\u001b[0mfromarray\u001b[0m\u001b[0;34m(\u001b[0m\u001b[0mbbox\u001b[0m\u001b[0;34m)\u001b[0m\u001b[0;34m.\u001b[0m\u001b[0mshow\u001b[0m\u001b[0;34m(\u001b[0m\u001b[0;34m)\u001b[0m\u001b[0;34m\u001b[0m\u001b[0;34m\u001b[0m\u001b[0m\n\u001b[1;32m     32\u001b[0m \u001b[0mdraw\u001b[0m \u001b[0;34m=\u001b[0m \u001b[0mImageDraw\u001b[0m\u001b[0;34m.\u001b[0m\u001b[0mDraw\u001b[0m\u001b[0;34m(\u001b[0m\u001b[0msample\u001b[0m\u001b[0;34m)\u001b[0m\u001b[0;34m\u001b[0m\u001b[0;34m\u001b[0m\u001b[0m\n\u001b[0;32m---> 33\u001b[0;31m \u001b[0mdraw\u001b[0m\u001b[0;34m.\u001b[0m\u001b[0mline\u001b[0m\u001b[0;34m(\u001b[0m\u001b[0;36m100\u001b[0m\u001b[0;34m,\u001b[0m \u001b[0;36m200\u001b[0m\u001b[0;34m)\u001b[0m\u001b[0;34m\u001b[0m\u001b[0;34m\u001b[0m\u001b[0m\n\u001b[0m\u001b[1;32m     34\u001b[0m \u001b[0;31m# draw.rectangle(bbox, outline=2)\u001b[0m\u001b[0;34m\u001b[0m\u001b[0;34m\u001b[0m\u001b[0;34m\u001b[0m\u001b[0m\n\u001b[1;32m     35\u001b[0m \u001b[0;34m\u001b[0m\u001b[0m\n",
      "\u001b[0;32m~/anaconda3/lib/python3.6/site-packages/PIL/ImageDraw.py\u001b[0m in \u001b[0;36mline\u001b[0;34m(self, xy, fill, width)\u001b[0m\n\u001b[1;32m    154\u001b[0m         \u001b[0mink\u001b[0m\u001b[0;34m,\u001b[0m \u001b[0mfill\u001b[0m \u001b[0;34m=\u001b[0m \u001b[0mself\u001b[0m\u001b[0;34m.\u001b[0m\u001b[0m_getink\u001b[0m\u001b[0;34m(\u001b[0m\u001b[0mfill\u001b[0m\u001b[0;34m)\u001b[0m\u001b[0;34m\u001b[0m\u001b[0;34m\u001b[0m\u001b[0m\n\u001b[1;32m    155\u001b[0m         \u001b[0;32mif\u001b[0m \u001b[0mink\u001b[0m \u001b[0;32mis\u001b[0m \u001b[0;32mnot\u001b[0m \u001b[0;32mNone\u001b[0m\u001b[0;34m:\u001b[0m\u001b[0;34m\u001b[0m\u001b[0;34m\u001b[0m\u001b[0m\n\u001b[0;32m--> 156\u001b[0;31m             \u001b[0mself\u001b[0m\u001b[0;34m.\u001b[0m\u001b[0mdraw\u001b[0m\u001b[0;34m.\u001b[0m\u001b[0mdraw_lines\u001b[0m\u001b[0;34m(\u001b[0m\u001b[0mxy\u001b[0m\u001b[0;34m,\u001b[0m \u001b[0mink\u001b[0m\u001b[0;34m,\u001b[0m \u001b[0mwidth\u001b[0m\u001b[0;34m)\u001b[0m\u001b[0;34m\u001b[0m\u001b[0;34m\u001b[0m\u001b[0m\n\u001b[0m\u001b[1;32m    157\u001b[0m \u001b[0;34m\u001b[0m\u001b[0m\n\u001b[1;32m    158\u001b[0m     \u001b[0;32mdef\u001b[0m \u001b[0mshape\u001b[0m\u001b[0;34m(\u001b[0m\u001b[0mself\u001b[0m\u001b[0;34m,\u001b[0m \u001b[0mshape\u001b[0m\u001b[0;34m,\u001b[0m \u001b[0mfill\u001b[0m\u001b[0;34m=\u001b[0m\u001b[0;32mNone\u001b[0m\u001b[0;34m,\u001b[0m \u001b[0moutline\u001b[0m\u001b[0;34m=\u001b[0m\u001b[0;32mNone\u001b[0m\u001b[0;34m)\u001b[0m\u001b[0;34m:\u001b[0m\u001b[0;34m\u001b[0m\u001b[0;34m\u001b[0m\u001b[0m\n",
      "\u001b[0;31mTypeError\u001b[0m: argument must be sequence"
     ]
    }
   ],
   "source": [
    "\n",
    "def crop_img(img):\n",
    "    \"\"\"\n",
    "    Return:(y1, x1, y2, x2)最大外接矩形的左上坐标和右下坐标\n",
    "    \"\"\"\n",
    "    h, w = img.shape\n",
    "    margin = np.random.randint(10, 20)#留出一点的空白部分,否则会导致识别出问题\n",
    "    horiziontal_indicies = np.where(np.any(img, axis=0))[0]\n",
    "    vertival_indicies = np.where(np.any(img, axis=1))[0]\n",
    "    if horiziontal_indicies.shape[0]:\n",
    "        x1, x2 = horiziontal_indicies[[0, -1]]\n",
    "        y1, y2 = vertival_indicies[[0, -1]]\n",
    "#         x2 += 1\n",
    "#         y2 += 1\n",
    "    else:\n",
    "        x1, x2, y1, y2 = 0, 0, 0, 0\n",
    "    x1 = max(x1 - margin, 0)#最大最小原则\n",
    "    x2 = min(x2 + margin, w)\n",
    "    return 255 - img[y1:y2, x1:x2] #直接返回crop好的图片\n",
    "a = np.array([[0,0,1,1,0,0],[0,1,1,1,1,0],[0,0,0,1,0,0],[0,0,0,0,0,0]])\n",
    "# print(a)\n",
    "extract_outbox(a)\n",
    "sample = Image.open(\"hand_sample.bmp\").convert(\"L\")#bmp使用灰度读取\n",
    "print(sample.size)\n",
    "# sample.show()\n",
    "sample_arr = np.array(sample)\n",
    "sample_arr = 255 -sample_arr\n",
    "bbox = crop_img(sample_arr)\n",
    "print(bbox.shape)\n",
    "newCanvas = Image.new(\"RGB\", size=(2500, 2500), color='white')\n",
    "Image.fromarray(bbox).show()\n",
    "draw = ImageDraw.Draw(sample)\n",
    "draw.line(100, 200)\n",
    "# draw.rectangle(bbox, outline=2)\n",
    "\n",
    "sample.show()\n",
    "# newCanvas.show()\n",
    "# print(sample_arr)\n",
    "# bbox = extract_outbox(sample_arr)\n",
    "# # sample_arr[bbox[0]:bbox[2], bbox[1]:bbox[3]].astype(np.int32)\n",
    "# # Image.fromarray(sample_arr).show()"
   ]
  },
  {
   "cell_type": "markdown",
   "metadata": {},
   "source": [
    "注意list和array不是一个东西  \n",
    "list中可能有很多个对象,但是array就只是一个对象,可能二者里面包含的数值都是一样的,但是用法上还是不能混同\n",
    "\n",
    ">注意,如果Image对象是灰度图时,传入的所有颜色color参数只能有一个通道,如果传入元组会报错!!!!"
   ]
  },
  {
   "cell_type": "code",
   "execution_count": 29,
   "metadata": {},
   "outputs": [],
   "source": [
    "ImageDraw.ImageDraw.rectangle?"
   ]
  },
  {
   "cell_type": "code",
   "execution_count": 192,
   "metadata": {},
   "outputs": [
    {
     "data": {
      "text/plain": [
       "array([1, 2, 3, 4, 5])"
      ]
     },
     "execution_count": 192,
     "metadata": {},
     "output_type": "execute_result"
    }
   ],
   "source": [
    "np.maximum(1, [1,2,3,4,5])"
   ]
  },
  {
   "cell_type": "code",
   "execution_count": 193,
   "metadata": {
    "collapsed": true
   },
   "outputs": [],
   "source": [
    "np.maximum?"
   ]
  },
  {
   "cell_type": "code",
   "execution_count": null,
   "metadata": {
    "collapsed": true
   },
   "outputs": [],
   "source": [
    "def "
   ]
  },
  {
   "cell_type": "markdown",
   "metadata": {},
   "source": [
    "`np.any(axis=)`axis=0沿着另一个轴\n"
   ]
  },
  {
   "cell_type": "markdown",
   "metadata": {},
   "source": [
    "### Image\n",
    "该基类是`Image.Image`,如果需要help在这个类的基础上查看  \n",
    "**方法和属性：**\n",
    "`Image.split()=>多个通道的list`通道分离,  \n",
    "`Image.resize((size))`图像尺寸变化  \n",
    "`Image.convert(\"RGB\")`图像色彩模式转换\n",
    "\n",
    "### ImageDraw\n",
    "`ImageDraw.ImageDraw`这是父类，下面的方法都是基于这个类，如果需要help用这个后面加方法或属性\n",
    "PIL画盘，需要使用该函数将待处理图像放入Draw(Image)，返回一个句柄对象用来作画  \n",
    "**常用方法介绍：**  \n",
    "`ImageDraw.Draw()`画盘将图像包住  \n",
    "`ImageDraw.textsize(text=\"content\", font=fontObj)=>(width, height)`返回给定字符串的分辨率大小，以像素为单位  \n",
    "\n",
    "`ImageDraw.text([loc], text=\"content\", font=fontObj, fill=(color,color,color))`写文字  \n",
    "`ImageFont.truetype(font=font_type, size=font_size)`设定字体,font传入字体路径    \n",
    "`draw.rectangle([xy], outline=(color), fill=(color))`\n",
    "功能：绘制一个长边形。\n",
    "变量box是包含2元组[(x,y),…]或者数字[x,y,…]的任何序列对象。它应该包括2个坐标值(左上坐标axis=1和右下坐标axis=0),  \n",
    "注意：当长方形没有没有被填充时，第二个坐标对定义了一个长方形外面的点。  \n",
    "变量options可以绘制外框和矩形色块，**outline是指定外框的颜色**，fill是指定矩形色块填充颜色  \n",
    "\n",
    "`Image.paste(img, loc)`将img粘贴到self上\n",
    "* 粘贴新图片至图片中，loc 参数可以为 2-元组（upper, left）只需要传左上坐标就好了，或是 4-元组（left, upper, right, lower），或者是 None  \n",
    "* 功能同上。不过是将指定位置填充为某种颜色。"
   ]
  },
  {
   "cell_type": "code",
   "execution_count": 133,
   "metadata": {
    "collapsed": true
   },
   "outputs": [],
   "source": [
    "np.where?"
   ]
  },
  {
   "cell_type": "code",
   "execution_count": 134,
   "metadata": {},
   "outputs": [],
   "source": [
    "def make_dirs(path):\n",
    "    if not os.path.exists(path):\n",
    "        os.makedirs(path)\n",
    "        \n",
    "        \n",
    "background_imgs_dir = \"bg_img/\"\n",
    "fonts_dir = \"fonts/\"\n",
    "handwriting_imgs_dir = \"手写字体数据集/\"\n",
    "handwriting_set = os.listdir(handwriting_imgs_dir)\n",
    "saved_path = \"synthesis_imgs\"\n",
    "text_block_path = \"\"\n",
    "make_dirs(saved_path) \n"
   ]
  },
  {
   "cell_type": "code",
   "execution_count": 93,
   "metadata": {},
   "outputs": [
    {
     "name": "stdout",
     "output_type": "stream",
     "text": [
      "\u001b[30m\u001b[43m__pycache__\u001b[m\u001b[m              \u001b[31mcollect_chinese_word.txt\u001b[m\u001b[m \u001b[34mutils\u001b[m\u001b[m\r\n",
      "\u001b[30m\u001b[43mbg_img\u001b[m\u001b[m                   \u001b[30m\u001b[43mfonts\u001b[m\u001b[m                    \u001b[30m\u001b[43mword\u001b[m\u001b[m\r\n",
      "\u001b[31mcfg.py\u001b[m\u001b[m                   generate_data.ipynb      \u001b[30m\u001b[43m手写字体数据集\u001b[m\u001b[m\r\n",
      "\u001b[31mcollect_chinese_word.py\u001b[m\u001b[m  \u001b[34msynthesis_imgs\u001b[m\u001b[m\r\n"
     ]
    }
   ],
   "source": [
    "!ls"
   ]
  },
  {
   "cell_type": "code",
   "execution_count": 84,
   "metadata": {},
   "outputs": [],
   "source": [
    "# punctuation = hanzi.punctuation#中文标点符号\n",
    "zhon_collections = \"collect_chinese_word.txt\"\n",
    "with open(zhon_collections, 'r') as f:\n",
    "    zhon_chars = f.read(-1)\n",
    "# print(zhon_chars)\n",
    "char_nums = len(zhon_chars)\n",
    "word_len = np.random.randint(5, 25)\n",
    "start = 0\n",
    "newCanvas = Image.new(\"RGB\", (2512,2512), 'white')#新建背景画布\n",
    "\n",
    "# newCanvas.show()\n",
    "h_back, w_back = newCanvas.size\n",
    "font_type = os.path.join(\"fonts\", np.random.choice(os.listdir(\"fonts/\")))\n",
    "font_size = np.random.randint(15, 30)\n",
    "margin_ratio = 1 / 8\n",
    "texts = zhon_chars[start:start + word_len]\n",
    "\n",
    "# ImageFont = ImageFont.truetype(font=font, size=np.random.randint(5,10)) \n",
    "font = ImageFont.truetype(font=font_type, size=font_size)#生成好了随机大小，类型的字体\n",
    "x_start, y_start = int(margin_ratio * w_back), int(margin_ratio * h_back)\n",
    "draw = ImageDraw.Draw(newCanvas)\n",
    "w_txt, h_txt = draw.textsize(font=font, text=texts)\n",
    "with Image.open(\"hand_sample.bmp\") as hand_img:\n",
    "    w_hand, h_hand = hand_img.size\n",
    "    hw_ratio = h_hand / w_hand\n",
    "    draw.text(xy=(x_start, y_start), text=texts, font=font, fill=(255,0,0))\n",
    "    hand_img.resize((int(hw_ratio * h_back * 1/5), int(w_back * 1/5)))\n",
    "    newCanvas.paste(hand_img, (x_start + w_txt, y_start + h_txt) )\n",
    "    newCanvas.show()"
   ]
  },
  {
   "cell_type": "raw",
   "metadata": {},
   "source": [
    "hand_img = Image.open(\"手写字体数据集/hand_sample.bmp\")\n",
    "img = np.array(hand_img)\n",
    "# np.any(hand_img, axis=1)\n",
    "img == False"
   ]
  },
  {
   "cell_type": "code",
   "execution_count": null,
   "metadata": {
    "collapsed": true
   },
   "outputs": [],
   "source": [
    "def make_thumb(path, sizes=(75, 32, 16)):\n",
    "    base, ext = os.path.splitext(path)\n",
    "    try:\n",
    "        im = Image.open(path)\n",
    "    except IOError:\n",
    "        return \n",
    "    mode = im.mode\n",
    "    if mode not in  ('L', 'RGB'):\n",
    "        if mode == \"RGBA\":\n",
    "            alpha = im.split()[3]\n",
    "            bgmask = alpha.point(lambda x: 255-x)\n",
    "            im = im.convert()"
   ]
  },
  {
   "cell_type": "markdown",
   "metadata": {},
   "source": [
    "## TODO\n",
    "* 使用PIL实现在图像上写一部分文字\n",
    "** 读取背景图片\n",
    "** 读取文字库txt，然后从中选取一部分区块文字，然后进行生成图片\n",
    "** 选择文字区块，长度随机(1-40),字体大小要随机(字体大小要与背景图像尺寸相关)，字体类型随机，\n",
    "* 读取手写字体并贴到打印字体的合成图片上(取最大外界矩形，判断一下文字的区间   )\n",
    "* 打印体和手写体都需要确定location，并且形成标注文件\n"
   ]
  },
  {
   "cell_type": "markdown",
   "metadata": {
    "collapsed": true
   },
   "source": [
    "确定两头，字库不重复，保证每个字出现在开头结尾，判断每个字是否出现在头和尾"
   ]
  },
  {
   "cell_type": "code",
   "execution_count": 93,
   "metadata": {},
   "outputs": [
    {
     "data": {
      "text/plain": [
       "0.7753738378480579"
      ]
     },
     "execution_count": 93,
     "metadata": {},
     "output_type": "execute_result"
    }
   ],
   "source": [
    "round(123 / 11, 3)#小数点后取三位\n",
    "123 // 22 #地板除\n",
    "123 / 22 #float除法\n",
    "min(12, 34, 43)#取最小的\n",
    "max(34, 253, 45)#取最大的\n",
    "np.random.uniform(0,10)"
   ]
  },
  {
   "cell_type": "code",
   "execution_count": null,
   "metadata": {},
   "outputs": [],
   "source": [
    "def get_text_block():\n",
    "    char_nums = np.random.randint(5, 20)\n",
    "    "
   ]
  },
  {
   "cell_type": "code",
   "execution_count": 39,
   "metadata": {},
   "outputs": [
    {
     "ename": "NameError",
     "evalue": "name 'handwriting_imgs_dir' is not defined",
     "output_type": "error",
     "traceback": [
      "\u001b[0;31m---------------------------------------------------------------------------\u001b[0m",
      "\u001b[0;31mNameError\u001b[0m                                 Traceback (most recent call last)",
      "\u001b[0;32m<ipython-input-39-c4577260c4f3>\u001b[0m in \u001b[0;36m<module>\u001b[0;34m()\u001b[0m\n\u001b[1;32m      1\u001b[0m \u001b[0mrandom\u001b[0m\u001b[0;34m.\u001b[0m\u001b[0mseed\u001b[0m\u001b[0;34m(\u001b[0m\u001b[0;36m666\u001b[0m\u001b[0;34m)\u001b[0m\u001b[0;34m\u001b[0m\u001b[0;34m\u001b[0m\u001b[0m\n\u001b[1;32m      2\u001b[0m \u001b[0;34m\u001b[0m\u001b[0m\n\u001b[0;32m----> 3\u001b[0;31m \u001b[0mTL\u001b[0m \u001b[0;34m=\u001b[0m \u001b[0mglob\u001b[0m\u001b[0;34m.\u001b[0m\u001b[0mglob\u001b[0m\u001b[0;34m(\u001b[0m\u001b[0mhandwriting_imgs_dir\u001b[0m\u001b[0;34m+\u001b[0m\u001b[0;34m'T*'\u001b[0m\u001b[0;34m)\u001b[0m\u001b[0;31m#glob.glob()返回正则匹配到的结果，return一个结果list\u001b[0m\u001b[0;34m\u001b[0m\u001b[0;34m\u001b[0m\u001b[0m\n\u001b[0m\u001b[1;32m      4\u001b[0m \u001b[0mblur_ratio\u001b[0m \u001b[0;34m=\u001b[0m \u001b[0;36m0.1\u001b[0m\u001b[0;34m\u001b[0m\u001b[0;34m\u001b[0m\u001b[0m\n\u001b[1;32m      5\u001b[0m \u001b[0mtext_block_path\u001b[0m \u001b[0;34m=\u001b[0m \u001b[0;34m\"collect_chinese_word.txt\"\u001b[0m\u001b[0;34m\u001b[0m\u001b[0;34m\u001b[0m\u001b[0m\n",
      "\u001b[0;31mNameError\u001b[0m: name 'handwriting_imgs_dir' is not defined"
     ]
    }
   ],
   "source": [
    "random.seed(666)\n",
    "\n",
    "TL = glob.glob(handwriting_imgs_dir+'T*')#glob.glob()返回正则匹配到的结果，return一个结果list\n",
    "blur_ratio = 0.1\n",
    "text_block_path = \"collect_chinese_word.txt\"#文字路径\n",
    "fonts = os.listdir(fonts_dir)\n",
    "with open(text_block_path, \"r\") as f:\n",
    "    items = f.readlines()\n",
    "    \n",
    "bg_imgs = os.listdir(background_imgs_dir)\n",
    "sample = Image.open(os.path.join(background_imgs_dir, np.random.choice(bg_imgs)))\n",
    "# sample.show()\n",
    "print(sample.size)\n",
    "bg_h, bg_w = sample.size\n",
    "new_one = Image.new('RGB', (bg_h, bg_w), 'white')\n",
    "font_type = os.path.join(fonts_dir, random.choice(fonts))\n",
    "scale_ratio = 1 / 40\n",
    "base_size = int(bg_h * scale_ratio)\n",
    "font_size = random.randint(0, 10) + base_size\n",
    "\n",
    "blank = Image.new(\"RGB\", [1024, 768], \"white\")\n",
    "drawObj = ImageDraw.Draw(sample)\n",
    "# drawObj.line([100, 100, 100, 600], fill='red')\n",
    "# drawObj.line([200,200,200,500], fill='black')\n",
    "text = \"敢问路在何方\"\n",
    "font1 = ImageFont.truetype(font=font_type, size=font_size)#生成好了随机大小，类型的字体\n",
    "# drawObj.rectangle([0, 200, 300, 400])\n",
    "bbs_list = []\n",
    "for i in range(bg_h // font_size):\n",
    "    random_interval = random.randint(0, font_size)\n",
    "    if random_interval > bg_h:\n",
    "        break\n",
    "    h_loc = i * font_size\n",
    "    bbs_list.append(ia.BoundingBox(0, h_loc, w_txt, h_loc + h_txt))\n",
    "    w_txt, h_txt = drawObj.textsize(text=text, font=font1)\n",
    "\n",
    "    drawObj.rectangle([0, h_loc, w_txt, h_loc + h_txt], outline=(255, 7, 4) )\n",
    "#     print(w_txt, h_txt)\n",
    "    drawObj.text([0, h_loc], text, 'black', font=font1)\n",
    "    if np.random.randint(0, 10) < 8:\n",
    "        blank = Image.new('RGB', (w_txt, h_txt), 'red')\n",
    "        sample.paste(blank, (w_txt, h_loc + h_txt))\n",
    "# bbs = ia.BoundingBoxesOnImage(bbs_list, shape=sample.size)\n",
    "# bbs.draw_on_image(np.array(sample), thickness=2, color=[0,5,255])\n",
    "sample_blurred = motion_blur(sample, degree=np.random.randint(0,10), angle=np.random.randint(0,90))\n",
    "Image.fromarray(sample_blurred).show()"
   ]
  },
  {
   "cell_type": "code",
   "execution_count": null,
   "metadata": {
    "collapsed": true
   },
   "outputs": [],
   "source": [
    "def gen_txt_per_row():\n",
    "    h_back, w_back = bg_img.size\n",
    "    hw_ratio = h_back / w_back\n",
    "    margin_ratio = 1/4\n",
    "    y_start = margin_ratio * h_back + np.random.randint(0, 10)\n",
    "    x_start = margin_ratio * hw_ratio * w_back + np.random.randint(0, 10)"
   ]
  },
  {
   "cell_type": "code",
   "execution_count": null,
   "metadata": {
    "collapsed": true
   },
   "outputs": [],
   "source": [
    "def gen_single_char_text():\n",
    "    msTime = int(round(time.time()))"
   ]
  },
  {
   "cell_type": "code",
   "execution_count": null,
   "metadata": {
    "collapsed": true
   },
   "outputs": [],
   "source": [
    "def gen_text(img, first_end_text, text_block, start_char, ds):\n",
    "    draw = ImageDraw.Draw(img)\n",
    "    w_"
   ]
  },
  {
   "cell_type": "code",
   "execution_count": null,
   "metadata": {
    "collapsed": true
   },
   "outputs": [],
   "source": [
    "def motion_blur(image, degree=12, angle=45):\n",
    "    image = np.array(image)\n",
    "\n",
    "    # 这里生成任意角度的运动模糊kernel的矩阵， degree越大，模糊程度越高\n",
    "    M = cv2.getRotationMatrix2D((degree / 2, degree / 2), angle, 1)\n",
    "    motion_blur_kernel = np.diag(np.ones(degree))\n",
    "    motion_blur_kernel = cv2.warpAffine(motion_blur_kernel, M, (degree, degree))\n",
    "\n",
    "    motion_blur_kernel = motion_blur_kernel / degree\n",
    "    blurred = cv2.filter2D(image, -1, motion_blur_kernel)\n",
    "\n",
    "    # convert to uint8\n",
    "    cv2.normalize(blurred, blurred, 0, 255, cv2.NORM_MINMAX)\n",
    "    blurred = np.array(blurred, dtype=np.uint8)\n",
    "    return blurred\n",
    "sample.show()"
   ]
  }
 ],
 "metadata": {
  "kernelspec": {
   "display_name": "Python 3",
   "language": "python",
   "name": "python3"
  },
  "language_info": {
   "codemirror_mode": {
    "name": "ipython",
    "version": 3
   },
   "file_extension": ".py",
   "mimetype": "text/x-python",
   "name": "python",
   "nbconvert_exporter": "python",
   "pygments_lexer": "ipython3",
   "version": "3.6.7"
  }
 },
 "nbformat": 4,
 "nbformat_minor": 2
}
