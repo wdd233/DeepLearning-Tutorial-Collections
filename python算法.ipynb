{
 "cells": [
  {
   "cell_type": "markdown",
   "metadata": {},
   "source": [
    "# 算法"
   ]
  },
  {
   "cell_type": "markdown",
   "metadata": {},
   "source": [
    "## 排序"
   ]
  },
  {
   "cell_type": "code",
   "execution_count": 4,
   "metadata": {},
   "outputs": [],
   "source": [
    "bench = [6, 7, 8, 3, 2, 5, 1 , 9, 4]"
   ]
  },
  {
   "cell_type": "code",
   "execution_count": null,
   "metadata": {},
   "outputs": [],
   "source": [
    "顺序查找：从列表中的第一个元素开始，顺序进行搜索，直到找到为止，复杂度为O(n)"
   ]
  },
  {
   "cell_type": "code",
   "execution_count": 5,
   "metadata": {},
   "outputs": [
    {
     "name": "stdout",
     "output_type": "stream",
     "text": [
      "list[6]=7\n"
     ]
    }
   ],
   "source": [
    "list = [1,2,3,4,5,6,7,8,9]\n",
    "element = 7\n",
    "def ord_sear(list,element):\n",
    "    for i in range(0,len(list)):\n",
    "        if list[i] == element:\n",
    "            print('list[{0}]={1}'.format(i,element))\n",
    "            return i\n",
    "    else:\n",
    "        print('not found')\n",
    "j = ord_sear(list,element)"
   ]
  },
  {
   "cell_type": "markdown",
   "metadata": {},
   "source": [
    "二分查找虽然在时间复杂度上优于顺序查找，但是有比较苛刻的条件，即列表必须为有序的。复杂度O(logn)下面将介绍列表排序："
   ]
  },
  {
   "cell_type": "code",
   "execution_count": 16,
   "metadata": {},
   "outputs": [
    {
     "name": "stdout",
     "output_type": "stream",
     "text": [
      "list[2]==3\n"
     ]
    }
   ],
   "source": [
    "def bin_sear(list, element):\n",
    "    low = 0\n",
    "    high = len(list) - 1\n",
    "    while low <= high:\n",
    "        mid = (low + high) //2\n",
    "        if element == list[mid]:\n",
    "            print('list[{0}]=={1}'.format(mid, element))\n",
    "            return mid\n",
    "        elif element > list[mid]:\n",
    "            low = mid + 1\n",
    "        else:\n",
    "            high = mid - 1\n",
    "    return None\n",
    "list = [1,2,3,4,5,6,7,8,9]\n",
    "element = 3\n",
    "j = bin_sear(list, element)"
   ]
  },
  {
   "cell_type": "code",
   "execution_count": 18,
   "metadata": {},
   "outputs": [
    {
     "name": "stdout",
     "output_type": "stream",
     "text": [
      "list[4]=5\n",
      "out of range\n"
     ]
    }
   ],
   "source": [
    "l = [1,2,3,4,5,6,7,8,9]\n",
    "element = 5\n",
    "def ord_sear(seq, element):\n",
    "    for i in range(0, len(seq)):\n",
    "        if seq[i] == element:\n",
    "            print('list[{0}]={1}'.format(i, element))\n",
    "    else:#else与for并列,\n",
    "        print('out of range')\n",
    "ord_sear(l, element)"
   ]
  },
  {
   "cell_type": "markdown",
   "metadata": {},
   "source": [
    "## 排序\n",
    "\n",
    "* 冒泡排序\n",
    "* 选择排序\n",
    "* 插入排序"
   ]
  },
  {
   "cell_type": "markdown",
   "metadata": {},
   "source": [
    "冒泡排序的思路是从n个擂台排位赛,每次把一个数据通过不断打擂台,排位争取第n个位置,已经打擂安排的第n-1个位置,就不需要再去争取了.因此伪代码如下:\n",
    "```\n",
    "for 控制n-1个擂台位置\n",
    "    控制剩余的人进行打擂\n",
    "    \n",
    "```\n",
    "优化改进:<br>\n",
    "利用不等号的传递性,当无人位置发生变更即已经打擂完成"
   ]
  },
  {
   "cell_type": "code",
   "execution_count": 3,
   "metadata": {},
   "outputs": [
    {
     "ename": "TypeError",
     "evalue": "object of type 'type' has no len()",
     "output_type": "error",
     "traceback": [
      "\u001b[0;31m---------------------------------------------------------------------------\u001b[0m",
      "\u001b[0;31mTypeError\u001b[0m                                 Traceback (most recent call last)",
      "\u001b[0;32m<ipython-input-3-16d4451b47ec>\u001b[0m in \u001b[0;36m<module>\u001b[0;34m()\u001b[0m\n\u001b[1;32m     13\u001b[0m     \u001b[0;32mreturn\u001b[0m \u001b[0mlist\u001b[0m\u001b[0;34m\u001b[0m\u001b[0m\n\u001b[1;32m     14\u001b[0m \u001b[0;34m\u001b[0m\u001b[0m\n\u001b[0;32m---> 15\u001b[0;31m \u001b[0mprint\u001b[0m\u001b[0;34m(\u001b[0m\u001b[0mbubble\u001b[0m\u001b[0;34m(\u001b[0m\u001b[0mlist\u001b[0m\u001b[0;34m)\u001b[0m\u001b[0;34m)\u001b[0m\u001b[0;34m\u001b[0m\u001b[0m\n\u001b[0m",
      "\u001b[0;32m<ipython-input-3-16d4451b47ec>\u001b[0m in \u001b[0;36mbubble\u001b[0;34m(list)\u001b[0m\n\u001b[1;32m      1\u001b[0m \u001b[0;32mdef\u001b[0m \u001b[0mbubble\u001b[0m\u001b[0;34m(\u001b[0m\u001b[0mlist\u001b[0m\u001b[0;34m)\u001b[0m\u001b[0;34m:\u001b[0m\u001b[0;34m\u001b[0m\u001b[0m\n\u001b[0;32m----> 2\u001b[0;31m     \u001b[0mhigh\u001b[0m \u001b[0;34m=\u001b[0m \u001b[0mlen\u001b[0m\u001b[0;34m(\u001b[0m\u001b[0mlist\u001b[0m\u001b[0;34m)\u001b[0m \u001b[0;34m-\u001b[0m \u001b[0;36m1\u001b[0m\u001b[0;31m#指定一个最高位\u001b[0m\u001b[0;34m\u001b[0m\u001b[0m\n\u001b[0m\u001b[1;32m      3\u001b[0m     \u001b[0;32mwhile\u001b[0m \u001b[0mhigh\u001b[0m \u001b[0;34m>\u001b[0m \u001b[0;36m0\u001b[0m\u001b[0;34m:\u001b[0m\u001b[0;34m\u001b[0m\u001b[0m\n\u001b[1;32m      4\u001b[0m         \u001b[0mflag\u001b[0m \u001b[0;34m=\u001b[0m \u001b[0;32mFalse\u001b[0m\u001b[0;34m\u001b[0m\u001b[0m\n\u001b[1;32m      5\u001b[0m         \u001b[0;32mfor\u001b[0m \u001b[0mi\u001b[0m \u001b[0;32min\u001b[0m \u001b[0mrange\u001b[0m\u001b[0;34m(\u001b[0m\u001b[0;36m0\u001b[0m\u001b[0;34m,\u001b[0m \u001b[0mhigh\u001b[0m\u001b[0;34m)\u001b[0m\u001b[0;34m:\u001b[0m\u001b[0;34m\u001b[0m\u001b[0m\n",
      "\u001b[0;31mTypeError\u001b[0m: object of type 'type' has no len()"
     ]
    }
   ],
   "source": [
    "def bubble(list):\n",
    "    high = len(list) - 1#指定一个最高位\n",
    "    while high > 0:\n",
    "        flag = False\n",
    "        for i in range(0, high):\n",
    "            if list[i] >list[i+1]:\n",
    "                list[i], list[i+1] = list[i+1], list[i]\n",
    "                flag = True\n",
    "            if flag == True:\n",
    "                return list\n",
    "                break\n",
    "        high -= 1\n",
    "    return list\n",
    "\n",
    "print(bubble(list))"
   ]
  },
  {
   "cell_type": "markdown",
   "metadata": {},
   "source": [
    "选择排序:一趟遍历选择最小的数放在第一位,再进行下一次遍历直到最后一个元素.每次都去选最元素位置(找人),找完人交换给他安排上,不断的扩大安排人数,每次都取安排最的那个人\n",
    "```\n",
    "for 总人数n\n",
    "    for 未安排,剩余的人\n",
    "```"
   ]
  },
  {
   "cell_type": "code",
   "execution_count": 50,
   "metadata": {},
   "outputs": [
    {
     "name": "stdout",
     "output_type": "stream",
     "text": [
      "[1, 2, 3, 4, 5, 6, 7, 8, 9]\n"
     ]
    }
   ],
   "source": [
    "def choice(list):\n",
    "    for i in range(0, len(list)):\n",
    "        min_loc = i\n",
    "        for j in range(i+1, len(list)):\n",
    "            if list[min_loc] > list[j]:\n",
    "                min_loc = j\n",
    "        list[i], list[min_loc] = list[min_loc], list[i]\n",
    "    return list\n",
    "print(choice(list))"
   ]
  },
  {
   "cell_type": "markdown",
   "metadata": {},
   "source": [
    "插入排序:将列表分为有序区和无序区,最开始的有序取只有一个元素,每次从无序区选择一个元素按大小插到有序区中,逐渐扩大有序区域的范围,在插入的时候是后撤步,空位用待排元素填空"
   ]
  },
  {
   "cell_type": "code",
   "execution_count": null,
   "metadata": {},
   "outputs": [],
   "source": [
    "for j=2 to A.length:\n",
    "    key = A[j]\n",
    "    i = j - 1\n",
    "    while i > 0 and A[i] > key:\n",
    "        A[i+1] = A[i]\n",
    "        i = i - 1\n",
    "    A[i+1] = key"
   ]
  },
  {
   "cell_type": "markdown",
   "metadata": {},
   "source": [
    "在for循环中的每次迭代开始，包含元素A[1..j-1]的子数组构成了当前排序号的左手中的牌，剩余的子数组A[j+1..n]对应于仍在桌子上的牌堆。事实上，元素A[1..j-1]就是运来在位置1到j-1的元素，但现在已经按序排列"
   ]
  },
  {
   "cell_type": "code",
   "execution_count": 98,
   "metadata": {},
   "outputs": [
    {
     "name": "stdout",
     "output_type": "stream",
     "text": [
      "[2, 3, 4, 5, 6]\n"
     ]
    }
   ],
   "source": [
    "def cut(list):\n",
    "    for i in range(1, len(list)):\n",
    "        temp = list[i]\n",
    "        for j in range(i-1, -1, -1):\n",
    "            if list[j] > temp:#从大到小,从小到大只需要更改此处的不等号即可\n",
    "                list[j+1] = list[j]\n",
    "                list[j] = temp\n",
    "    return list\n",
    "print(cut([6,5,4,3,2]))"
   ]
  },
  {
   "cell_type": "code",
   "execution_count": 68,
   "metadata": {},
   "outputs": [
    {
     "name": "stdout",
     "output_type": "stream",
     "text": [
      "[1, 2, 3, 4, 5, 6, 7, 8, 9]\n"
     ]
    }
   ],
   "source": [
    "def cut(list):\n",
    "    for i in range(1,len(list)):\n",
    "        temp = list[i]\n",
    "        for j in range(i-1,-1,-1):  #从有序区最大值开始遍历\n",
    "            if list[j]>temp:    #如果待插入值小于有序区的值\n",
    "                list[j+1] = list[j] #向后挪一位\n",
    "                list[j] = temp  #将temp放进去\n",
    "    return list\n",
    "print(cut(list))"
   ]
  },
  {
   "cell_type": "code",
   "execution_count": 99,
   "metadata": {},
   "outputs": [
    {
     "ename": "SyntaxError",
     "evalue": "non-default argument follows default argument (<ipython-input-99-19fd65e5c3ed>, line 1)",
     "output_type": "error",
     "traceback": [
      "\u001b[0;36m  File \u001b[0;32m\"<ipython-input-99-19fd65e5c3ed>\"\u001b[0;36m, line \u001b[0;32m1\u001b[0m\n\u001b[0;31m    def partition(left=0, right=len(list)-1, list):\u001b[0m\n\u001b[0m                 ^\u001b[0m\n\u001b[0;31mSyntaxError\u001b[0m\u001b[0;31m:\u001b[0m non-default argument follows default argument\n"
     ]
    }
   ],
   "source": [
    "def partition(left=0, right=len(list)-1, list):\n",
    "    temp = list[left]\n",
    "    while left < right:\n",
    "        while left < right and list[right]>temp:\n",
    "            right -= 1\n",
    "        list[left] = list[right]\n",
    "        while left < right and list[left] < temp:\n",
    "            left += 1\n",
    "        list[left] = temp\n",
    "        return left\n",
    "def quick_sort(left, right, list):\n",
    "    while left < right:\n",
    "        mid = partition(left, right, list)\n",
    "        quick_sort(left, mid-1, list)\n",
    "        quick_sort(mid+1, right, list)\n",
    "    return list\n",
    "print(quick_sort(left, right, list))"
   ]
  },
  {
   "cell_type": "markdown",
   "metadata": {},
   "source": [
    "堆排序:顶层节点必须要大于(或小于)底层的节点"
   ]
  },
  {
   "cell_type": "markdown",
   "metadata": {},
   "source": [
    "* 堆排序是利用堆进行排序的\n",
    "* 堆是一种完全二叉树\n",
    "* 堆有两种类型：大根堆 小根堆 （大根堆：每个节点的值都大于或等于左右孩子结点  小根堆：每个结点的值都小鱼或等于左右孩子结点）\n",
    ">**完全二叉树**一种除了最后一层之外的其他每一层都被完全填充，并且所有结点都保持向左对齐的树，"
   ]
  },
  {
   "cell_type": "markdown",
   "metadata": {},
   "source": [
    "1.首先将待排序的数组构造出一个大根堆\n",
    "2.取出这个大根堆的堆顶结点(最大值)，与堆最下最右的元素进行交换，然后把剩下的元素再构造出一个大根堆\n",
    "3.重复2，直到这个大根堆的长度为1，此时完成排序"
   ]
  },
  {
   "cell_type": "code",
   "execution_count": null,
   "metadata": {},
   "outputs": [],
   "source": [
    "def heap_sort(L):\n",
    "    L_length = len(L) - 1\n",
    "    first_sort_count = L_length / 2\n",
    "    for i in range(first_sort_count):\n",
    "        heap_adjust(L, first_sort_count - i, L_length)\n",
    "    for i in range(L_length - 1):"
   ]
  },
  {
   "cell_type": "code",
   "execution_count": null,
   "metadata": {},
   "outputs": [],
   "source": [
    "def sift(low, high, list):\n",
    "    i = low\n",
    "    j = 2 * i + 1\n",
    "    temp = list[i]\n",
    "    while j <= high:\n",
    "        if j < high and list[j] < list[j + 1]:\n",
    "            j += 1\n",
    "        if temp < list[j]:\n",
    "            list[i] = list[j]\n",
    "            i = j\n",
    "            j = 2 * i + 1\n",
    "        else:\n",
    "            break\n",
    "        list[i] = temp\n",
    "def heap_sort(list):\n",
    "    n = len(list)\n",
    "    for i in range(n // 2 - 1, -1, -1):\n",
    "        sift(i, n-1, list)\n",
    "    for i in range(n - 1, -1, -1):\n",
    "        list[0], list[i] = list[]"
   ]
  },
  {
   "cell_type": "code",
   "execution_count": 35,
   "metadata": {},
   "outputs": [
    {
     "name": "stdout",
     "output_type": "stream",
     "text": [
      "10\n",
      "9\n",
      "8\n",
      "7\n",
      "6\n",
      "5\n",
      "4\n",
      "3\n",
      "2\n",
      "1\n"
     ]
    }
   ],
   "source": [
    "for i in range(10, 0, -1):\n",
    "    print(i)"
   ]
  },
  {
   "cell_type": "code",
   "execution_count": 101,
   "metadata": {},
   "outputs": [
    {
     "name": "stdout",
     "output_type": "stream",
     "text": [
      "[1, 2]\n"
     ]
    }
   ],
   "source": [
    "p = []\n",
    "p += [1]\n",
    "p += [2]\n",
    "print(p)"
   ]
  },
  {
   "cell_type": "markdown",
   "metadata": {},
   "source": [
    "## 哈希\n",
    "散列表(Hash table, 也叫哈希表),是根据关键码值而直接进行访问的数据结构.也就是说,它通过把关键码值映射到表中的一个位置来访问记录,以加速查找的速度.这个映射函数叫做散列表.总之就是一种算法来使表中每个元素附上一个键(key),然后查找元素只要匹配这个键来就可以"
   ]
  },
  {
   "cell_type": "markdown",
   "metadata": {},
   "source": [
    "### Hash应用\n",
    "* Hash主要用于信息安全领域中的加密算法,它把一些不同长度的信息转换成杂乱的128位编码,这些编码值叫做Hash值.也可以说,Hash就是找到一种数据内容和数据存放地址之间的映射关系.\n",
    "* 查找:哈希表,又称为散列,是一种更加快捷的查找技术.我们之前的查找,都是这样的思路:集合中拿出一个元素,看看是否与我们要找的相等,如果不等,缩小范围,继续查找.哈希表是另一种思路:当我知道key值后,我们就可以直接计算出这个元素在集合中的位置.举一个例子,假如我的数组A中,第i个元素里面装的key就是i,那么数字3肯定是在第3个位置"
   ]
  },
  {
   "cell_type": "code",
   "execution_count": null,
   "metadata": {},
   "outputs": [],
   "source": [
    "import time \n",
    "import random\n",
    "LEN = 10 ** 7\n",
    "\n",
    "# 生成各不相同的10^7个元素\n",
    "in_set = {random.random()\n",
    "         for i in range(LEN)}\n",
    "while len(in_set) < LEN:\n",
    "    in_set.add(random.random())"
   ]
  },
  {
   "cell_type": "code",
   "execution_count": 1,
   "metadata": {},
   "outputs": [],
   "source": [
    "# 转换为list,tuple,dict    \n",
    "in_list = list(in_set)\n",
    "in_tuple = list(in_set)\n",
    "in_dict = {key: 0 for key in in_set}#使用三元组\n"
   ]
  },
  {
   "cell_type": "code",
   "execution_count": 4,
   "metadata": {},
   "outputs": [
    {
     "ename": "SyntaxError",
     "evalue": "invalid syntax (<ipython-input-4-dffbe941d7b9>, line 1)",
     "output_type": "error",
     "traceback": [
      "\u001b[0;36m  File \u001b[0;32m\"<ipython-input-4-dffbe941d7b9>\"\u001b[0;36m, line \u001b[0;32m1\u001b[0m\n\u001b[0;31m    if x in X\u001b[0m\n\u001b[0m             ^\u001b[0m\n\u001b[0;31mSyntaxError\u001b[0m\u001b[0;31m:\u001b[0m invalid syntax\n"
     ]
    }
   ],
   "source": [
    "if x in X\n",
    "if x not in X#判断xxx是否不在X中,如果不在,返回真\n",
    "while x in X\n",
    "while x not in X#"
   ]
  },
  {
   "cell_type": "code",
   "execution_count": 3,
   "metadata": {},
   "outputs": [
    {
     "name": "stdout",
     "output_type": "stream",
     "text": [
      "500\n",
      "500\n",
      "500\n",
      "500\n",
      "0.0003287792205810547 116.51704740524292 116.55464220046997 0.0002872943878173828\n"
     ]
    }
   ],
   "source": [
    "needles = [in_list[random.randint(0, LEN)]\n",
    "          for _ in range(500)]\n",
    "\n",
    "def test(target):\n",
    "    t1 = time.time()\n",
    "    global needles\n",
    "    found = 0\n",
    "    for n in needles:\n",
    "        if n in target:\n",
    "            found += 1\n",
    "    t2 = time.time()\n",
    "    print(found)\n",
    "    return t2 - t1\n",
    "\n",
    "t1 = test(in_set)\n",
    "t2 = test(in_list)\n",
    "t3 = test(in_tuple)\n",
    "t4 = test(in_dict)\n",
    "print(t1, t2, t3, t4)\n"
   ]
  },
  {
   "cell_type": "markdown",
   "metadata": {},
   "source": [
    "### 迭代器\n",
    "迭代器就是一个next()方法的对象,而不是通过索引来计数.当使用一个循环机制需要到下一个项时,\n"
   ]
  },
  {
   "cell_type": "code",
   "execution_count": 5,
   "metadata": {},
   "outputs": [
    {
     "ename": "AttributeError",
     "evalue": "'list_iterator' object has no attribute 'next'",
     "output_type": "error",
     "traceback": [
      "\u001b[0;31m---------------------------------------------------------------------------\u001b[0m",
      "\u001b[0;31mAttributeError\u001b[0m                            Traceback (most recent call last)",
      "\u001b[0;32m<ipython-input-5-1d92e3ec9e8b>\u001b[0m in \u001b[0;36m<module>\u001b[0;34m()\u001b[0m\n\u001b[1;32m      1\u001b[0m \u001b[0ml\u001b[0m \u001b[0;34m=\u001b[0m \u001b[0;34m[\u001b[0m\u001b[0;36m1\u001b[0m\u001b[0;34m,\u001b[0m\u001b[0;36m2\u001b[0m\u001b[0;34m,\u001b[0m\u001b[0;36m3\u001b[0m\u001b[0;34m,\u001b[0m\u001b[0;36m4\u001b[0m\u001b[0;34m]\u001b[0m\u001b[0;34m\u001b[0m\u001b[0m\n\u001b[1;32m      2\u001b[0m \u001b[0miterl\u001b[0m \u001b[0;34m=\u001b[0m \u001b[0miter\u001b[0m\u001b[0;34m(\u001b[0m\u001b[0ml\u001b[0m\u001b[0;34m)\u001b[0m\u001b[0;34m\u001b[0m\u001b[0m\n\u001b[0;32m----> 3\u001b[0;31m \u001b[0miterl\u001b[0m\u001b[0;34m.\u001b[0m\u001b[0mnext\u001b[0m\u001b[0;34m(\u001b[0m\u001b[0;34m)\u001b[0m\u001b[0;34m\u001b[0m\u001b[0m\n\u001b[0m",
      "\u001b[0;31mAttributeError\u001b[0m: 'list_iterator' object has no attribute 'next'"
     ]
    }
   ],
   "source": [
    "l = [1,2,3,4]\n",
    "iterl = iter(l)\n",
    "iterl.next()"
   ]
  },
  {
   "cell_type": "code",
   "execution_count": 7,
   "metadata": {},
   "outputs": [
    {
     "ename": "AttributeError",
     "evalue": "'dict_keyiterator' object has no attribute 'next'",
     "output_type": "error",
     "traceback": [
      "\u001b[0;31m---------------------------------------------------------------------------\u001b[0m",
      "\u001b[0;31mAttributeError\u001b[0m                            Traceback (most recent call last)",
      "\u001b[0;32m<ipython-input-7-26c974cf266b>\u001b[0m in \u001b[0;36m<module>\u001b[0;34m()\u001b[0m\n\u001b[1;32m      1\u001b[0m \u001b[0md\u001b[0m \u001b[0;34m=\u001b[0m \u001b[0;34m{\u001b[0m\u001b[0;34m'one'\u001b[0m\u001b[0;34m:\u001b[0m\u001b[0;36m1\u001b[0m\u001b[0;34m,\u001b[0m \u001b[0;34m'two'\u001b[0m\u001b[0;34m:\u001b[0m\u001b[0;36m2\u001b[0m\u001b[0;34m,\u001b[0m \u001b[0;34m'three'\u001b[0m\u001b[0;34m:\u001b[0m\u001b[0;36m3\u001b[0m\u001b[0;34m}\u001b[0m\u001b[0;34m\u001b[0m\u001b[0m\n\u001b[1;32m      2\u001b[0m \u001b[0miterd\u001b[0m \u001b[0;34m=\u001b[0m \u001b[0miter\u001b[0m\u001b[0;34m(\u001b[0m\u001b[0md\u001b[0m\u001b[0;34m)\u001b[0m\u001b[0;34m\u001b[0m\u001b[0m\n\u001b[0;32m----> 3\u001b[0;31m \u001b[0miterd\u001b[0m\u001b[0;34m.\u001b[0m\u001b[0mnext\u001b[0m\u001b[0;34m(\u001b[0m\u001b[0;34m)\u001b[0m\u001b[0;34m\u001b[0m\u001b[0m\n\u001b[0m",
      "\u001b[0;31mAttributeError\u001b[0m: 'dict_keyiterator' object has no attribute 'next'"
     ]
    }
   ],
   "source": [
    "d = {'one':1, 'two':2, 'three':3}\n",
    "iterd = iter(d)\n",
    "iterd.next()"
   ]
  },
  {
   "cell_type": "code",
   "execution_count": 8,
   "metadata": {},
   "outputs": [
    {
     "data": {
      "text/plain": [
       "<generator object <genexpr> at 0x7f772f48cd58>"
      ]
     },
     "execution_count": 8,
     "metadata": {},
     "output_type": "execute_result"
    }
   ],
   "source": [
    "(i for i in range(3))#generator object,这是一个生成器"
   ]
  },
  {
   "cell_type": "code",
   "execution_count": 13,
   "metadata": {},
   "outputs": [
    {
     "name": "stdout",
     "output_type": "stream",
     "text": [
      "[1, 2, 3, 4, 5, 6, 7, 8]\n"
     ]
    }
   ],
   "source": [
    "info = [0,1,2,3,4,5,6,7]\n",
    "for index, i in enumerate(info):\n",
    "    info[index] += 1\n",
    "print(info)"
   ]
  },
  {
   "cell_type": "code",
   "execution_count": 40,
   "metadata": {},
   "outputs": [
    {
     "data": {
      "text/plain": [
       "<map at 0x7f772f453828>"
      ]
     },
     "execution_count": 40,
     "metadata": {},
     "output_type": "execute_result"
    }
   ],
   "source": [
    "map(lambda x:x+1, a)#返回的是一个map对象"
   ]
  },
  {
   "cell_type": "code",
   "execution_count": 38,
   "metadata": {},
   "outputs": [
    {
     "name": "stdout",
     "output_type": "stream",
     "text": [
      "[11, 12, 13, 14, 15, 16, 17, 18]\n"
     ]
    }
   ],
   "source": [
    "a = list(map(lambda x:x+1, a))#map需要使用list转换\n",
    "print(a)"
   ]
  },
  {
   "cell_type": "code",
   "execution_count": 45,
   "metadata": {},
   "outputs": [
    {
     "name": "stdout",
     "output_type": "stream",
     "text": [
      "[1, 2, 3, 4, 5, 6, 7, 8, 9, 10]\n"
     ]
    }
   ],
   "source": [
    "a = [i+1 for i in range(10)]\n",
    "print(a)"
   ]
  },
  {
   "cell_type": "code",
   "execution_count": 49,
   "metadata": {},
   "outputs": [
    {
     "name": "stdout",
     "output_type": "stream",
     "text": [
      "0\n",
      "1\n",
      "4\n",
      "9\n",
      "16\n",
      "25\n",
      "36\n",
      "49\n"
     ]
    }
   ],
   "source": [
    "generator_ex = (x*x for x in range(10))\n",
    "print(next(generator_ex))\n",
    "print(next(generator_ex))\n",
    "print(next(generator_ex))\n",
    "print(next(generator_ex))\n",
    "print(next(generator_ex))\n",
    "print(next(generator_ex))\n",
    "print(next(generator_ex))\n",
    "print(next(generator_ex))"
   ]
  },
  {
   "cell_type": "code",
   "execution_count": 52,
   "metadata": {},
   "outputs": [],
   "source": [
    "for i in generator_ex:\n",
    "    print(i)"
   ]
  },
  {
   "cell_type": "code",
   "execution_count": 53,
   "metadata": {},
   "outputs": [],
   "source": [
    "def fib(max):\n",
    "    n, a, b = 0, 0, 1\n",
    "    while n < max:\n",
    "        a, b = b, a+b\n",
    "        n = n+1\n",
    "        print(a)\n",
    "    return 'done'"
   ]
  },
  {
   "cell_type": "code",
   "execution_count": 10,
   "metadata": {},
   "outputs": [
    {
     "ename": "TypeError",
     "evalue": "'list' object is not an iterator",
     "output_type": "error",
     "traceback": [
      "\u001b[0;31m---------------------------------------------------------------------------\u001b[0m",
      "\u001b[0;31mTypeError\u001b[0m                                 Traceback (most recent call last)",
      "\u001b[0;32m<ipython-input-10-c7631f90fbd1>\u001b[0m in \u001b[0;36m<module>\u001b[0;34m()\u001b[0m\n\u001b[1;32m      5\u001b[0m \u001b[0;32mwhile\u001b[0m \u001b[0;32mTrue\u001b[0m\u001b[0;34m:\u001b[0m\u001b[0;34m\u001b[0m\u001b[0m\n\u001b[1;32m      6\u001b[0m     \u001b[0;32mtry\u001b[0m\u001b[0;34m:\u001b[0m\u001b[0;34m\u001b[0m\u001b[0m\n\u001b[0;32m----> 7\u001b[0;31m         \u001b[0mx\u001b[0m \u001b[0;34m=\u001b[0m \u001b[0mnext\u001b[0m\u001b[0;34m(\u001b[0m\u001b[0mI\u001b[0m\u001b[0;34m)\u001b[0m\u001b[0;34m\u001b[0m\u001b[0m\n\u001b[0m\u001b[1;32m      8\u001b[0m         \u001b[0mprint\u001b[0m\u001b[0;34m(\u001b[0m\u001b[0mx\u001b[0m\u001b[0;34m)\u001b[0m\u001b[0;34m\u001b[0m\u001b[0m\n\u001b[1;32m      9\u001b[0m     \u001b[0;32mexcept\u001b[0m \u001b[0mStopIteration\u001b[0m\u001b[0;34m:\u001b[0m\u001b[0;34m\u001b[0m\u001b[0m\n",
      "\u001b[0;31mTypeError\u001b[0m: 'list' object is not an iterator"
     ]
    }
   ],
   "source": [
    "# Target\n",
    "# 获得Iterator对象\n",
    "I = [1,2,3,4]\n",
    "# 循环:\n",
    "while True:\n",
    "    try:\n",
    "        x = next(I)\n",
    "        print(x)\n",
    "    except StopIteration:\n",
    "        break\n",
    "# 获取下一个值\n",
    "# 遇到StropIteration退出循环"
   ]
  },
  {
   "cell_type": "code",
   "execution_count": null,
   "metadata": {},
   "outputs": [],
   "source": []
  },
  {
   "cell_type": "code",
   "execution_count": 58,
   "metadata": {},
   "outputs": [
    {
     "data": {
      "text/plain": [
       "'A_asdfaA'"
      ]
     },
     "execution_count": 58,
     "metadata": {},
     "output_type": "execute_result"
    }
   ],
   "source": [
    "'A_asdfaA_'.strip('_')"
   ]
  },
  {
   "cell_type": "code",
   "execution_count": null,
   "metadata": {},
   "outputs": [],
   "source": [
    "def generator(x):\n",
    "    i = 0\n",
    "    while i < x:\n",
    "        i += 1\n",
    "        yield i\n",
    "        return True\n",
    "    "
   ]
  },
  {
   "cell_type": "code",
   "execution_count": null,
   "metadata": {},
   "outputs": [],
   "source": [
    "def fib(max):\n",
    "    n, a, b = 0, 0, 1\n",
    "    while n < max:\n",
    "        yield b\n",
    "        a, b = b"
   ]
  },
  {
   "cell_type": "markdown",
   "metadata": {},
   "source": [
    "for 循环相当于每次调用了`__iter__()`"
   ]
  },
  {
   "cell_type": "markdown",
   "metadata": {},
   "source": [
    "对yield总结\n",
    "(1) 通常的for in 循环中,in后面是一个数组,这个数组就是一个可迭代的对象,类似的还有链表,字符串,文件.它可以是a=[1,2,3],但这个list中的数据是固化到内存里面的,如果有海量的数据,将会很耗费内存\n",
    "\n",
    "(2)生成器是可以迭代的,但是只可以读取他一次,**用的时候才回去生成数据**,比如`a= (x *x for x in range(3))`\n",
    "这个用小括号表示这是一个生成器\n",
    "\n",
    "(3)生成器(generator)能够迭代关键是他有`next()`方法,工作原理就是重复调用`next()`方法,直到捕获一个异常\n",
    "\n",
    "(4)带有yield的函数不再是一个普通的函数,而是一个生成器的generator,可用于迭代\n",
    "\n",
    "(5)`yield`是一个类似于**return的关键字,每次调用一次会被挂起,状态会被记录,下次迭代就从上次保存的位置继续**\n",
    "\n",
    "(6)带有`yield`"
   ]
  },
  {
   "cell_type": "markdown",
   "metadata": {},
   "source": [
    "## TopK\n",
    "`有N(N>1000000)个数字,求出其中的前K个最小数`\n",
    "思路一最基本的思路,将N个数进行完全排序,从中选出排在前K的元素即为所求,有了这个思路,我们可以选择相应的排序算法进行处理,目前来看快速排序,堆排序和归并排序都能达到`O(NlogN)`时间复杂度.\n",
    "可以使用数据吃的思想,选择其中前K个数作为数据池,后面的N-K个数与这K个数进行比较,若小于其中任何的一个数,则进行替换.这种思路的算法复杂度是`O(N*K)`<br>\n",
    "**思路3：**大根堆维护一个大小为K的数组,目前该大根堆中的元素是排名前K的数，其中根是最大的数。此后，每次从原数组中取一个元素与根进行比较，如小于根的元素，则将根元素替换并进行堆调整()\n",
    "**思路4：**利用快速排序的分划函数找到分划位置k，则前面的内容即为所求。该算法是一种非常有效的处理方式，时间复杂度为O(N),对于一次能加载到内存中的数组，该策略非常优秀\n",
    "快速排序之所以比较快，因为相比冒泡排序，每次交换是跳跃式的，每次排序的时候设置一个基准点，将小于等于基准点的数全部风道基准点的右侧。这样在每次交换的时候就不会像冒泡排序一样每次只能在相邻的数之间进行交换，交换的距离就打得多了。因此总的比较和交换次数就小了，速度自然提高了。当然在最坏的情况下，仍可能是相邻的两个数进行交换。因此快速排序的最差时间复杂度和冒泡排序一样都是O(N^2),快速排序的时间平均复杂度是O(NlogN)。其实快速排序基于一种**二分**的思想，"
   ]
  },
  {
   "cell_type": "code",
   "execution_count": null,
   "metadata": {},
   "outputs": [],
   "source": [
    "##C语言实现版本\n",
    "void quicksort(int left, int right)\n",
    "{\n",
    "    int i, j, tmp;\n",
    "    if (left > right)\n",
    "        return ;\n",
    "    temp = a[left];\n",
    "    i = left;\n",
    "    j = right;\n",
    "    while(i != j)\n",
    "    {\n",
    "        while (a[j] >= temp && i < j)\n",
    "            j--;#如果大于的话自动向下巡逻\n",
    "        while (a[i] <= temp && i < j)\n",
    "            i++;\n",
    "        if (i < j)\n",
    "        {\n",
    "            t = a[i];\n",
    "            a[i] = a[j];\n",
    "            a[j] = t;\n",
    "        }\n",
    "    }\n",
    "    a[left] = a[i];\n",
    "    a[i] = temp;\n",
    "    quicksort(left, )\n",
    "}"
   ]
  },
  {
   "cell_type": "code",
   "execution_count": 24,
   "metadata": {},
   "outputs": [
    {
     "data": {
      "text/plain": [
       "[0, 1, 2, 3, 4, 5, 6, 7, 8, 9]"
      ]
     },
     "execution_count": 24,
     "metadata": {},
     "output_type": "execute_result"
    }
   ],
   "source": [
    "def quicksort(arr, left, right):\n",
    "    if left < right:\n",
    "        key = arr[left]\n",
    "        low = left\n",
    "        high = right\n",
    "        while (low != high):\n",
    "            while low < high and key <= arr[high]:\n",
    "            #j哨兵从右向左查找比key小的元素，正常是key小于右侧数据\n",
    "                high = high - 1\n",
    "            while low < high and key >= arr[low]:\n",
    "                #i哨兵从左向右查找比key大的元素，正常情况都是key大于左侧数据\n",
    "                low = low + 1\n",
    "            if low < high:#\n",
    "                print('change')\n",
    "                t = arr[low]\n",
    "                arr[low] = arr[high]\n",
    "                arr[high] = t\n",
    "        arr[left] = arr[low]\n",
    "        arr[low] = key\n",
    "        quicksort(arr, left, low - 1)#高位使用了partition的分割点，递归\n",
    "        quicksort(arr, high + 1, right)#低位使用了partition\n",
    "\n",
    "arr = [9,8,7,6,5,4,3,2,1,0]\n",
    "quicksort(arr, 0, 9)\n",
    "arr"
   ]
  },
  {
   "cell_type": "code",
   "execution_count": 33,
   "metadata": {},
   "outputs": [],
   "source": [
    "def partition(List, left, right):\n",
    "    if left < right:#函数入口，先进行判断是否满足规则，同样也是递归的出口\n",
    "        tmp = List[left]\n",
    "        low = left\n",
    "        high = right\n",
    "        while low < high:#此处是循环的判断，因为每次执行循环都会影响到low和high的位置，下面的也是同样道理\n",
    "            while low < high and tmp >= List[high]:\n",
    "                high = high - 1\n",
    "            List[low] = List[high]\n",
    "            while low < high and tmp <= List[low]:\n",
    "                low = low + 1\n",
    "            List[high] = List[low]\n",
    "        List[low] = tmp\n",
    "    return low# 返回位置\n",
    "def topK(L, K):\n",
    "    if len(L) < K:\n",
    "        pass\n",
    "    low = 0\n",
    "    high = len(L) - 1\n",
    "    j = partition(L, low, high)\n",
    "    while j != K:\n",
    "        if K > j:\n",
    "            low = j + 1\n",
    "        else:\n",
    "                high = j\n",
    "        j =partition(L, low, high)\n",
    "            "
   ]
  },
  {
   "cell_type": "code",
   "execution_count": 38,
   "metadata": {},
   "outputs": [],
   "source": [
    "topK([1,2,3,4,5], 3)"
   ]
  },
  {
   "cell_type": "markdown",
   "metadata": {},
   "source": [
    "快速排序思想：\n",
    "1. 先从数列中取出一个数作为基数\n",
    "2. 分区过程，将比这个数大的数全放到它的右边，小于或者等于它的数全放到左边\n",
    "3. 再对左右区间重复2，直到各区间只有一个数\n",
    "\n",
    "**挖坑填数+分治法**\n",
    "i=0, j=9, X=a[i]"
   ]
  },
  {
   "cell_type": "markdown",
   "metadata": {},
   "source": [
    "## 动态规划\n",
    "动态规划现在是编程面试题综合功能的热门话题。**面试提是求一个问题的最优解(通常是求最大值或者最小值)，而且该问题能够分解成若干个子问题，并且子问题之间还有重叠的更小的子问题，就可以考虑用动态规划来解决这个问题**\n",
    "我们在应用动态规划之前要分析能否把大问题分解成小问题，分解后的每个小问题也存在最优解。如果把小问题的最优解组合起来能够得到整个问题的最优解，那么我们可以应用动态规划解决这个问题\n",
    "整体问题"
   ]
  },
  {
   "cell_type": "markdown",
   "metadata": {},
   "source": [
    "## 贪婪算法"
   ]
  },
  {
   "cell_type": "markdown",
   "metadata": {},
   "source": [
    "## 正则表达式"
   ]
  },
  {
   "cell_type": "markdown",
   "metadata": {},
   "source": [
    "## 回溯法"
   ]
  },
  {
   "cell_type": "markdown",
   "metadata": {},
   "source": [
    "项目经验：\n",
    "项目的规模，开发的软件的功能，目标用户等\n",
    "### Task\n",
    "自己完成的任务\n",
    "为了完成任务自己做了哪些工作，是怎么做的？\n",
    "自己的贡献\n",
    "描述技能掌握程度时要注意”了解“， ”熟悉“和”精通“的区别\n",
    "在介绍项目经验的时候，突出介绍自己完成的工作及取得的成绩"
   ]
  },
  {
   "cell_type": "markdown",
   "metadata": {},
   "source": [
    "## 位运算\n",
    "左移运算符，`m<<n`表示把m左移n位。在左移n位的时候，最左边的n位将被丢弃，同时在最右边补上n个0"
   ]
  },
  {
   "cell_type": "markdown",
   "metadata": {},
   "source": [
    "## 等概率和不等概率生成问题\n",
    "### 1.等概率生成"
   ]
  },
  {
   "cell_type": "code",
   "execution_count": null,
   "metadata": {},
   "outputs": [],
   "source": [
    "import random\n",
    "def Rand3():\n",
    "    x = 5 * random.random()\n",
    "    while x >= 3:\n",
    "        print(x)\n",
    "Rand3()"
   ]
  }
 ],
 "metadata": {
  "kernelspec": {
   "display_name": "Python 3",
   "language": "python",
   "name": "python3"
  },
  "language_info": {
   "codemirror_mode": {
    "name": "ipython",
    "version": 3
   },
   "file_extension": ".py",
   "mimetype": "text/x-python",
   "name": "python",
   "nbconvert_exporter": "python",
   "pygments_lexer": "ipython3",
   "version": "3.6.7"
  }
 },
 "nbformat": 4,
 "nbformat_minor": 2
}
