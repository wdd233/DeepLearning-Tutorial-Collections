{
 "cells": [
  {
   "cell_type": "code",
   "execution_count": 1,
   "metadata": {},
   "outputs": [],
   "source": [
    "import torch\n"
   ]
  },
  {
   "cell_type": "code",
   "execution_count": 3,
   "metadata": {},
   "outputs": [
    {
     "name": "stdout",
     "output_type": "stream",
     "text": [
      "<torch.cuda.device object at 0x7fc5fe4da898>\n"
     ]
    }
   ],
   "source": [
    "print (torch.cuda.device(1))"
   ]
  },
  {
   "cell_type": "code",
   "execution_count": null,
   "metadata": {},
   "outputs": [],
   "source": []
  },
  {
   "cell_type": "code",
   "execution_count": 4,
   "metadata": {},
   "outputs": [
    {
     "data": {
      "text/plain": [
       "1"
      ]
     },
     "execution_count": 4,
     "metadata": {},
     "output_type": "execute_result"
    }
   ],
   "source": [
    "torch.cuda.device_count()#返回可用GPU的数量"
   ]
  },
  {
   "cell_type": "code",
   "execution_count": null,
   "metadata": {},
   "outputs": [],
   "source": [
    "torch.cuda.device(idx)#管理选择的GPU，idx是GPU的编号"
   ]
  },
  {
   "cell_type": "code",
   "execution_count": null,
   "metadata": {},
   "outputs": [],
   "source": [
    "torch.cuda.is_available()#返回CUDA是否可用"
   ]
  },
  {
   "cell_type": "markdown",
   "metadata": {},
   "source": [
    "# 多GPUdebug\n",
    "`can't broadcast tensor to CPU`提示这个错误说明要么是数据要么是模型没有转换为CUDA格式\n",
    "**解决:**DataParralel(model)后面忘记了添加.cuda(),导致网络模型不是cuda格式"
   ]
  },
  {
   "cell_type": "markdown",
   "metadata": {},
   "source": [
    "`model = nn.DataParallel(model).cuda()`<br>\n",
    "`nn.DataParallel(model).cuda()`<br>\n",
    "在将网络放置到cuda的时候,这两种方式都是可以的,但是其实室友区别的"
   ]
  },
  {
   "cell_type": "markdown",
   "metadata": {},
   "source": [
    "`load_state_dict`网络加载不匹配问题,这是由于如果model经过Parallel之后外层会多一个module,这个是因为当时用了model = nn.DataParallel造成的,这样的话加载网络模型必须在model = nn.DataParallel(model).cuda()后面\n",
    "```\n",
    "RuntimeError: Error(s) in loading state_dict for SRCNN:\n",
    "\tMissing key(s) in state_dict: \"conv1.weight\", \"conv1.bias\", \"conv2.weight\", \"conv2.bias\", \"conv3.weight\", \"conv3.bias\". \n",
    "\tUnexpected key(s) in state_dict: \"module.conv1.weight\", \"module.conv1.bias\", \"module.conv2.weight\", \"module.conv2.bias\", \"module.conv3.weight\", \"module.conv3.bias\". \n",
    "    ```"
   ]
  },
  {
   "cell_type": "code",
   "execution_count": null,
   "metadata": {},
   "outputs": [],
   "source": [
    "model = SRCNN()\n",
    "if use_cuda:\n",
    "    model = nn.DataParallel(model).cuda()#不要忘记在Dataparallel后面也加上.cuda()\n",
    "if resume:#在nn.DataParallel之后运行,也就是必须之前要进行赋值操作\n",
    "    checkpoint = torch.load(checkpiont_path)\n",
    "    model.load_state_dict(checkpoint['state'])\n",
    "    Start_epoch = checkpoint['epoch']\n",
    "    train_config['lr'] = checkpoint['lr']\n",
    "    print('===============Load Model Successully', checkpiont_path)\n",
    "\n"
   ]
  }
 ],
 "metadata": {
  "kernelspec": {
   "display_name": "Python 3",
   "language": "python",
   "name": "python3"
  },
  "language_info": {
   "codemirror_mode": {
    "name": "ipython",
    "version": 3
   },
   "file_extension": ".py",
   "mimetype": "text/x-python",
   "name": "python",
   "nbconvert_exporter": "python",
   "pygments_lexer": "ipython3",
   "version": "3.6.7"
  }
 },
 "nbformat": 4,
 "nbformat_minor": 2
}
