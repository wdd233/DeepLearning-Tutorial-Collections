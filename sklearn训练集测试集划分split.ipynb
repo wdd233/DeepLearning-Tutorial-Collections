{
 "cells": [
  {
   "cell_type": "markdown",
   "metadata": {},
   "source": [
    "# sklearn数据集划分\n",
    "`sk`"
   ]
  },
  {
   "cell_type": "code",
   "execution_count": 53,
   "metadata": {},
   "outputs": [
    {
     "ename": "TypeError",
     "evalue": "addmm() received an invalid combination of arguments - got (Tensor, Tensor), but expected (Tensor input, Tensor mat1, Tensor mat2, float beta, float alpha, Tensor out)",
     "output_type": "error",
     "traceback": [
      "\u001b[0;31m---------------------------------------------------------------------------\u001b[0m",
      "\u001b[0;31mTypeError\u001b[0m                                 Traceback (most recent call last)",
      "\u001b[0;32m<ipython-input-53-fee8a62327a7>\u001b[0m in \u001b[0;36m<module>\u001b[0;34m()\u001b[0m\n\u001b[1;32m      8\u001b[0m \u001b[0mbias\u001b[0m \u001b[0;34m=\u001b[0m \u001b[0mtorch\u001b[0m\u001b[0;34m.\u001b[0m\u001b[0mtensor\u001b[0m\u001b[0;34m(\u001b[0m\u001b[0;34m[\u001b[0m\u001b[0;36m1\u001b[0m\u001b[0;34m,\u001b[0m\u001b[0;36m1\u001b[0m\u001b[0;34m]\u001b[0m\u001b[0;34m)\u001b[0m\u001b[0;34m\u001b[0m\u001b[0m\n\u001b[1;32m      9\u001b[0m \u001b[0;31m# arr = torch.mul(arr1,arr2)\u001b[0m\u001b[0;34m\u001b[0m\u001b[0;34m\u001b[0m\u001b[0m\n\u001b[0;32m---> 10\u001b[0;31m \u001b[0marr\u001b[0m \u001b[0;34m=\u001b[0m \u001b[0mtorch\u001b[0m\u001b[0;34m.\u001b[0m\u001b[0maddmm\u001b[0m\u001b[0;34m(\u001b[0m\u001b[0marr1\u001b[0m\u001b[0;34m,\u001b[0m \u001b[0marr2\u001b[0m\u001b[0;34m)\u001b[0m\u001b[0;34m\u001b[0m\u001b[0m\n\u001b[0m\u001b[1;32m     11\u001b[0m \u001b[0marr\u001b[0m\u001b[0;34m\u001b[0m\u001b[0m\n",
      "\u001b[0;31mTypeError\u001b[0m: addmm() received an invalid combination of arguments - got (Tensor, Tensor), but expected (Tensor input, Tensor mat1, Tensor mat2, float beta, float alpha, Tensor out)"
     ]
    }
   ],
   "source": [
    "import torch\n",
    "a = torch.tensor([1,2,3,4])\n",
    "b = torch.tensor([3])\n",
    "c = a * b\n",
    "c \n",
    "arr1 = torch.tensor([[1,2],[1,2], [1,2]])\n",
    "arr2 = torch.tensor([[1,1],[1,3]])\n",
    "bias = torch.tensor([1,1])\n",
    "# arr = torch.mul(arr1,arr2)\n",
    "arr = torch.addmm(arr1, arr2)\n",
    "arr"
   ]
  },
  {
   "cell_type": "code",
   "execution_count": null,
   "metadata": {},
   "outputs": [],
   "source": [
    "torch.tensor([1,2])#生成的是一个2的数组,不是矩阵维度是(2),不是(1x2),因此无法在矩阵中进行运算\n",
    "#如果想使用,必须增加一个维度,可以用reshape或者"
   ]
  },
  {
   "cell_type": "code",
   "execution_count": 82,
   "metadata": {},
   "outputs": [
    {
     "data": {
      "text/plain": [
       "tensor([[ 3,  6]])"
      ]
     },
     "execution_count": 82,
     "metadata": {},
     "output_type": "execute_result"
    }
   ],
   "source": [
    "w = torch.tensor([1,2]).reshape(1, 2)\n",
    "x = torch.tensor([[1,2],[1,2]])\n",
    "torch.mm(w,x)#"
   ]
  },
  {
   "cell_type": "code",
   "execution_count": 16,
   "metadata": {},
   "outputs": [
    {
     "data": {
      "text/plain": [
       "tensor([[[ 1,  2]],\n",
       "\n",
       "        [[ 1,  2]],\n",
       "\n",
       "        [[ 1,  2]]])"
      ]
     },
     "execution_count": 16,
     "metadata": {},
     "output_type": "execute_result"
    }
   ],
   "source": [
    "torch.tensor([[1,2], [1,2],[1,2]]).unsqueeze(1)"
   ]
  },
  {
   "cell_type": "code",
   "execution_count": 1,
   "metadata": {},
   "outputs": [
    {
     "name": "stdout",
     "output_type": "stream",
     "text": [
      "                                               img_path  label\n",
      "509   /home/bobo/WDD/Tianchi/data/guangdong_round1_t...      0\n",
      "510   /home/bobo/WDD/Tianchi/data/guangdong_round1_t...      0\n",
      "511   /home/bobo/WDD/Tianchi/data/guangdong_round1_t...      0\n",
      "512   /home/bobo/WDD/Tianchi/data/guangdong_round1_t...      0\n",
      "513   /home/bobo/WDD/Tianchi/data/guangdong_round1_t...      0\n",
      "514   /home/bobo/WDD/Tianchi/data/guangdong_round1_t...      0\n",
      "515   /home/bobo/WDD/Tianchi/data/guangdong_round1_t...      0\n",
      "516   /home/bobo/WDD/Tianchi/data/guangdong_round1_t...      0\n",
      "517   /home/bobo/WDD/Tianchi/data/guangdong_round1_t...      0\n",
      "518   /home/bobo/WDD/Tianchi/data/guangdong_round1_t...      0\n",
      "519   /home/bobo/WDD/Tianchi/data/guangdong_round1_t...      0\n",
      "520   /home/bobo/WDD/Tianchi/data/guangdong_round1_t...      0\n",
      "521   /home/bobo/WDD/Tianchi/data/guangdong_round1_t...      0\n",
      "522   /home/bobo/WDD/Tianchi/data/guangdong_round1_t...      0\n",
      "523   /home/bobo/WDD/Tianchi/data/guangdong_round1_t...      0\n",
      "524   /home/bobo/WDD/Tianchi/data/guangdong_round1_t...      0\n",
      "525   /home/bobo/WDD/Tianchi/data/guangdong_round1_t...      0\n",
      "526   /home/bobo/WDD/Tianchi/data/guangdong_round1_t...      0\n",
      "527   /home/bobo/WDD/Tianchi/data/guangdong_round1_t...      0\n",
      "528   /home/bobo/WDD/Tianchi/data/guangdong_round1_t...      0\n",
      "529   /home/bobo/WDD/Tianchi/data/guangdong_round1_t...      0\n",
      "530   /home/bobo/WDD/Tianchi/data/guangdong_round1_t...      0\n",
      "531   /home/bobo/WDD/Tianchi/data/guangdong_round1_t...      0\n",
      "532   /home/bobo/WDD/Tianchi/data/guangdong_round1_t...      0\n",
      "533   /home/bobo/WDD/Tianchi/data/guangdong_round1_t...      0\n",
      "534   /home/bobo/WDD/Tianchi/data/guangdong_round1_t...      0\n",
      "535   /home/bobo/WDD/Tianchi/data/guangdong_round1_t...      0\n",
      "536   /home/bobo/WDD/Tianchi/data/guangdong_round1_t...      0\n",
      "537   /home/bobo/WDD/Tianchi/data/guangdong_round1_t...      0\n",
      "538   /home/bobo/WDD/Tianchi/data/guangdong_round1_t...      0\n",
      "...                                                 ...    ...\n",
      "1966  /home/bobo/WDD/Tianchi/data/guangdong_round1_t...      4\n",
      "1967  /home/bobo/WDD/Tianchi/data/guangdong_round1_t...      4\n",
      "1968  /home/bobo/WDD/Tianchi/data/guangdong_round1_t...      4\n",
      "1969  /home/bobo/WDD/Tianchi/data/guangdong_round1_t...      4\n",
      "1970  /home/bobo/WDD/Tianchi/data/guangdong_round1_t...      4\n",
      "1971  /home/bobo/WDD/Tianchi/data/guangdong_round1_t...      4\n",
      "1972  /home/bobo/WDD/Tianchi/data/guangdong_round1_t...      4\n",
      "1973  /home/bobo/WDD/Tianchi/data/guangdong_round1_t...      4\n",
      "1974  /home/bobo/WDD/Tianchi/data/guangdong_round1_t...      4\n",
      "1975  /home/bobo/WDD/Tianchi/data/guangdong_round1_t...      4\n",
      "1976  /home/bobo/WDD/Tianchi/data/guangdong_round1_t...      4\n",
      "1977  /home/bobo/WDD/Tianchi/data/guangdong_round1_t...      4\n",
      "1978  /home/bobo/WDD/Tianchi/data/guangdong_round1_t...      4\n",
      "1979  /home/bobo/WDD/Tianchi/data/guangdong_round1_t...      4\n",
      "1980  /home/bobo/WDD/Tianchi/data/guangdong_round1_t...      4\n",
      "1981  /home/bobo/WDD/Tianchi/data/guangdong_round1_t...      4\n",
      "1982  /home/bobo/WDD/Tianchi/data/guangdong_round1_t...      4\n",
      "1983  /home/bobo/WDD/Tianchi/data/guangdong_round1_t...      4\n",
      "1984  /home/bobo/WDD/Tianchi/data/guangdong_round1_t...      4\n",
      "1985  /home/bobo/WDD/Tianchi/data/guangdong_round1_t...      4\n",
      "1986  /home/bobo/WDD/Tianchi/data/guangdong_round1_t...      4\n",
      "1987  /home/bobo/WDD/Tianchi/data/guangdong_round1_t...      4\n",
      "1988  /home/bobo/WDD/Tianchi/data/guangdong_round1_t...      4\n",
      "1989  /home/bobo/WDD/Tianchi/data/guangdong_round1_t...      4\n",
      "1990  /home/bobo/WDD/Tianchi/data/guangdong_round1_t...      4\n",
      "1991  /home/bobo/WDD/Tianchi/data/guangdong_round1_t...      4\n",
      "1992  /home/bobo/WDD/Tianchi/data/guangdong_round1_t...      4\n",
      "1993  /home/bobo/WDD/Tianchi/data/guangdong_round1_t...      4\n",
      "1994  /home/bobo/WDD/Tianchi/data/guangdong_round1_t...      4\n",
      "1995  /home/bobo/WDD/Tianchi/data/guangdong_round1_t...      4\n",
      "\n",
      "[995 rows x 2 columns]\n",
      "                                               img_path  label\n",
      "0     /home/bobo/WDD/Tianchi/data/guangdong_round1_t...      0\n",
      "1     /home/bobo/WDD/Tianchi/data/guangdong_round1_t...      0\n",
      "2     /home/bobo/WDD/Tianchi/data/guangdong_round1_t...      0\n",
      "3     /home/bobo/WDD/Tianchi/data/guangdong_round1_t...      0\n",
      "4     /home/bobo/WDD/Tianchi/data/guangdong_round1_t...      0\n",
      "5     /home/bobo/WDD/Tianchi/data/guangdong_round1_t...      0\n",
      "6     /home/bobo/WDD/Tianchi/data/guangdong_round1_t...      0\n",
      "7     /home/bobo/WDD/Tianchi/data/guangdong_round1_t...      0\n",
      "8     /home/bobo/WDD/Tianchi/data/guangdong_round1_t...      0\n",
      "9     /home/bobo/WDD/Tianchi/data/guangdong_round1_t...      0\n",
      "10    /home/bobo/WDD/Tianchi/data/guangdong_round1_t...      0\n",
      "11    /home/bobo/WDD/Tianchi/data/guangdong_round1_t...      0\n",
      "12    /home/bobo/WDD/Tianchi/data/guangdong_round1_t...      0\n",
      "13    /home/bobo/WDD/Tianchi/data/guangdong_round1_t...      0\n",
      "14    /home/bobo/WDD/Tianchi/data/guangdong_round1_t...      0\n",
      "15    /home/bobo/WDD/Tianchi/data/guangdong_round1_t...      0\n",
      "16    /home/bobo/WDD/Tianchi/data/guangdong_round1_t...      0\n",
      "17    /home/bobo/WDD/Tianchi/data/guangdong_round1_t...      0\n",
      "18    /home/bobo/WDD/Tianchi/data/guangdong_round1_t...      0\n",
      "19    /home/bobo/WDD/Tianchi/data/guangdong_round1_t...      0\n",
      "20    /home/bobo/WDD/Tianchi/data/guangdong_round1_t...      0\n",
      "21    /home/bobo/WDD/Tianchi/data/guangdong_round1_t...      0\n",
      "22    /home/bobo/WDD/Tianchi/data/guangdong_round1_t...      0\n",
      "23    /home/bobo/WDD/Tianchi/data/guangdong_round1_t...      0\n",
      "24    /home/bobo/WDD/Tianchi/data/guangdong_round1_t...      0\n",
      "25    /home/bobo/WDD/Tianchi/data/guangdong_round1_t...      0\n",
      "26    /home/bobo/WDD/Tianchi/data/guangdong_round1_t...      0\n",
      "27    /home/bobo/WDD/Tianchi/data/guangdong_round1_t...      0\n",
      "28    /home/bobo/WDD/Tianchi/data/guangdong_round1_t...      0\n",
      "29    /home/bobo/WDD/Tianchi/data/guangdong_round1_t...      0\n",
      "...                                                 ...    ...\n",
      "1921  /home/bobo/WDD/Tianchi/data/guangdong_round1_t...      4\n",
      "1922  /home/bobo/WDD/Tianchi/data/guangdong_round1_t...      4\n",
      "1923  /home/bobo/WDD/Tianchi/data/guangdong_round1_t...      4\n",
      "1924  /home/bobo/WDD/Tianchi/data/guangdong_round1_t...      4\n",
      "1925  /home/bobo/WDD/Tianchi/data/guangdong_round1_t...      4\n",
      "1926  /home/bobo/WDD/Tianchi/data/guangdong_round1_t...      4\n",
      "1927  /home/bobo/WDD/Tianchi/data/guangdong_round1_t...      4\n",
      "1928  /home/bobo/WDD/Tianchi/data/guangdong_round1_t...      4\n",
      "1929  /home/bobo/WDD/Tianchi/data/guangdong_round1_t...      4\n",
      "1930  /home/bobo/WDD/Tianchi/data/guangdong_round1_t...      4\n",
      "1931  /home/bobo/WDD/Tianchi/data/guangdong_round1_t...      4\n",
      "1932  /home/bobo/WDD/Tianchi/data/guangdong_round1_t...      4\n",
      "1933  /home/bobo/WDD/Tianchi/data/guangdong_round1_t...      4\n",
      "1934  /home/bobo/WDD/Tianchi/data/guangdong_round1_t...      4\n",
      "1935  /home/bobo/WDD/Tianchi/data/guangdong_round1_t...      4\n",
      "1936  /home/bobo/WDD/Tianchi/data/guangdong_round1_t...      4\n",
      "1937  /home/bobo/WDD/Tianchi/data/guangdong_round1_t...      4\n",
      "1938  /home/bobo/WDD/Tianchi/data/guangdong_round1_t...      4\n",
      "1939  /home/bobo/WDD/Tianchi/data/guangdong_round1_t...      4\n",
      "1940  /home/bobo/WDD/Tianchi/data/guangdong_round1_t...      4\n",
      "1941  /home/bobo/WDD/Tianchi/data/guangdong_round1_t...      4\n",
      "1942  /home/bobo/WDD/Tianchi/data/guangdong_round1_t...      4\n",
      "1943  /home/bobo/WDD/Tianchi/data/guangdong_round1_t...      4\n",
      "1944  /home/bobo/WDD/Tianchi/data/guangdong_round1_t...      4\n",
      "1945  /home/bobo/WDD/Tianchi/data/guangdong_round1_t...      4\n",
      "1946  /home/bobo/WDD/Tianchi/data/guangdong_round1_t...      4\n",
      "1947  /home/bobo/WDD/Tianchi/data/guangdong_round1_t...      4\n",
      "1948  /home/bobo/WDD/Tianchi/data/guangdong_round1_t...      4\n",
      "1949  /home/bobo/WDD/Tianchi/data/guangdong_round1_t...      4\n",
      "1950  /home/bobo/WDD/Tianchi/data/guangdong_round1_t...      4\n",
      "\n",
      "[1001 rows x 2 columns]\n"
     ]
    }
   ],
   "source": [
    "from sklearn.model_selection import StratifiedKFold\n",
    "from sklearn.model_selection import train_test_split\n",
    "import numpy as np\n",
    "import pandas as pd\n",
    "import torch\n",
    "X = pd.read_csv('label.csv')\n",
    "# X.loc[10, 'img_path']\n",
    "skf = StratifiedKFold(n_splits=2)\n",
    "# torch.arange()\n",
    "for train_index, test_index in skf.split(X['img_path'], X['label']):\n",
    "#     print('train', train_index.shape, 'test',test_index.shape)\n",
    "    print(X.loc[train_index])#返回的index是索引值 "
   ]
  },
  {
   "cell_type": "markdown",
   "metadata": {},
   "source": [
    "`train_test_split(train_seq, label_seq, test_size=ratio(test/train))`\n",
    "**return:**返回的是train_imgs, val_imgs, train_label, val_label四个集合"
   ]
  },
  {
   "cell_type": "code",
   "execution_count": 29,
   "metadata": {
    "collapsed": true
   },
   "outputs": [
    {
     "name": "stdout",
     "output_type": "stream",
     "text": [
      "(1796,) (200,) (200,) (200,)\n",
      "328      0\n",
      "675      0\n",
      "386      0\n",
      "1090     3\n",
      "1576    10\n",
      "653      0\n",
      "815      0\n",
      "1257     5\n",
      "1392     1\n",
      "560      0\n",
      "1495     6\n",
      "1577    10\n",
      "189      0\n",
      "759      0\n",
      "617      0\n",
      "1699    10\n",
      "120      0\n",
      "4        0\n",
      "64       0\n",
      "380      0\n",
      "1675    10\n",
      "804      0\n",
      "1580    10\n",
      "1714    10\n",
      "1669    10\n",
      "333      0\n",
      "486      0\n",
      "633      0\n",
      "1043     8\n",
      "1781     2\n",
      "        ..\n",
      "1057     8\n",
      "726      0\n",
      "1265     5\n",
      "1825     2\n",
      "6        0\n",
      "1432     6\n",
      "185      0\n",
      "1437     6\n",
      "980      0\n",
      "20       0\n",
      "171      0\n",
      "1433     6\n",
      "1857     7\n",
      "1751     2\n",
      "930      0\n",
      "247      0\n",
      "232      0\n",
      "623      0\n",
      "438      0\n",
      "1900     7\n",
      "1189     5\n",
      "261      0\n",
      "565      0\n",
      "1984     4\n",
      "57       0\n",
      "1841     2\n",
      "899      0\n",
      "1064     3\n",
      "457      0\n",
      "296      0\n",
      "Name: label, Length: 1796, dtype: int64\n"
     ]
    }
   ],
   "source": [
    "train_imgs, val_imgs, train_label, val_label =\\\n",
    "    train_test_split(X['img_path'], X['label'], test_size=0.1)\n",
    "print(train_imgs.shape, val_imgs.shape, val_imgs.shape, val_label.shape)\n",
    "print(train_label)"
   ]
  },
  {
   "cell_type": "markdown",
   "metadata": {},
   "source": [
    "**备注:**\n",
    "\n",
    "train_test_split是按照最外层维度进行划分的,也就是意味着[A,B,C,D,E]->[A,B,C,D] and [E],如果传入的是DataFrame,也就意味着会对每一行的信息划分,如果不需要返回index,需要在传值的时候进行切片索引,对于传入的series和list等,都是同样的道理\n"
   ]
  },
  {
   "cell_type": "markdown",
   "metadata": {},
   "source": [
    "`sklearn.model_selection.KFold(n_splits=3, shuffle=False, random_state=None)`<br>\n",
    "**思路：**将训练/测试数据集划分n_splits个互斥子集，每次用其中一个子集当作验证集，剩下的n_splits-1个作为训练集，进行n_splits次训练和测试，得到n_splits个结果<br>\n",
    "**注意点：**对于不能均等份的数据集，其前n_samples % n_splits子集拥有n_samples // n_splits + 1个样本，其余子集都只有n_samples // n_splits样本<br>"
   ]
  },
  {
   "cell_type": "code",
   "execution_count": 9,
   "metadata": {},
   "outputs": [
    {
     "name": "stdout",
     "output_type": "stream",
     "text": [
      "train: [[ 6  7]\n",
      " [ 8  9]\n",
      " [10 11]\n",
      " [12 13]\n",
      " [14 15]\n",
      " [16 17]\n",
      " [18 19]\n",
      " [20 21]\n",
      " [22 23]] test [[0 1]\n",
      " [2 3]\n",
      " [4 5]]\n",
      "train: [[ 0  1]\n",
      " [ 2  3]\n",
      " [ 4  5]\n",
      " [12 13]\n",
      " [14 15]\n",
      " [16 17]\n",
      " [18 19]\n",
      " [20 21]\n",
      " [22 23]] test [[ 6  7]\n",
      " [ 8  9]\n",
      " [10 11]]\n",
      "train: [[ 0  1]\n",
      " [ 2  3]\n",
      " [ 4  5]\n",
      " [ 6  7]\n",
      " [ 8  9]\n",
      " [10 11]\n",
      " [16 17]\n",
      " [18 19]\n",
      " [20 21]\n",
      " [22 23]] test [[12 13]\n",
      " [14 15]]\n",
      "train: [[ 0  1]\n",
      " [ 2  3]\n",
      " [ 4  5]\n",
      " [ 6  7]\n",
      " [ 8  9]\n",
      " [10 11]\n",
      " [12 13]\n",
      " [14 15]\n",
      " [20 21]\n",
      " [22 23]] test [[16 17]\n",
      " [18 19]]\n",
      "train: [[ 0  1]\n",
      " [ 2  3]\n",
      " [ 4  5]\n",
      " [ 6  7]\n",
      " [ 8  9]\n",
      " [10 11]\n",
      " [12 13]\n",
      " [14 15]\n",
      " [16 17]\n",
      " [18 19]] test [[20 21]\n",
      " [22 23]]\n"
     ]
    }
   ],
   "source": [
    "from sklearn.model_selection import KFold\n",
    "import numpy as np\n",
    "X = np.arange(24).reshape(12,2)\n",
    "# print(X)\n",
    "y = np.random.choice([1,2],12,p=[0.4,0.6])\n",
    "kf = KFold(n_splits=5,shuffle=False)\n",
    "for train_index , test_index in kf.split(X):\n",
    "    print('train:', X[train_index], 'test', X[test_index])#返回的是index\n",
    "#     print('train_index:%s , test_index: %s ' %(train_index,test_index))"
   ]
  },
  {
   "cell_type": "code",
   "execution_count": 11,
   "metadata": {},
   "outputs": [
    {
     "name": "stdout",
     "output_type": "stream",
     "text": [
      "StratifiedKFold(n_splits=3, random_state=None, shuffle=False)\n",
      "Train Index: [1 2 4 5] ,Test Index: [0 3]\n",
      "[[ 3  4]\n",
      " [ 5  6]\n",
      " [ 9 10]\n",
      " [11 12]]\n",
      "Train Index: [0 2 3 5] ,Test Index: [1 4]\n",
      "[[ 1  2]\n",
      " [ 5  6]\n",
      " [ 7  8]\n",
      " [11 12]]\n",
      "Train Index: [0 1 3 4] ,Test Index: [2 5]\n",
      "[[ 1  2]\n",
      " [ 3  4]\n",
      " [ 7  8]\n",
      " [ 9 10]]\n"
     ]
    }
   ],
   "source": [
    "import numpy as np\n",
    "from sklearn.model_selection import StratifiedKFold\n",
    "X=np.array([[1,2],[3,4],[5,6],[7,8],[9,10],[11,12]])\n",
    "y=np.array([1,1,1,2,2,2])\n",
    "skf=StratifiedKFold(n_splits=3)\n",
    "skf.get_n_splits(X,y)\n",
    "print(skf)\n",
    "for train_index,test_index in skf.split(X,y):\n",
    "    print(\"Train Index:\",train_index,\",Test Index:\",test_index)\n",
    "    X_train,X_test=X[train_index],X[test_index]\n",
    "    print(X_train)\n",
    "    y_train,y_test=y[train_index],y[test_index]"
   ]
  }
 ],
 "metadata": {
  "kernelspec": {
   "display_name": "Python 3",
   "language": "python",
   "name": "python3"
  },
  "language_info": {
   "codemirror_mode": {
    "name": "ipython",
    "version": 3
   },
   "file_extension": ".py",
   "mimetype": "text/x-python",
   "name": "python",
   "nbconvert_exporter": "python",
   "pygments_lexer": "ipython3",
   "version": "3.6.6"
  }
 },
 "nbformat": 4,
 "nbformat_minor": 2
}
