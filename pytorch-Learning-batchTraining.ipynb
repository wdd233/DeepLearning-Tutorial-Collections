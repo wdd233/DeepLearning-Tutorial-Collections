{
 "cells": [
  {
   "cell_type": "code",
   "execution_count": 97,
   "metadata": {},
   "outputs": [
    {
     "name": "stdout",
     "output_type": "stream",
     "text": [
      "\n",
      "  1\n",
      "  2\n",
      "  3\n",
      "  4\n",
      "  5\n",
      "  6\n",
      "  7\n",
      "  8\n",
      "  9\n",
      " 10\n",
      "[torch.FloatTensor of size 10]\n",
      "\n",
      "\n",
      " 10\n",
      "  9\n",
      "  8\n",
      "  7\n",
      "  6\n",
      "  5\n",
      "  4\n",
      "  3\n",
      "  2\n",
      "  1\n",
      "[torch.FloatTensor of size 10]\n",
      "\n",
      "EPOCH:  0 |Step:  0 |batch x :  [  6.   4.   2.   3.  10.] |batch y: [ 5.  7.  9.  8.  1.]\n",
      "EPOCH:  0 |Step:  1 |batch x :  [ 5.  8.  1.  7.  9.] |batch y: [  6.   3.  10.   4.   2.]\n",
      "EPOCH:  1 |Step:  0 |batch x :  [  9.   8.   5.  10.   6.] |batch y: [ 2.  3.  6.  1.  5.]\n",
      "EPOCH:  1 |Step:  1 |batch x :  [ 4.  1.  3.  2.  7.] |batch y: [  7.  10.   8.   9.   4.]\n",
      "EPOCH:  2 |Step:  0 |batch x :  [ 3.  1.  5.  4.  7.] |batch y: [  8.  10.   6.   7.   4.]\n",
      "EPOCH:  2 |Step:  1 |batch x :  [  2.  10.   8.   6.   9.] |batch y: [ 9.  1.  3.  5.  2.]\n"
     ]
    }
   ],
   "source": [
    "import torch\n",
    "import numpy as np\n",
    "import torch.utils.data as Data\n",
    "\n",
    "BATCH_SIZE=5\n",
    "\n",
    "x=torch.linspace(1,10,10)#\n",
    "y=torch.linspace(10,1,10)\n",
    "x=torch.squeeze(x,dim=0)\n",
    "print(x)\n",
    "print (y)\n",
    "torch_dataset=Data.TensorDataset(data_tensor=x,target_tensor=y)\n",
    "loader=Data.DataLoader(\n",
    "    dataset=torch_dataset,#绑定数据集\n",
    "    batch_size=BATCH_SIZE,#批处理大小\n",
    "    shuffle=True,#打乱顺序\n",
    "    num_workers=2#用两个进程来提取两个批\n",
    ")\n",
    "for epoch in range(3):\n",
    "    for step,(batch_x,batch_y) in enumerate(loader):\n",
    "        print ('EPOCH: ',epoch,'|Step: ',step,'|batch x : ',batch_x.numpy(),'|batch y:',batch_y.numpy())"
   ]
  }
 ],
 "metadata": {
  "kernelspec": {
   "display_name": "Python 3",
   "language": "python",
   "name": "python3"
  },
  "language_info": {
   "codemirror_mode": {
    "name": "ipython",
    "version": 3
   },
   "file_extension": ".py",
   "mimetype": "text/x-python",
   "name": "python",
   "nbconvert_exporter": "python",
   "pygments_lexer": "ipython3",
   "version": "3.6.3"
  }
 },
 "nbformat": 4,
 "nbformat_minor": 2
}
