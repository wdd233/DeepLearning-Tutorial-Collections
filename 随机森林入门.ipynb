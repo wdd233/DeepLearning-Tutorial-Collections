{
 "cells": [
  {
   "cell_type": "markdown",
   "metadata": {},
   "source": [
    "# 相关概念\n",
    "**分类器：**分类器就是给定一个样本数据，判定这个样本属于那个类别的算法\n",
    "**分裂：**在决策树的训练过程中，需要一次次的将训练数据集分裂成两个子数据集，这个过程就叫分裂。\n",
    "**特征：**在分类问题中，输入到分类其中的数据叫特征。\n",
    "**待选特征：**在决策树的构建过程中，需要按照一定的次序从全部的特征中选取特征。待选特征就是在目前的步骤之前还没有被选择的特征集合。例如，全部特征是ABCDE，第一步的时候，待选特征就是全部的特征；紧接着，我们选取了C作为第一个特征，待选特征就是ABDE\n",
    "**分裂特征：**接待选特征的定义，每一次选取的特征就是分裂特征，例如，上个例子中选取了C作为第一个特征，那么该步的分裂特征就是C\n",
    "# 决策树的构建过程\n",
    "要说到随机森林，必须先讲讲决策树，决策树是一种基本的分类器，一般是将特征分为两类(决策树也可以用来回归)。构建好的决策树呈树型结构，可以认为是if-then规则的集合，主要优点是模型具有可读性，分类速度快。\n"
   ]
  }
 ],
 "metadata": {
  "kernelspec": {
   "display_name": "Python 3",
   "language": "python",
   "name": "python3"
  },
  "language_info": {
   "codemirror_mode": {
    "name": "ipython",
    "version": 3
   },
   "file_extension": ".py",
   "mimetype": "text/x-python",
   "name": "python",
   "nbconvert_exporter": "python",
   "pygments_lexer": "ipython3",
   "version": "3.6.6"
  }
 },
 "nbformat": 4,
 "nbformat_minor": 2
}
