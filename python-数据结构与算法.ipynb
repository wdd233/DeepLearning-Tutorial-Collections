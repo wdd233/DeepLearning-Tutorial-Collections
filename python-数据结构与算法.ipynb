{
 "cells": [
  {
   "cell_type": "markdown",
   "metadata": {},
   "source": [
    "# 双向链表节点"
   ]
  },
  {
   "cell_type": "code",
   "execution_count": null,
   "metadata": {},
   "outputs": [],
   "source": [
    "class Node:\n",
    "    def __init__(self, item):\n",
    "        self.item = item\n",
    "        self.next = None\n",
    "        self.prev = None\n",
    "class DLinkList():\n",
    "    def __init__(self):\n",
    "        self._head = None\n",
    "    def is_empty(self):\n",
    "        return self._head == None\n",
    "    def length(self):\n",
    "        cur = self._head\n",
    "        count = 0\n",
    "        while cur != None:\n",
    "            count += 1\n",
    "            cur = cur.next\n",
    "        return count\n",
    "    def tracel(self):\n",
    "        cur = self._head\n",
    "        while cur != None:\n",
    "            print(cur.item)\n",
    "            cur = cur.next\n",
    "    def add(self, item):\n",
    "        node = Node(item)\n",
    "        if self.is_empty():\n",
    "            self._head = None\n",
    "        else:\n",
    "            node.next = self._head\n",
    "            self._head.prev = node\n",
    "            self._head = node"
   ]
  },
  {
   "cell_type": "code",
   "execution_count": 8,
   "metadata": {},
   "outputs": [
    {
     "data": {
      "text/plain": [
       "8"
      ]
     },
     "execution_count": 8,
     "metadata": {},
     "output_type": "execute_result"
    }
   ],
   "source": [
    "def fei(n):\n",
    "    if n == 0:#\n",
    "        return 0\n",
    "    elif n == 1:#此处不应该使用if， elif是多条件判断选择出口\n",
    "        return 1#因为此处使用了return 弹出，对下面不会造成影响\n",
    "    return fei(n-1) + fei(n-2)\n",
    "fei(6)"
   ]
  },
  {
   "cell_type": "markdown",
   "metadata": {},
   "source": [
    "## 二分查找\n",
    "时间复杂度O(logn)\n",
    "就是一半一半的查找，看目标值实在左边还是右边，然后替换左端点或者右端点，继续判断\n",
    "非递归版本："
   ]
  },
  {
   "cell_type": "code",
   "execution_count": null,
   "metadata": {},
   "outputs": [],
   "source": [
    "def binary_serach(li, val):\n",
    "    low = 0 \n",
    "    high = len(li) - 1\n",
    "    while low <= high:\n",
    "        mid = (low + high) // 2\n",
    "        if li[mid] == val:\n",
    "            return mid\n",
    "        elif li[mid] > val:\n",
    "            high = mid - 1\n",
    "        else:\n",
    "            low = mid + 1\n",
    "    else:\n",
    "        return None"
   ]
  },
  {
   "cell_type": "code",
   "execution_count": 59,
   "metadata": {},
   "outputs": [
    {
     "data": {
      "text/plain": [
       "8"
      ]
     },
     "execution_count": 59,
     "metadata": {},
     "output_type": "execute_result"
    }
   ],
   "source": [
    "def binary_search(li, val):\n",
    "    low = 0\n",
    "    high = len(li) - 1\n",
    "    if high <= 0:\n",
    "        return False\n",
    "    while low <= high:#此处要有等号,没有等号会对头尾元素的判断出现漏判\n",
    "        mid = (high + low) // 2\n",
    "        if val > li[mid]:\n",
    "            low = mid +1#此处更新坐标出现问题，因为判断为mid点后，该点已经访问，从该点左右侧继续迭代\n",
    "        elif val == li[mid]:\n",
    "            return mid\n",
    "        else:\n",
    "            high = mid -1#同理\n",
    "    return None\n",
    "li = [1,2,3,4,5,6,7,8,9]\n",
    "binary_search(li, 9)"
   ]
  },
  {
   "cell_type": "code",
   "execution_count": 56,
   "metadata": {},
   "outputs": [
    {
     "data": {
      "text/plain": [
       "0"
      ]
     },
     "execution_count": 56,
     "metadata": {},
     "output_type": "execute_result"
    }
   ],
   "source": [
    "#递归版本的二分查找\n",
    "def bin_search_rec(li, value, low, high):\n",
    "    if low <= high:\n",
    "        mid = (low + high) // 2\n",
    "        if li[mid] == value:#使用if-elif-else分支选择不同的递归路径\n",
    "            return mid\n",
    "        elif li[mid] > value:\n",
    "            return bin_search_rec(li, value, low, mid - 1)\n",
    "        else:\n",
    "            return bin_search_rec(li, value, mid + 1, high)\n",
    "    else:\n",
    "        return None\n",
    "l = [1, 2, 3, 4, 5, 6, 7, 8, 9]\n",
    "bin_search_rec(li, 1, 0 ,8)"
   ]
  },
  {
   "cell_type": "markdown",
   "metadata": {},
   "source": [
    "## 排序\n",
    "速度最慢的三个\n"
   ]
  },
  {
   "cell_type": "code",
   "execution_count": 89,
   "metadata": {},
   "outputs": [
    {
     "data": {
      "text/plain": [
       "[5, 6, 7, 9, 34, 32, 4, 7, 8, 4, 76]"
      ]
     },
     "execution_count": 89,
     "metadata": {},
     "output_type": "execute_result"
    }
   ],
   "source": [
    "def bubble_sort(li):#BUG\n",
    "    length = len(li)\n",
    "    if length > 0:\n",
    "        for i in range(length - 1):\n",
    "            flag = False#放在外层for循环里面，作为每次是否交换的falg\n",
    "            for j in range(1, length-i):\n",
    "                if li[j] < li[j-1]:\n",
    "                    li[j], li[j-1] = li[j-1], li[j]\n",
    "                    flag = True\n",
    "                if not flag:\n",
    "                    return li#如果没有发生交换，表明已经是有序数列，此时可以直接弹出\n",
    "        return li\n",
    "l = [9,5,6,7,76,34,32,4,7,8,4]\n",
    "bubble_sort(l)"
   ]
  },
  {
   "cell_type": "markdown",
   "metadata": {},
   "source": [
    "### 插入排序\n",
    "原理：把列表分为有序区和无序区。最初有序区只有一个元素"
   ]
  },
  {
   "cell_type": "markdown",
   "metadata": {},
   "source": [
    "## 堆排序\n",
    "树是一种数据结构：\n",
    "树是由n个节点组成的集合，根节点，其他节点可以分为m个集合，每个集合本身有事一棵树\n",
    "时间复杂度也是O(nlogn)"
   ]
  },
  {
   "cell_type": "code",
   "execution_count": 88,
   "metadata": {},
   "outputs": [],
   "source": [
    "def sift(li, left, right):\n",
    "    i = left#当做根节点\n",
    "    j = 2 * i + 1 # 父节点与左子树的编号下表关系\n",
    "    tmp = li[left]#取左子树的值\n",
    "    while j <= right:#\n",
    "        if j+1 <= right and li[j] < li[j+1]:#找到两个孩子中比较大的那个\n",
    "            j = j + 1\n",
    "        if tmp < li[j]:#如果孩子中比较大的那个\n",
    "            li[i] = li[j]\n",
    "            i = j#把交换了的哪个节点当做根节点，循环上面的操作\n",
    "            j = 2 * i + 1\n",
    "        else:\n",
    "            break\n",
    "    li[i] = tmp\n",
    "def heap_sort(li):\n",
    "    n = len(li)\n",
    "    for i in range(n //2 - 1, -1, -1):\n",
    "        sift(li, i, n-1)\n",
    "    for i in range(n-1, -1, -1):\n",
    "        li[0], li[i] = li[i], li[0]\n",
    "        sift(li, 0, i-1)        "
   ]
  },
  {
   "cell_type": "code",
   "execution_count": null,
   "metadata": {},
   "outputs": [],
   "source": []
  },
  {
   "cell_type": "code",
   "execution_count": null,
   "metadata": {},
   "outputs": [],
   "source": []
  },
  {
   "cell_type": "markdown",
   "metadata": {},
   "source": [
    "如果要取一个列表的top10，怎么做？  \n",
    "可以用堆来实现，取堆前十个数，构造成一个小根堆，然后一次遍历列表后面的数，如果比堆顶小\n",
    "可忽略，如果比堆顶大，则将堆顶替换成元素，然后进行一次向下调整，最终这个小根堆就是top10"
   ]
  }
 ],
 "metadata": {
  "kernelspec": {
   "display_name": "Python 3",
   "language": "python",
   "name": "python3"
  },
  "language_info": {
   "codemirror_mode": {
    "name": "ipython",
    "version": 3
   },
   "file_extension": ".py",
   "mimetype": "text/x-python",
   "name": "python",
   "nbconvert_exporter": "python",
   "pygments_lexer": "ipython3",
   "version": "3.6.7"
  }
 },
 "nbformat": 4,
 "nbformat_minor": 2
}
