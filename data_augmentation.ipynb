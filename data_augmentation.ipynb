{
 "cells": [
  {
   "cell_type": "code",
   "execution_count": 13,
   "metadata": {},
   "outputs": [],
   "source": [
    "from PIL import Image\n",
    "from PIL import ImageEnhance\n",
    "import os\n",
    "\n",
    "imgs = []\n",
    "labels = []\n",
    "\n",
    "\n",
    "def MultiCrop(img_path, size=1900):\n",
    "    img = Image.open(img_path)\n",
    "    trans = transform.Compose((transform.FiveCrop(size),))#使用transform的增强函数\n",
    "    imgs = trans(img)\n",
    "    for _, img in enumerate(imgs):\n",
    "        save_name = os.path.splitext(img_path)[0]#此处注意名称分离,使用splitext分离首字母和下面的字母\n",
    "        img.save(save_name+'_'+str(_)+'.jpg')\n",
    "        print(save_name+'_'+str(_)+'.jpg')\n",
    "    os.remove(img_path)#删除原来的数据\n",
    "\n",
    "def ContrastEnhance(img_path, contrast=2, if_retain=False):\n",
    "    save_name = os.path.splitext(img_path)[0]+'_CE'+str(contrast)+'.jpg'\n",
    "#     print('save: ', save_name)\n",
    "    img = Image.open(img_path)\n",
    "    pil_img = ImageEnhance.Contrast(img)\n",
    "    img = pil_img.enhance(contrast)\n",
    "    img.save(save_name)\n",
    "    print('save: ', save_name)\n",
    "    if not if_retain:\n",
    "        os.remove(img_path)#\n",
    "\n",
    "def RandomRotation(img_path, angles, ):\n",
    "    angles = list(angles)\n",
    "    img = Image.open(img_path)\n",
    "    trans = transform.Compose([Rotation(angles)])\n",
    "    save_name = os.path.splitext(save_name)[0]+'_Rotation'+'.jpg'\n",
    "    img = trans(img)\n",
    "    img.save(save_name)\n",
    "    \n",
    "class Rotation():\n",
    "    def __init__(self, angles):\n",
    "        self.angles = angles\n",
    "    def __call__(self, img):\n",
    "        assert isinstance(img, PIL.Image.Image)\n",
    "        return _random_rotation(img, self.angles)\n",
    "    def _random_rotation(img, angles):\n",
    "        import random\n",
    "        angles = list(angles)\n",
    "        angles_num = len(angles)\n",
    "        index = random.randint(0, angles_num - 1)\n",
    "        return img.rotate(angles[index])\n",
    "\n",
    "label_wrap = {'正常': 0,\n",
    "              '不导电': 1,\n",
    "              '擦花': 2,\n",
    "              '横条压凹': 3,\n",
    "              '桔皮': 4,\n",
    "              '漏底': 5,\n",
    "              '碰伤': 6,\n",
    "              '起坑': 7,\n",
    "              '凸粉': 8,\n",
    "              '涂层开裂': 9,\n",
    "              '脏点': 10,\n",
    "              '其他': 11,\n",
    "              }"
   ]
  },
  {
   "cell_type": "code",
   "execution_count": 17,
   "metadata": {},
   "outputs": [
    {
     "ename": "FileNotFoundError",
     "evalue": "[Errno 2] No such file or directory: '/home/wdd/Tianchi/data/guangdong_round1_train2_20180916'",
     "output_type": "error",
     "traceback": [
      "\u001b[0;31m---------------------------------------------------------------------------\u001b[0m",
      "\u001b[0;31mFileNotFoundError\u001b[0m                         Traceback (most recent call last)",
      "\u001b[0;32m<ipython-input-17-776e0cbef90a>\u001b[0m in \u001b[0;36m<module>\u001b[0;34m()\u001b[0m\n\u001b[1;32m      2\u001b[0m \u001b[0msave_path\u001b[0m \u001b[0;34m=\u001b[0m \u001b[0;34m'/home/wdd/Tianchi/aug_data'\u001b[0m\u001b[0;34m\u001b[0m\u001b[0m\n\u001b[1;32m      3\u001b[0m \u001b[0;34m\u001b[0m\u001b[0m\n\u001b[0;32m----> 4\u001b[0;31m \u001b[0;32mfor\u001b[0m \u001b[0mfirst_path\u001b[0m \u001b[0;32min\u001b[0m \u001b[0mos\u001b[0m\u001b[0;34m.\u001b[0m\u001b[0mlistdir\u001b[0m\u001b[0;34m(\u001b[0m\u001b[0mimage_path\u001b[0m\u001b[0;34m)\u001b[0m\u001b[0;34m:\u001b[0m\u001b[0;34m\u001b[0m\u001b[0m\n\u001b[0m\u001b[1;32m      5\u001b[0m     \u001b[0mfirst_path\u001b[0m \u001b[0;34m=\u001b[0m \u001b[0mos\u001b[0m\u001b[0;34m.\u001b[0m\u001b[0mpath\u001b[0m\u001b[0;34m.\u001b[0m\u001b[0mjoin\u001b[0m\u001b[0;34m(\u001b[0m\u001b[0mimage_path\u001b[0m\u001b[0;34m,\u001b[0m \u001b[0mfirst_path\u001b[0m\u001b[0;34m)\u001b[0m\u001b[0;34m\u001b[0m\u001b[0m\n\u001b[1;32m      6\u001b[0m     \u001b[0;32mif\u001b[0m \u001b[0;34m'无瑕疵样本'\u001b[0m \u001b[0;32min\u001b[0m \u001b[0mfirst_path\u001b[0m\u001b[0;34m:\u001b[0m\u001b[0;34m\u001b[0m\u001b[0m\n",
      "\u001b[0;31mFileNotFoundError\u001b[0m: [Errno 2] No such file or directory: '/home/wdd/Tianchi/data/guangdong_round1_train2_20180916'"
     ]
    }
   ],
   "source": [
    "image_path = '/home/wdd/Tianchi/data/guangdong_round1_train2_20180916'\n",
    "save_path = '/home/wdd/Tianchi/aug_data'\n",
    "\n",
    "for first_path in os.listdir(image_path):\n",
    "    first_path = os.path.join(image_path, first_path)\n",
    "    if '无瑕疵样本' in first_path:\n",
    "        for img in os.listdir(first_path):\n",
    "            file_path = os.path.join(first_path, img)\n",
    "            ContrastEnhance(file_path)\n",
    "    else:\n",
    "        for second_path in os.listdir(first_path):\n",
    "            defect_label = second_path\n",
    "            second_path = os.path.join(first_path, second_path)#一定要记得合并路径作为当前路径,读取图片全部使用绝对路径\n",
    "            if defect_label != '其他':\n",
    "                for img in os.listdir(second_path):\n",
    "                    file_path = os.path.join(second_path, img)\n",
    "#                     MultiCrop(file_path)\n",
    "                    ContrastEnhance(file_path)\n",
    "            else:\n",
    "                for third_path in os.listdir(second_path):\n",
    "                    third_path = os.path.join(second_path, third_path)#\n",
    "                    if os.path.isdir(third_path):\n",
    "                        for img in os.listdir(third_path):\n",
    "                            if 'DS_Store' not in img:\n",
    "                                file_path = os.path.join(third_path, img)\n",
    "                                ContrastEnhance(file_path)\n",
    "#不要多次重复执行,这样会生成很多张图片的"
   ]
  },
  {
   "cell_type": "code",
   "execution_count": null,
   "metadata": {},
   "outputs": [],
   "source": []
  },
  {
   "cell_type": "code",
   "execution_count": 6,
   "metadata": {},
   "outputs": [],
   "source": [
    "class Average():\n",
    "    def __init__(self):\n",
    "        self.reset()\n",
    "    def reset(self):\n",
    "        self.var = 0\n",
    "        self.avg = 0\n",
    "        self.sum = 0\n",
    "        self.count = 0\n",
    "    def update(self, val, n=1):\n",
    "        self.var = var\n",
    "        self.sum += var * n\n",
    "        self.count += n\n",
    "        self.avg = self.sum / self.count"
   ]
  },
  {
   "cell_type": "code",
   "execution_count": null,
   "metadata": {},
   "outputs": [],
   "source": []
  }
 ],
 "metadata": {
  "kernelspec": {
   "display_name": "Python 3",
   "language": "python",
   "name": "python3"
  },
  "language_info": {
   "codemirror_mode": {
    "name": "ipython",
    "version": 3
   },
   "file_extension": ".py",
   "mimetype": "text/x-python",
   "name": "python",
   "nbconvert_exporter": "python",
   "pygments_lexer": "ipython3",
   "version": "3.6.7"
  }
 },
 "nbformat": 4,
 "nbformat_minor": 2
}
