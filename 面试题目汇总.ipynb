{
 "cells": [
  {
   "cell_type": "markdown",
   "metadata": {},
   "source": [
    "# 爱奇艺面试流程\n",
    "### 自我介绍\n",
    "### 基础知识考察\n",
    "* 字符串移除空格问题(需要考虑时间复杂度和空间复杂度)\n",
    "* Linux系统操作指令(使用cat more查看文件的内容，grep进行查找)\n",
    "* 机器学习基本知识提问(P,R,AUC,ROC)内容的提问\n",
    "### 根据简历询问相关项目\n",
    "面试官会关注与他们工作内容相关的项目内容，如果他对该项目比较感兴趣或者熟悉，他会详细询问具体的做法和方案。要确保对简历中的项目内容十分熟悉，一旦被问\n",
    "### "
   ]
  },
  {
   "cell_type": "markdown",
   "metadata": {},
   "source": [
    "## 面试官出发的校招面试经验分享\n",
    "精简简历，1页A4足矣\n",
    "重点是什么：\n",
    "实习经验\n",
    "专业成绩\n",
    "学校项目\n",
    "其他都是多余的，80分以下不要放照片\n",
    "高分高能\n",
    "\n",
    "## 刷题的重要性\n",
    "链表翻转，数组的题目\n",
    "孰能生巧，临场发挥靠不住\n",
    "python上下弹性非常大\n",
    "Java做主力开发语言\n",
    "\n",
    "## BAT中等难度，20-30min一道题目\n",
    "降低语速，让自己的表达更从容一点，\n",
    "## 白板编程的要点\n",
    "先确认题目和边界条件\n",
    "不要先调入实现细节\n",
    "先实现，再优化\n",
    "没有思路怎么办\n",
    "注意边界条件\n",
    "手工验证一遍再提交\n",
    "我觉得这个地方可以优化，数组有序，一次循环能不能找到两个数字\n",
    "## 我觉得这个 \n"
   ]
  }
 ],
 "metadata": {
  "kernelspec": {
   "display_name": "Python 3",
   "language": "python",
   "name": "python3"
  },
  "language_info": {
   "codemirror_mode": {
    "name": "ipython",
    "version": 3
   },
   "file_extension": ".py",
   "mimetype": "text/x-python",
   "name": "python",
   "nbconvert_exporter": "python",
   "pygments_lexer": "ipython3",
   "version": "3.6.6"
  }
 },
 "nbformat": 4,
 "nbformat_minor": 2
}
