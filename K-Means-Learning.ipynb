{
 "cells": [
  {
   "cell_type": "code",
   "execution_count": 10,
   "metadata": {
    "collapsed": true
   },
   "outputs": [],
   "source": [
    "import numpy as np\n",
    "import matplotlib.pyplot as plt"
   ]
  },
  {
   "cell_type": "code",
   "execution_count": 11,
   "metadata": {},
   "outputs": [
    {
     "data": {
      "text/plain": [
       "array([ 1.5,  2.5,  3.5])"
      ]
     },
     "execution_count": 11,
     "metadata": {},
     "output_type": "execute_result"
    }
   ],
   "source": [
    "a=np.arange(6).reshape((2,3))\n",
    "\n",
    "np.mean(a,axis=0)#变化轴是第0轴，故输出三个值\n",
    "# print ('a:',a[0])"
   ]
  },
  {
   "cell_type": "code",
   "execution_count": 12,
   "metadata": {},
   "outputs": [
    {
     "name": "stdout",
     "output_type": "stream",
     "text": [
      "[False  True  True  True  True  True  True  True  True  True]\n"
     ]
    },
    {
     "data": {
      "text/plain": [
       "[0, 1, 4, 9, 16, 25, 36, 49, 64, 81]"
      ]
     },
     "execution_count": 12,
     "metadata": {},
     "output_type": "execute_result"
    }
   ],
   "source": [
    "b=np.arange(10)\n",
    "def fun(x):\n",
    "    return x**2\n",
    "c=(b[:]!=0)\n",
    "print (c)\n",
    "[fun(x) for x in b]\n"
   ]
  },
  {
   "cell_type": "code",
   "execution_count": 13,
   "metadata": {},
   "outputs": [
    {
     "name": "stdout",
     "output_type": "stream",
     "text": [
      "True\n"
     ]
    }
   ],
   "source": [
    "b=[0,0,1,1]\n",
    "print (b[:]!=0)"
   ]
  },
  {
   "cell_type": "code",
   "execution_count": 51,
   "metadata": {},
   "outputs": [],
   "source": [
    "class K_means():\n",
    "    def __init__(self,points,k=2):\n",
    "        self.points=points\n",
    "        self.num=points.shape[0]\n",
    "        self.clusterNum=k\n",
    "        self.clusterChanged=True\n",
    "        self.meanVector=np.zeros((k,2))\n",
    "        for i in range(k):\n",
    "            index=int(np.random.uniform(0,self.num))\n",
    "            self.meanVector[i,:]=points[index,:]\n",
    "        self.clusterAssement=np.mat(np.zeros((self.num,2)))#存储样本点和距离的关系数组\n",
    "    def calDistance(v1,v2):\n",
    "        distance=sum(np.power(v2-v1,2))\n",
    "#         print (distance)\n",
    "        return distance\n",
    "    def cluster(self):\n",
    "        while self.clusterChanged:\n",
    "            self.clusterChanged=False\n",
    "            for i in range(self.num):\n",
    "                min_dist=999\n",
    "                min_index=0\n",
    "                for j in range(self.clusterNum):\n",
    "#                     print(self.meanVector[j],self.points[i])\n",
    "                    temp_dist=K_means.calDistance(self.meanVector[j],self.points[i])\n",
    "                    print ('the distance between is :',self.points[i],self.meanVector[j],temp_dist)\n",
    "                    if temp_dist<min_dist:\n",
    "                        min_dist=temp_dist\n",
    "                        min_index=j\n",
    "                if self.clusterAssement[i,0]!=min_index:\n",
    "                    self.clusterChanged=True\n",
    "                    self.clusterAssement[i,:]=min_index,min_dist\n",
    "            print ('the %d cluster is: '%i)\n",
    "            print (self.clusterAssement)\n",
    "            for j in range(self.clusterNum):\n",
    "                pointsInCluster=points[np.nonzero(self.clusterAssement[:,0].A==j)[0]]\n",
    "                print ('pointsInCluster',pointsInCluster)\n",
    "                self.meanVector[j,:]=np.mean(points,axis=0)\n",
    "#                 print ('meanVector is :')\n",
    "#                 print (self.meanVector)\n",
    "            \n",
    "                    \n",
    "    "
   ]
  },
  {
   "cell_type": "code",
   "execution_count": null,
   "metadata": {
    "collapsed": true
   },
   "outputs": [],
   "source": []
  }
 ],
 "metadata": {
  "kernelspec": {
   "display_name": "Python 3",
   "language": "python",
   "name": "python3"
  },
  "language_info": {
   "codemirror_mode": {
    "name": "ipython",
    "version": 3
   },
   "file_extension": ".py",
   "mimetype": "text/x-python",
   "name": "python",
   "nbconvert_exporter": "python",
   "pygments_lexer": "ipython3",
   "version": "3.6.3"
  }
 },
 "nbformat": 4,
 "nbformat_minor": 2
}
